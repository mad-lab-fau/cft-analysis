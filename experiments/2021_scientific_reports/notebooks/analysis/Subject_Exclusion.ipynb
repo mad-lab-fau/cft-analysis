{
 "cells": [
  {
   "cell_type": "markdown",
   "metadata": {},
   "source": [
    "# Subject Exclusion"
   ]
  },
  {
   "cell_type": "markdown",
   "metadata": {},
   "source": [
    "This notebook assesses whether any subjects need to be excluded from furhter analysis."
   ]
  },
  {
   "cell_type": "markdown",
   "metadata": {},
   "source": [
    "## Imports and Helper Functions"
   ]
  },
  {
   "cell_type": "code",
   "execution_count": 91,
   "metadata": {},
   "outputs": [
    {
     "name": "stdout",
     "output_type": "stream",
     "text": [
      "The autoreload extension is already loaded. To reload it, use:\n",
      "  %reload_ext autoreload\n"
     ]
    }
   ],
   "source": [
    "import re\n",
    "from pathlib import Path\n",
    "\n",
    "import pandas as pd\n",
    "import numpy as np\n",
    "import pingouin as pg\n",
    "\n",
    "import matplotlib.pyplot as plt\n",
    "import seaborn as sns\n",
    "\n",
    "from scipy.stats import zscore\n",
    "\n",
    "import biopsykit as bp\n",
    "\n",
    "%load_ext autoreload\n",
    "%autoreload 2\n",
    "%matplotlib widget"
   ]
  },
  {
   "cell_type": "code",
   "execution_count": 92,
   "metadata": {},
   "outputs": [
    {
     "data": {
      "text/html": [
       "<svg  width=\"330\" height=\"55\"><rect x=\"0\" y=\"0\" width=\"55\" height=\"55\" style=\"fill:#003865;stroke-width:2;stroke:rgb(255,255,255)\"/><rect x=\"55\" y=\"0\" width=\"55\" height=\"55\" style=\"fill:#98a4ae;stroke-width:2;stroke:rgb(255,255,255)\"/><rect x=\"110\" y=\"0\" width=\"55\" height=\"55\" style=\"fill:#c99313;stroke-width:2;stroke:rgb(255,255,255)\"/><rect x=\"165\" y=\"0\" width=\"55\" height=\"55\" style=\"fill:#00b1eb;stroke-width:2;stroke:rgb(255,255,255)\"/><rect x=\"220\" y=\"0\" width=\"55\" height=\"55\" style=\"fill:#009b77;stroke-width:2;stroke:rgb(255,255,255)\"/><rect x=\"275\" y=\"0\" width=\"55\" height=\"55\" style=\"fill:#8d1429;stroke-width:2;stroke:rgb(255,255,255)\"/></svg>"
      ],
      "text/plain": [
       "[(0.0, 0.2196078431372549, 0.396078431372549),\n",
       " (0.596078431372549, 0.6431372549019608, 0.6823529411764706),\n",
       " (0.788235294117647, 0.5764705882352941, 0.07450980392156863),\n",
       " (0.0, 0.6941176470588235, 0.9215686274509803),\n",
       " (0.0, 0.6078431372549019, 0.4666666666666667),\n",
       " (0.5529411764705883, 0.0784313725490196, 0.1607843137254902)]"
      ]
     },
     "execution_count": 92,
     "metadata": {},
     "output_type": "execute_result"
    }
   ],
   "source": [
    "plt.close(\"all\")\n",
    "\n",
    "palette = bp.colors.fau_palette\n",
    "sns.set_theme(context=\"notebook\", style=\"ticks\", palette=palette)\n",
    "\n",
    "plt.rcParams['figure.figsize'] = (10, 5)\n",
    "plt.rcParams['pdf.fonttype'] = 42\n",
    "plt.rcParams['mathtext.default'] = \"regular\"\n",
    "\n",
    "palette"
   ]
  },
  {
   "cell_type": "markdown",
   "metadata": {},
   "source": [
    "## Data Import"
   ]
  },
  {
   "cell_type": "code",
   "execution_count": 93,
   "metadata": {},
   "outputs": [],
   "source": [
    "base_path = Path(\"../../../data/processed\")\n",
    "ecg_path = base_path.joinpath(\"ecg\")\n",
    "saliva_path = base_path.joinpath(\"saliva\")\n",
    "quest_path = base_path.joinpath(\"questionnaire\")\n",
    "\n",
    "export_path = Path(\"../../../data/for_analysis\")\n",
    "bp.utils.file_handling.mkdirs(export_path)"
   ]
  },
  {
   "cell_type": "markdown",
   "metadata": {},
   "source": [
    "### HR(V)"
   ]
  },
  {
   "cell_type": "code",
   "execution_count": 94,
   "metadata": {},
   "outputs": [],
   "source": [
    "hr_mean_normalized = bp.io.load_wide_format_csv(\n",
    "    ecg_path.joinpath(\"cft_hr_mean_normalized.csv\")\n",
    ")\n",
    "\n",
    "hr_measures = bp.io.load_wide_format_csv(\n",
    "    ecg_path.joinpath(\"cft_measures_merged.csv\")\n",
    ")\n",
    "\n",
    "cft_parameter = bp.io.load_wide_format_csv(\n",
    "    ecg_path.joinpath(\"cft_parameter.csv\"),\n",
    "    index_cols=[\"condition\", \"subject\", \"phase\"]\n",
    ")\n",
    "\n",
    "hr_ensemble = bp.io.load_pandas_dict_excel(\n",
    "    ecg_path.joinpath(\"cft_hr_ensemble.xlsx\")\n",
    ")"
   ]
  },
  {
   "cell_type": "markdown",
   "metadata": {},
   "source": [
    "### Saliva"
   ]
  },
  {
   "cell_type": "code",
   "execution_count": 95,
   "metadata": {},
   "outputs": [],
   "source": [
    "cort_samples = bp.io.load_wide_format_csv(\n",
    "    saliva_path.joinpath(\"cortisol_samples.csv\")\n",
    ")\n",
    "\n",
    "cort_features = bp.io.load_wide_format_csv(\n",
    "    saliva_path.joinpath(\"cortisol_features.csv\")\n",
    ")"
   ]
  },
  {
   "cell_type": "markdown",
   "metadata": {},
   "source": [
    "### Questionnaire"
   ]
  },
  {
   "cell_type": "code",
   "execution_count": 96,
   "metadata": {},
   "outputs": [],
   "source": [
    "quest_data = bp.io.load_wide_format_csv(\n",
    "    quest_path.joinpath(\"questionnaire_data.csv\")\n",
    ")"
   ]
  },
  {
   "cell_type": "markdown",
   "metadata": {},
   "source": [
    "## Check for Subject Exclusion Criteria"
   ]
  },
  {
   "cell_type": "markdown",
   "metadata": {},
   "source": [
    "### High Initial Cortisol Levels\n",
    "\n",
    "Subjects are excluded if they have a high initial cortisol level (sample `S0`).\n",
    "\n",
    "Exclusion criteria: $\\geq 3\\sigma$"
   ]
  },
  {
   "cell_type": "code",
   "execution_count": 97,
   "metadata": {},
   "outputs": [],
   "source": [
    "cort_samples_s0 = cort_samples.xs(\"S0\", level=\"sample\")"
   ]
  },
  {
   "cell_type": "code",
   "execution_count": 98,
   "metadata": {},
   "outputs": [
    {
     "data": {
      "text/html": [
       "<div>\n",
       "<style scoped>\n",
       "    .dataframe tbody tr th:only-of-type {\n",
       "        vertical-align: middle;\n",
       "    }\n",
       "\n",
       "    .dataframe tbody tr th {\n",
       "        vertical-align: top;\n",
       "    }\n",
       "\n",
       "    .dataframe thead th {\n",
       "        text-align: right;\n",
       "    }\n",
       "</style>\n",
       "<table border=\"1\" class=\"dataframe\">\n",
       "  <thead>\n",
       "    <tr style=\"text-align: right;\">\n",
       "      <th></th>\n",
       "      <th></th>\n",
       "      <th></th>\n",
       "      <th>cortisol</th>\n",
       "    </tr>\n",
       "    <tr>\n",
       "      <th>condition</th>\n",
       "      <th>subject</th>\n",
       "      <th>sample</th>\n",
       "      <th></th>\n",
       "    </tr>\n",
       "  </thead>\n",
       "  <tbody>\n",
       "    <tr>\n",
       "      <th rowspan=\"7\" valign=\"top\">CFT</th>\n",
       "      <th rowspan=\"7\" valign=\"top\">Vp27</th>\n",
       "      <th>S0</th>\n",
       "      <td>9.7073</td>\n",
       "    </tr>\n",
       "    <tr>\n",
       "      <th>S1</th>\n",
       "      <td>10.3513</td>\n",
       "    </tr>\n",
       "    <tr>\n",
       "      <th>S2</th>\n",
       "      <td>10.6490</td>\n",
       "    </tr>\n",
       "    <tr>\n",
       "      <th>S3</th>\n",
       "      <td>12.0400</td>\n",
       "    </tr>\n",
       "    <tr>\n",
       "      <th>S4</th>\n",
       "      <td>14.0805</td>\n",
       "    </tr>\n",
       "    <tr>\n",
       "      <th>S5</th>\n",
       "      <td>13.9135</td>\n",
       "    </tr>\n",
       "    <tr>\n",
       "      <th>S6</th>\n",
       "      <td>13.1495</td>\n",
       "    </tr>\n",
       "  </tbody>\n",
       "</table>\n",
       "</div>"
      ],
      "text/plain": [
       "                          cortisol\n",
       "condition subject sample          \n",
       "CFT       Vp27    S0        9.7073\n",
       "                  S1       10.3513\n",
       "                  S2       10.6490\n",
       "                  S3       12.0400\n",
       "                  S4       14.0805\n",
       "                  S5       13.9135\n",
       "                  S6       13.1495"
      ]
     },
     "execution_count": 98,
     "metadata": {},
     "output_type": "execute_result"
    }
   ],
   "source": [
    "cort_samples.where((zscore(cort_samples_s0) > 3.0)).dropna()"
   ]
  },
  {
   "cell_type": "markdown",
   "metadata": {},
   "source": [
    "**Conclusion**:\n",
    "\n",
    "Remove `Vp22`"
   ]
  },
  {
   "cell_type": "markdown",
   "metadata": {},
   "source": [
    "### Heart Rate Outlier"
   ]
  },
  {
   "cell_type": "markdown",
   "metadata": {},
   "source": [
    "Subjects are excluded if their heart rate response is an outlier, i.e., does not represent the population.\n",
    "\n",
    "\n",
    "Exclusion criteria: $\\geq 3\\sigma$"
   ]
  },
  {
   "cell_type": "code",
   "execution_count": 99,
   "metadata": {},
   "outputs": [
    {
     "data": {
      "text/html": [
       "<div>\n",
       "<style scoped>\n",
       "    .dataframe tbody tr th:only-of-type {\n",
       "        vertical-align: middle;\n",
       "    }\n",
       "\n",
       "    .dataframe tbody tr th {\n",
       "        vertical-align: top;\n",
       "    }\n",
       "\n",
       "    .dataframe thead tr th {\n",
       "        text-align: left;\n",
       "    }\n",
       "\n",
       "    .dataframe thead tr:last-of-type th {\n",
       "        text-align: right;\n",
       "    }\n",
       "</style>\n",
       "<table border=\"1\" class=\"dataframe\">\n",
       "  <thead>\n",
       "    <tr>\n",
       "      <th></th>\n",
       "      <th></th>\n",
       "      <th></th>\n",
       "      <th colspan=\"3\" halign=\"left\">Heart_Rate</th>\n",
       "    </tr>\n",
       "    <tr>\n",
       "      <th></th>\n",
       "      <th></th>\n",
       "      <th>phase</th>\n",
       "      <th>MIST1</th>\n",
       "      <th>MIST2</th>\n",
       "      <th>MIST3</th>\n",
       "    </tr>\n",
       "    <tr>\n",
       "      <th>condition</th>\n",
       "      <th>subject</th>\n",
       "      <th>subphase</th>\n",
       "      <th></th>\n",
       "      <th></th>\n",
       "      <th></th>\n",
       "    </tr>\n",
       "  </thead>\n",
       "  <tbody>\n",
       "    <tr>\n",
       "      <th rowspan=\"4\" valign=\"top\">CFT</th>\n",
       "      <th rowspan=\"4\" valign=\"top\">Vp10</th>\n",
       "      <th>AT</th>\n",
       "      <td>5.113052</td>\n",
       "      <td>72.902709</td>\n",
       "      <td>88.850159</td>\n",
       "    </tr>\n",
       "    <tr>\n",
       "      <th>BL</th>\n",
       "      <td>0.581179</td>\n",
       "      <td>10.483095</td>\n",
       "      <td>26.881095</td>\n",
       "    </tr>\n",
       "    <tr>\n",
       "      <th>FB</th>\n",
       "      <td>19.066959</td>\n",
       "      <td>35.185565</td>\n",
       "      <td>56.648804</td>\n",
       "    </tr>\n",
       "    <tr>\n",
       "      <th>RP_CFI</th>\n",
       "      <td>-8.587217</td>\n",
       "      <td>10.425869</td>\n",
       "      <td>23.947121</td>\n",
       "    </tr>\n",
       "  </tbody>\n",
       "</table>\n",
       "</div>"
      ],
      "text/plain": [
       "                           Heart_Rate                      \n",
       "phase                           MIST1      MIST2      MIST3\n",
       "condition subject subphase                                 \n",
       "CFT       Vp10    AT         5.113052  72.902709  88.850159\n",
       "                  BL         0.581179  10.483095  26.881095\n",
       "                  FB        19.066959  35.185565  56.648804\n",
       "                  RP_CFI    -8.587217  10.425869  23.947121"
      ]
     },
     "execution_count": 99,
     "metadata": {},
     "output_type": "execute_result"
    }
   ],
   "source": [
    "hr_mask = zscore(hr_mean_normalized.xs(\"AT\", level=\"subphase\").unstack(\"phase\")) > 3\n",
    "hr_mean_normalized.where(hr_mask.any(axis=1)).dropna().unstack(\"phase\")"
   ]
  },
  {
   "cell_type": "markdown",
   "metadata": {},
   "source": [
    "**Conclusion**:\n",
    "\n",
    "Remove `Vp10`"
   ]
  },
  {
   "cell_type": "markdown",
   "metadata": {},
   "source": [
    "### CFT Non-Responder"
   ]
  },
  {
   "cell_type": "markdown",
   "metadata": {},
   "source": [
    "Subjects are excluded if they do not respond to the CFT at all, i.e., do not show an decrease in heart rate relative to Baseline."
   ]
  },
  {
   "cell_type": "markdown",
   "metadata": {},
   "source": [
    "Exclusion criteria: $\\text{HR}_{CFI} > 0$"
   ]
  },
  {
   "cell_type": "code",
   "execution_count": 100,
   "metadata": {},
   "outputs": [
    {
     "data": {
      "text/html": [
       "<div>\n",
       "<style scoped>\n",
       "    .dataframe tbody tr th:only-of-type {\n",
       "        vertical-align: middle;\n",
       "    }\n",
       "\n",
       "    .dataframe tbody tr th {\n",
       "        vertical-align: top;\n",
       "    }\n",
       "\n",
       "    .dataframe thead th {\n",
       "        text-align: right;\n",
       "    }\n",
       "</style>\n",
       "<table border=\"1\" class=\"dataframe\">\n",
       "  <thead>\n",
       "    <tr style=\"text-align: right;\">\n",
       "      <th></th>\n",
       "      <th></th>\n",
       "      <th>Heart_Rate</th>\n",
       "    </tr>\n",
       "    <tr>\n",
       "      <th>subject</th>\n",
       "      <th>phase</th>\n",
       "      <th></th>\n",
       "    </tr>\n",
       "  </thead>\n",
       "  <tbody>\n",
       "    <tr>\n",
       "      <th rowspan=\"3\" valign=\"top\">Vp07</th>\n",
       "      <th>MIST1</th>\n",
       "      <td>6.941204</td>\n",
       "    </tr>\n",
       "    <tr>\n",
       "      <th>MIST2</th>\n",
       "      <td>6.671656</td>\n",
       "    </tr>\n",
       "    <tr>\n",
       "      <th>MIST3</th>\n",
       "      <td>31.801320</td>\n",
       "    </tr>\n",
       "  </tbody>\n",
       "</table>\n",
       "</div>"
      ],
      "text/plain": [
       "               Heart_Rate\n",
       "subject phase            \n",
       "Vp07    MIST1    6.941204\n",
       "        MIST2    6.671656\n",
       "        MIST3   31.801320"
      ]
     },
     "execution_count": 100,
     "metadata": {},
     "output_type": "execute_result"
    }
   ],
   "source": [
    "hr_mean_cft = hr_mean_normalized.xs(\"CFT\", level=\"condition\").xs(\"RP_CFI\", level=\"subphase\")\n",
    "hr_mean_cft.where(hr_mean_cft.groupby(\"subject\").apply(lambda df: (df > 0).all())).dropna()"
   ]
  },
  {
   "cell_type": "markdown",
   "metadata": {},
   "source": [
    "**Conclusion**:\n",
    "\n",
    "Remove `Vp07`"
   ]
  },
  {
   "cell_type": "markdown",
   "metadata": {},
   "source": [
    "## Apply Subject Exclusion"
   ]
  },
  {
   "cell_type": "code",
   "execution_count": 101,
   "metadata": {},
   "outputs": [],
   "source": [
    "exluded_subjects = [\"Vp22\", \"Vp07\", \"Vp10\"]"
   ]
  },
  {
   "cell_type": "markdown",
   "metadata": {},
   "source": [
    "### HR(V)"
   ]
  },
  {
   "cell_type": "code",
   "execution_count": 102,
   "metadata": {},
   "outputs": [
    {
     "name": "stderr",
     "output_type": "stream",
     "text": [
      "/Users/Richer/Documents/PhD/Projects/BioPsyKit/src/biopsykit/utils/data_processing.py:185: UserWarning: Not all subjects of ['Vp22', 'Vp07', 'Vp10'] exist in 'cft_parameter'!\n",
      "  warnings.warn(\"Not all subjects of {} exist in '{}'!\".format(excluded_subjects, dataset_name))\n"
     ]
    }
   ],
   "source": [
    "hr_mean_normalized = bp.utils.data_processing.exclude_subjects(exluded_subjects, hr_mean_normalized=hr_mean_normalized)\n",
    "hr_measures = bp.utils.data_processing.exclude_subjects(exluded_subjects, hr_measures=hr_measures)\n",
    "cft_parameter = bp.utils.data_processing.exclude_subjects(exluded_subjects, cft_parameter=cft_parameter)\n",
    "hr_ensemble = {key: df_hr.drop(columns=exluded_subjects, errors=\"ignore\") for key, df_hr in hr_ensemble.items()}"
   ]
  },
  {
   "cell_type": "markdown",
   "metadata": {},
   "source": [
    "### Saliva"
   ]
  },
  {
   "cell_type": "code",
   "execution_count": 103,
   "metadata": {},
   "outputs": [],
   "source": [
    "cort_samples = bp.utils.data_processing.exclude_subjects(exluded_subjects, cort_samples=cort_samples)\n",
    "cort_features = bp.utils.data_processing.exclude_subjects(exluded_subjects, cort_features=cort_features)"
   ]
  },
  {
   "cell_type": "markdown",
   "metadata": {},
   "source": [
    "### Questionnaire"
   ]
  },
  {
   "cell_type": "code",
   "execution_count": 104,
   "metadata": {},
   "outputs": [],
   "source": [
    "quest_data = bp.utils.data_processing.exclude_subjects(exluded_subjects, quest_data=quest_data)"
   ]
  },
  {
   "cell_type": "markdown",
   "metadata": {},
   "source": [
    "## Export Data with Excluded Subjects"
   ]
  },
  {
   "cell_type": "code",
   "execution_count": 105,
   "metadata": {},
   "outputs": [],
   "source": [
    "hr_mean_normalized.to_csv(export_path.joinpath(\"cft_hr_mean_normalized.csv\"))\n",
    "hr_measures.to_csv(export_path.joinpath(\"cft_measures_merged.csv\"))\n",
    "cft_parameter.to_csv(export_path.joinpath(\"cft_parameter.csv\"))\n",
    "bp.io.write_pandas_dict_excel(hr_ensemble, export_path.joinpath(\"cft_hr_ensemble.xlsx\"))"
   ]
  },
  {
   "cell_type": "code",
   "execution_count": 106,
   "metadata": {},
   "outputs": [],
   "source": [
    "cort_samples.to_csv(export_path.joinpath(\"cortisol_samples.csv\"))\n",
    "cort_features.to_csv(export_path.joinpath(\"cortisol_features.csv\"))"
   ]
  },
  {
   "cell_type": "code",
   "execution_count": 107,
   "metadata": {},
   "outputs": [],
   "source": [
    "quest_data.to_csv(export_path.joinpath(\"questionnaire_data.csv\"))"
   ]
  },
  {
   "cell_type": "code",
   "execution_count": null,
   "metadata": {},
   "outputs": [],
   "source": []
  }
 ],
 "metadata": {
  "kernelspec": {
   "display_name": "cft_analysis",
   "language": "python",
   "name": "cft_analysis"
  },
  "language_info": {
   "codemirror_mode": {
    "name": "ipython",
    "version": 3
   },
   "file_extension": ".py",
   "mimetype": "text/x-python",
   "name": "python",
   "nbconvert_exporter": "python",
   "pygments_lexer": "ipython3",
   "version": "3.8.3"
  }
 },
 "nbformat": 4,
 "nbformat_minor": 4
}
