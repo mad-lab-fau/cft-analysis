{
 "cells": [
  {
   "cell_type": "markdown",
   "metadata": {},
   "source": [
    "# CFT – Saliva Analysis"
   ]
  },
  {
   "cell_type": "markdown",
   "metadata": {},
   "source": [
    "## Setup and Helper Functions"
   ]
  },
  {
   "cell_type": "code",
   "execution_count": null,
   "metadata": {},
   "outputs": [],
   "source": [
    "import re\n",
    "from pathlib import Path\n",
    "\n",
    "import pandas as pd\n",
    "import numpy as np\n",
    "import pingouin as pg\n",
    "\n",
    "import matplotlib.pyplot as plt\n",
    "import seaborn as sns\n",
    "\n",
    "import biopsykit as bp\n",
    "from biopsykit.protocols import MIST\n",
    "\n",
    "%load_ext autoreload\n",
    "%autoreload 2\n",
    "%matplotlib widget"
   ]
  },
  {
   "cell_type": "code",
   "execution_count": null,
   "metadata": {},
   "outputs": [],
   "source": [
    "plt.close(\"all\")\n",
    "\n",
    "palette = bp.colors.fau_palette\n",
    "sns.set_theme(context=\"notebook\", style=\"ticks\", palette=palette)\n",
    "\n",
    "plt.rcParams['figure.figsize'] = (10, 5)\n",
    "plt.rcParams['pdf.fonttype'] = 42\n",
    "plt.rcParams['mathtext.default'] = \"regular\"\n",
    "\n",
    "palette"
   ]
  },
  {
   "cell_type": "markdown",
   "metadata": {},
   "source": [
    "## Import Data"
   ]
  },
  {
   "cell_type": "code",
   "execution_count": null,
   "metadata": {},
   "outputs": [],
   "source": [
    "base_path = Path(\"../../../\")\n",
    "data_path = base_path.joinpath(\"data/for_analysis\")\n",
    "\n",
    "results_path = base_path.joinpath(\"results\")\n",
    "plot_path = results_path.joinpath(\"plots\")\n",
    "stats_path = results_path.joinpath(\"statistics\")\n",
    "\n",
    "bp.utils.file_handling.mkdirs([results_path, plot_path, stats_path])"
   ]
  },
  {
   "cell_type": "code",
   "execution_count": null,
   "metadata": {},
   "outputs": [],
   "source": [
    "cort_samples = bp.io.load_long_format_csv(\n",
    "    data_path.joinpath(\"cortisol_samples.csv\")\n",
    ")\n",
    "\n",
    "cort_features = bp.io.load_long_format_csv(\n",
    "    data_path.joinpath(\"cortisol_features.csv\")\n",
    ")\n",
    "\n",
    "display(cort_samples.head())\n",
    "display(cort_features.head())"
   ]
  },
  {
   "cell_type": "markdown",
   "metadata": {},
   "source": [
    "Drop cortisol sample `S0` for further analysis (only used to check for high cortisol baseline)"
   ]
  },
  {
   "cell_type": "code",
   "execution_count": null,
   "metadata": {},
   "outputs": [],
   "source": [
    "cort_samples = cort_samples.drop(\"S0\", level=\"sample\")"
   ]
  },
  {
   "cell_type": "code",
   "execution_count": null,
   "metadata": {},
   "outputs": [],
   "source": [
    "sample_times = [-1, 0, 10, 20, 30, 40] # times without S0\n",
    "\n",
    "hue_order=[\"Control\", \"CFT\"]"
   ]
  },
  {
   "cell_type": "code",
   "execution_count": null,
   "metadata": {},
   "outputs": [],
   "source": [
    "mist = MIST.from_file(data_path.joinpath(\"../mist_cft.json\"))\n",
    "mist"
   ]
  },
  {
   "cell_type": "code",
   "execution_count": null,
   "metadata": {},
   "outputs": [],
   "source": [
    "mist.add_saliva_data(cort_samples, \"cortisol\", sample_times=sample_times)"
   ]
  },
  {
   "cell_type": "markdown",
   "metadata": {},
   "source": [
    "## Descriptive Analysis"
   ]
  },
  {
   "cell_type": "markdown",
   "metadata": {},
   "source": [
    "Mean cortisol increase after MIST:"
   ]
  },
  {
   "cell_type": "code",
   "execution_count": null,
   "metadata": {},
   "outputs": [],
   "source": [
    "cort_max_inc = cort_features.xs(\"max_inc_percent\", level=\"saliva_feature\")\n",
    "\n",
    "cort_max_inc.groupby(\"condition\").mean()"
   ]
  },
  {
   "cell_type": "markdown",
   "metadata": {},
   "source": [
    "## Statistical Analysis"
   ]
  },
  {
   "cell_type": "markdown",
   "metadata": {},
   "source": [
    "### MIST-induced Cortisol Increase"
   ]
  },
  {
   "cell_type": "markdown",
   "metadata": {},
   "source": [
    "**Population**: Control group\n",
    "\n",
    "**Analysis**: Check whether cortisol increased significantly after the MIST\n",
    "* Procedure: Paired t-tests between cortisol sample before MIST (`S1`) and the maximum of all samples after MIST (`S2`-`S6`)\n",
    "* Expected Result: Significant cortisol increase as response fo the MIST\n",
    "\n",
    "**Findings**: \n",
    "* The MIST causes an effective activation of the HPA axis, indicated by a significant increase in cortisol after the MIST for the Control group"
   ]
  },
  {
   "cell_type": "markdown",
   "metadata": {},
   "source": [
    "#### Prepare Data"
   ]
  },
  {
   "cell_type": "code",
   "execution_count": null,
   "metadata": {},
   "outputs": [],
   "source": [
    "cort_s1 = cort_samples.xs(\"S1\", level=\"sample\")\n",
    "cort_max = cort_samples.drop([\"S0\", \"S1\"], level=\"sample\").groupby([\"condition\", \"subject\"]).max()\n",
    "cort_analysis = pd.concat({\"Pre\": cort_s1, \"Post\": cort_max}, names=[\"time\"])\n",
    "cort_analysis = cort_analysis.reorder_levels([\"condition\", \"subject\", \"time\"]).sort_index()\n",
    "\n",
    "cort_analysis.head()"
   ]
  },
  {
   "cell_type": "markdown",
   "metadata": {},
   "source": [
    "#### Statistics"
   ]
  },
  {
   "cell_type": "code",
   "execution_count": null,
   "metadata": {},
   "outputs": [],
   "source": [
    "steps = [\n",
    "    (\"prep\", \"normality\"),\n",
    "    (\"test\", \"pairwise_ttests\")\n",
    "]\n",
    "params = {\n",
    "    \"dv\": \"cortisol\",\n",
    "    \"within\": \"time\",\n",
    "    \"subject\": \"subject\",\n",
    "    \"groupby\": \"condition\"\n",
    "}\n",
    "\n",
    "stats = bp.stats.StatsPipeline(steps, params)\n",
    "stats.apply(cort_analysis)\n",
    "\n",
    "stats.export_statistics(stats_path.joinpath(\"stats_cortisol_response_mist.xlsx\"))\n",
    "stats.display_results()"
   ]
  },
  {
   "cell_type": "markdown",
   "metadata": {},
   "source": [
    "### Effect of CFT on Acute Stress Response"
   ]
  },
  {
   "cell_type": "markdown",
   "metadata": {},
   "source": [
    "**Population**: Control vs. CFT group\n",
    "\n",
    "**Analysis**: \n",
    "1. *Interaction Condition x Time*: Check whether the CFT intervention interacts with HPA axis activity\n",
    "    * Procedure:\n",
    "        * Mixed-ANOVA to determine interaction effect between *Condition* and *Time*\n",
    "        * In case of significant interaction effect: Post-hoc test to assess during which at sampling times cortisol samples were significantly different\n",
    "    * Expected Result: Significant interaction effect between *Condition* and *Time*, cortisol levels start to significantly differ after the MIST\n",
    "\n",
    "2. *Cortisol Features*: Check whether the CFT intervention causes an inhibition of the HPA axis, leading to less cortisol secretion\n",
    "    * Procedure (for each cortisol feature): \n",
    "        * t-test between Control and CFT group\n",
    "    * Expected Result: Significant differences between Control and CFT group: lower AUC, lower slope, lower maximum cortisl increase\n",
    "\n",
    "\n",
    "**Findings**: \n",
    "* tbd"
   ]
  },
  {
   "cell_type": "markdown",
   "metadata": {},
   "source": [
    "#### Interaction *Condition* x *Time*"
   ]
  },
  {
   "cell_type": "markdown",
   "metadata": {},
   "source": [
    "##### Prepare Data"
   ]
  },
  {
   "cell_type": "code",
   "execution_count": null,
   "metadata": {},
   "outputs": [],
   "source": [
    "cort_analysis = cort_samples.copy()\n",
    "cort_analysis.head()"
   ]
  },
  {
   "cell_type": "markdown",
   "metadata": {},
   "source": [
    "##### Statistics"
   ]
  },
  {
   "cell_type": "code",
   "execution_count": null,
   "metadata": {},
   "outputs": [],
   "source": [
    "steps = [\n",
    "    (\"prep\", \"normality\"),\n",
    "    (\"prep\", \"equal_var\"),\n",
    "    (\"test\", \"mixed_anova\"),\n",
    "    (\"posthoc\", \"pairwise_ttests\")\n",
    "]\n",
    "params = {\n",
    "    \"dv\": \"cortisol\",\n",
    "    \"within\": \"sample\",\n",
    "    \"between\": \"condition\",\n",
    "    \"subject\": \"subject\"\n",
    "}\n",
    "\n",
    "stats = bp.stats.StatsPipeline(steps, params)\n",
    "stats.apply(cort_analysis)\n",
    "\n",
    "stats.export_statistics(stats_path.joinpath(\"stats_cortisol_interaction.xlsx\"))\n",
    "stats.display_results(prep=False, sig_only=\"posthoc\")"
   ]
  },
  {
   "cell_type": "markdown",
   "metadata": {},
   "source": [
    "##### Plots"
   ]
  },
  {
   "cell_type": "code",
   "execution_count": null,
   "metadata": {},
   "outputs": [],
   "source": [
    "fig, ax = plt.subplots()\n",
    "mist.saliva_plot(\"cortisol\", ax=ax, legend_fontsize=\"medium\", hue_order=hue_order)\n",
    "fig.savefig(plot_path.joinpath(\"img_corisol_mist.pdf\"), transparent=True)"
   ]
  },
  {
   "cell_type": "markdown",
   "metadata": {},
   "source": [
    "#### Cortisol Features"
   ]
  },
  {
   "cell_type": "markdown",
   "metadata": {},
   "source": [
    "##### Prepare Data"
   ]
  },
  {
   "cell_type": "code",
   "execution_count": null,
   "metadata": {},
   "outputs": [],
   "source": [
    "features = [\"auc_g\", \"auc_i\", \"auc_i_post\", \"max_inc\", \"slopeS1S4\"]\n",
    "\n",
    "cort_analysis = cort_features.loc[pd.IndexSlice[:, :, features]].copy()\n",
    "cort_analysis.head()"
   ]
  },
  {
   "cell_type": "markdown",
   "metadata": {},
   "source": [
    "##### Statistics"
   ]
  },
  {
   "cell_type": "code",
   "execution_count": null,
   "metadata": {},
   "outputs": [],
   "source": [
    "pg.normality()"
   ]
  },
  {
   "cell_type": "code",
   "execution_count": null,
   "metadata": {},
   "outputs": [],
   "source": [
    "steps = [\n",
    "    (\"prep\", \"normality\"),\n",
    "    (\"test\", \"pairwise_ttests\"),\n",
    "]\n",
    "params = {\n",
    "    \"dv\": \"cortisol\",\n",
    "    \"between\": \"condition\",\n",
    "    \"groupby\": \"saliva_feature\",\n",
    "    \"test__parametric\": False\n",
    "}\n",
    "\n",
    "stats = bp.stats.StatsPipeline(steps, params)\n",
    "stats.apply(cort_analysis)\n",
    "\n",
    "stats.export_statistics(stats_path.joinpath(\"stats_cortisol_features.xlsx\"))\n",
    "stats.display_results()"
   ]
  },
  {
   "cell_type": "markdown",
   "metadata": {},
   "source": [
    "##### Plots"
   ]
  },
  {
   "cell_type": "code",
   "execution_count": null,
   "metadata": {},
   "outputs": [],
   "source": [
    "features = {\n",
    "    #\"auc_g\": [\"auc_g\"],\n",
    "    \"auc\": [\"auc_i\", \"auc_i_post\"],\n",
    "    \"max_inc\": [\"max_inc\"],\n",
    "    \"slope\": [\"slopeS1S4\"]\n",
    "}\n",
    "\n",
    "box_pairs, pvalues = stats.sig_brackets(\n",
    "    \"test\", \n",
    "    stats_type=\"between\", \n",
    "    plot_type=\"multi\", \n",
    "    x=\"saliva_feature\", \n",
    "    features=features, \n",
    "    subplots=True\n",
    ")\n",
    "\n",
    "fig, axs = plt.subplots(ncols=len(features.keys()))\n",
    "\n",
    "bp.protocols.plotting.saliva_multi_feature_boxplot(\n",
    "    cort_features, \n",
    "    \"cortisol\", \n",
    "    features=features, \n",
    "    hue=\"condition\", \n",
    "    hue_order=hue_order,\n",
    "    legend_loc=\"upper center\", \n",
    "    legend_orientation=\"horizontal\", \n",
    "    stats_kwargs={\"box_pairs\": box_pairs, \"pvalues\": pvalues},\n",
    "    axs=axs\n",
    "); "
   ]
  },
  {
   "cell_type": "code",
   "execution_count": null,
   "metadata": {},
   "outputs": [],
   "source": []
  }
 ],
 "metadata": {
  "kernelspec": {
   "display_name": "cft_analysis",
   "language": "python",
   "name": "cft_analysis"
  },
  "language_info": {
   "codemirror_mode": {
    "name": "ipython",
    "version": 3
   },
   "file_extension": ".py",
   "mimetype": "text/x-python",
   "name": "python",
   "nbconvert_exporter": "python",
   "pygments_lexer": "ipython3",
   "version": "3.8.3"
  }
 },
 "nbformat": 4,
 "nbformat_minor": 4
}
