{
 "cells": [
  {
   "cell_type": "markdown",
   "metadata": {},
   "source": [
    "# CFT – Demographics"
   ]
  },
  {
   "cell_type": "markdown",
   "metadata": {},
   "source": [
    "## Setup and Helper Functions"
   ]
  },
  {
   "cell_type": "code",
   "execution_count": null,
   "metadata": {},
   "outputs": [],
   "source": [
    "import re\n",
    "from pathlib import Path\n",
    "\n",
    "import pandas as pd\n",
    "import numpy as np\n",
    "import pingouin as pg\n",
    "\n",
    "import matplotlib.pyplot as plt\n",
    "import seaborn as sns\n",
    "\n",
    "import biopsykit as bp\n",
    "\n",
    "from cft_analysis.datasets import CftDatasetProcessed\n",
    "\n",
    "%load_ext autoreload\n",
    "%autoreload 2\n",
    "%matplotlib widget"
   ]
  },
  {
   "cell_type": "code",
   "execution_count": null,
   "metadata": {},
   "outputs": [],
   "source": [
    "plt.close(\"all\")\n",
    "\n",
    "palette = bp.colors.fau_palette\n",
    "sns.set_theme(context=\"notebook\", style=\"ticks\", palette=palette)\n",
    "\n",
    "plt.rcParams['figure.figsize'] = (10, 5)\n",
    "plt.rcParams['pdf.fonttype'] = 42\n",
    "plt.rcParams['mathtext.default'] = \"regular\"\n",
    "\n",
    "palette"
   ]
  },
  {
   "cell_type": "markdown",
   "metadata": {},
   "source": [
    "## Import Data"
   ]
  },
  {
   "cell_type": "code",
   "execution_count": null,
   "metadata": {},
   "outputs": [],
   "source": [
    "# get path to analysis results\n",
    "base_path = Path(\"../../data\")"
   ]
  },
  {
   "cell_type": "code",
   "execution_count": null,
   "metadata": {},
   "outputs": [],
   "source": [
    "dataset = CftDatasetProcessed(base_path, exclude_subjects=True)\n",
    "dataset"
   ]
  },
  {
   "cell_type": "code",
   "execution_count": null,
   "metadata": {},
   "outputs": [],
   "source": [
    "results_path = base_path.joinpath(\"../results\")\n",
    "plot_path = results_path.joinpath(\"plots\")\n",
    "stats_path = results_path.joinpath(\"statistics\")\n",
    "\n",
    "bp.utils.file_handling.mkdirs([results_path, plot_path, stats_path])"
   ]
  },
  {
   "cell_type": "markdown",
   "metadata": {},
   "source": [
    "## Gender"
   ]
  },
  {
   "cell_type": "code",
   "execution_count": null,
   "metadata": {},
   "outputs": [],
   "source": [
    "quest_data = dataset.questionnaire_recoded\n",
    "quest_data.head()"
   ]
  },
  {
   "cell_type": "code",
   "execution_count": null,
   "metadata": {},
   "outputs": [],
   "source": [
    "gender_count = bp.metadata.gender_counts(quest_data)\n",
    "gender_count = pd.concat({\"Total\": gender_count}, names=[\"condition\"])\n",
    "gender_count_cond = bp.metadata.gender_counts(quest_data, split_condition=True)\n",
    "\n",
    "gender_count = pd.concat([gender_count, gender_count_cond])\n",
    "gender_count = gender_count.unstack(\"gender\")\n",
    "\n",
    "gender_count"
   ]
  },
  {
   "cell_type": "markdown",
   "metadata": {},
   "source": [
    "## Age & BMI"
   ]
  },
  {
   "cell_type": "code",
   "execution_count": null,
   "metadata": {},
   "outputs": [],
   "source": [
    "age_bmi_cols = [\"age\", \"BMI\"]"
   ]
  },
  {
   "cell_type": "code",
   "execution_count": null,
   "metadata": {},
   "outputs": [],
   "source": [
    "age_bmi_total = quest_data[age_bmi_cols].agg([\"mean\", \"std\"]).T\n",
    "age_bmi_total = pd.concat({\"Total\": age_bmi_total.stack()}, names=[\"condition\"])\n",
    "age_bmi_total = age_bmi_total.unstack(level=0)\n",
    "\n",
    "age_bmi_cond = quest_data[age_bmi_cols].groupby(\"condition\").agg([\"mean\", \"std\"]).T\n",
    "\n",
    "age_bmi = age_bmi_total.join(age_bmi_cond).T\n",
    "age_bmi"
   ]
  },
  {
   "cell_type": "markdown",
   "metadata": {},
   "source": [
    "### Statistics"
   ]
  },
  {
   "cell_type": "code",
   "execution_count": null,
   "metadata": {},
   "outputs": [],
   "source": [
    "data_analysis = quest_data[age_bmi_cols]\n",
    "data_analysis.columns.name = \"variable\"\n",
    "data_analysis = pd.DataFrame(data_analysis.stack(), columns=[\"data\"])\n",
    "\n",
    "steps = [\n",
    "    (\"prep\", \"normality\"),\n",
    "    (\"test\", \"pairwise_ttests\")\n",
    "]\n",
    "\n",
    "params = {\n",
    "    \"dv\": \"data\",\n",
    "    \"between\": \"condition\",\n",
    "    \"groupby\": \"variable\",\n",
    "    \"test__parametric\": False\n",
    "}\n",
    "\n",
    "pipeline = bp.stats.StatsPipeline(steps, params)\n",
    "pipeline.apply(data_analysis);\n",
    "pipeline.export_statistics(stats_path.joinpath(\"stats_bmi_age.xlsx\"))\n",
    "pipeline.display_results()"
   ]
  },
  {
   "cell_type": "markdown",
   "metadata": {},
   "source": [
    "## Export"
   ]
  },
  {
   "cell_type": "code",
   "execution_count": null,
   "metadata": {},
   "outputs": [],
   "source": [
    "gender_count.to_csv(results_path.joinpath(\"gender_count.csv\"))"
   ]
  },
  {
   "cell_type": "code",
   "execution_count": null,
   "metadata": {},
   "outputs": [],
   "source": [
    "age_bmi.to_csv(results_path.joinpath(\"age_bmi.csv\"))"
   ]
  },
  {
   "cell_type": "code",
   "execution_count": null,
   "metadata": {},
   "outputs": [],
   "source": []
  }
 ],
 "metadata": {
  "kernelspec": {
   "display_name": "cft_analysis",
   "language": "python",
   "name": "cft_analysis"
  },
  "language_info": {
   "codemirror_mode": {
    "name": "ipython",
    "version": 3
   },
   "file_extension": ".py",
   "mimetype": "text/x-python",
   "name": "python",
   "nbconvert_exporter": "python",
   "pygments_lexer": "ipython3",
   "version": "3.8.3"
  }
 },
 "nbformat": 4,
 "nbformat_minor": 4
}
