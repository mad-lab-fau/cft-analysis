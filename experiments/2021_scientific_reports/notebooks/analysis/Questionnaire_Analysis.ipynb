{
 "cells": [
  {
   "cell_type": "markdown",
   "metadata": {},
   "source": [
    "# CFT – Questionnaire Analysis"
   ]
  },
  {
   "cell_type": "markdown",
   "metadata": {},
   "source": [
    "## Setup and Helper Functions"
   ]
  },
  {
   "cell_type": "code",
   "execution_count": null,
   "metadata": {},
   "outputs": [],
   "source": [
    "import json\n",
    "import re\n",
    "from pathlib import Path\n",
    "\n",
    "import pandas as pd\n",
    "import numpy as np\n",
    "import pingouin as pg\n",
    "\n",
    "import matplotlib.pyplot as plt\n",
    "import seaborn as sns\n",
    "\n",
    "from fau_colors import cmaps\n",
    "import biopsykit as bp\n",
    "\n",
    "from cft_analysis.datasets import CftDatasetProcessed\n",
    "\n",
    "from IPython.display import Markdown\n",
    "\n",
    "%load_ext autoreload\n",
    "%autoreload 2\n",
    "%matplotlib widget"
   ]
  },
  {
   "cell_type": "code",
   "execution_count": null,
   "metadata": {},
   "outputs": [],
   "source": [
    "plt.close(\"all\")\n",
    "\n",
    "palette = sns.color_palette(cmaps.faculties)\n",
    "sns.set_theme(context=\"notebook\", style=\"ticks\", palette=palette)\n",
    "\n",
    "plt.rcParams['figure.figsize'] = (8, 4)\n",
    "plt.rcParams['pdf.fonttype'] = 42\n",
    "plt.rcParams['mathtext.default'] = \"regular\"\n",
    "\n",
    "pg.options['round'] = 4\n",
    "\n",
    "palette"
   ]
  },
  {
   "cell_type": "markdown",
   "metadata": {},
   "source": [
    "## Import Data"
   ]
  },
  {
   "cell_type": "code",
   "execution_count": null,
   "metadata": {},
   "outputs": [],
   "source": [
    "# get path to analysis results\n",
    "base_path = Path(\"../../data\")"
   ]
  },
  {
   "cell_type": "code",
   "execution_count": null,
   "metadata": {},
   "outputs": [],
   "source": [
    "results_path = base_path.joinpath(\"../results\")\n",
    "stats_path = results_path.joinpath(\"statistics\")\n",
    "tex_path = stats_path.joinpath(\"tex_tables\")\n",
    "bp.utils.file_handling.mkdirs([results_path, stats_path, tex_path])\n",
    "\n",
    "paper_path = Path(\"../paper_path.json\")\n",
    "paper_tex_path = None\n",
    "if paper_path.exists():\n",
    "    paper_path = Path(json.load(paper_path.open(encoding=\"utf-8\"))[\"paper_path\"])\n",
    "    paper_tex_path = paper_path.joinpath(\"tab\")\n",
    "    bp.utils.file_handling.mkdirs([paper_tex_path])"
   ]
  },
  {
   "cell_type": "code",
   "execution_count": null,
   "metadata": {},
   "outputs": [],
   "source": [
    "dataset = CftDatasetProcessed(base_path, exclude_subjects=True)\n",
    "dataset"
   ]
  },
  {
   "cell_type": "code",
   "execution_count": null,
   "metadata": {},
   "outputs": [],
   "source": [
    "quest_data = dataset.questionnaire\n",
    "quest_data.head()"
   ]
  },
  {
   "cell_type": "markdown",
   "metadata": {},
   "source": [
    "## Statistical Analysis"
   ]
  },
  {
   "cell_type": "markdown",
   "metadata": {},
   "source": [
    "### PSS"
   ]
  },
  {
   "cell_type": "markdown",
   "metadata": {},
   "source": [
    "#### Prepare Data"
   ]
  },
  {
   "cell_type": "code",
   "execution_count": null,
   "metadata": {},
   "outputs": [],
   "source": [
    "data_analysis = quest_data[[\"PSS_Total\"]]\n",
    "data_analysis.head()"
   ]
  },
  {
   "cell_type": "markdown",
   "metadata": {},
   "source": [
    "#### Statistical Analysis"
   ]
  },
  {
   "cell_type": "code",
   "execution_count": null,
   "metadata": {},
   "outputs": [],
   "source": [
    "steps = [\n",
    "    (\"prep\", \"normality\"), \n",
    "    (\"test\", \"pairwise_ttests\")\n",
    "]\n",
    "params = {\n",
    "    \"dv\": \"PSS_Total\", \n",
    "    \"between\": \"condition\"\n",
    "}\n",
    "\n",
    "stats = bp.stats.StatsPipeline(steps, params)\n",
    "stats.apply(data_analysis)\n",
    "stats.export_statistics(stats_path.joinpath(\"stats_questionnaire_pss.xlsx\"))\n",
    "stats.display_results()"
   ]
  },
  {
   "cell_type": "markdown",
   "metadata": {},
   "source": [
    "### MDBF"
   ]
  },
  {
   "cell_type": "markdown",
   "metadata": {},
   "source": [
    "#### Prepare Data"
   ]
  },
  {
   "cell_type": "code",
   "execution_count": null,
   "metadata": {},
   "outputs": [],
   "source": [
    "# Drop the MDBF Total score, use only the subscales\n",
    "data_analysis = quest_data.filter(like=\"MDBF\").drop(columns=[\"MDBF_pre\", \"MDBF_post\"])\n",
    "\n",
    "# Convert to long-format and reindex data\n",
    "data_analysis = bp.utils.dataframe_handling.wide_to_long(data_analysis, \"MDBF\", levels=[\"subscale\", \"time\"])\n",
    "data_analysis = data_analysis.reindex([\"pre\", \"post\"], level=\"time\")\n",
    "data_analysis.head()"
   ]
  },
  {
   "cell_type": "markdown",
   "metadata": {},
   "source": [
    "#### Descriptive Analysis"
   ]
  },
  {
   "cell_type": "markdown",
   "metadata": {},
   "source": [
    "Compute MIST-induced mood worsening in percent"
   ]
  },
  {
   "cell_type": "code",
   "execution_count": null,
   "metadata": {},
   "outputs": [],
   "source": [
    "mdbf_diff = data_analysis.groupby([\"subject\", \"subscale\"]).apply(lambda df: (df.diff() / df.xs(\"pre\", level=\"time\")))\n",
    "mdbf_diff = mdbf_diff.dropna().droplevel(\"time\")\n",
    "mdbf_diff = mdbf_diff * 100\n",
    "mdbf_diff_percent = mdbf_diff.groupby([\"condition\", \"subscale\"]).agg([\"mean\", \"std\"])"
   ]
  },
  {
   "cell_type": "code",
   "execution_count": null,
   "metadata": {},
   "outputs": [],
   "source": [
    "mdbf_diff_percent.to_csv(results_path.joinpath(\"questionnaire_mdbf_decrease.csv\"))\n",
    "mdbf_diff_percent.round(2)"
   ]
  },
  {
   "cell_type": "markdown",
   "metadata": {},
   "source": [
    "#### Statistics"
   ]
  },
  {
   "cell_type": "markdown",
   "metadata": {},
   "source": [
    "**Population**: Both conditions\n",
    "\n",
    "**Analysis**: Check whether MIST caused a significant mood worsening, indicated by MBDF\n",
    "* Procedure: Paired t-tests between MDBF subscales before and after MIST\n",
    "* Expected Result: Significant mood worsening as response to the MIST\n",
    "\n",
    "**Findings**: \n",
    "* The MIST causes an effective activation of the HPA axis, indicated by a significant increase in cortisol after the MIST for the Control condition"
   ]
  },
  {
   "cell_type": "code",
   "execution_count": null,
   "metadata": {},
   "outputs": [],
   "source": [
    "steps = [\n",
    "    (\"prep\", \"normality\"), \n",
    "    (\"test\", \"pairwise_ttests\")\n",
    "]\n",
    "params = {\n",
    "    \"dv\": \"MDBF\", \n",
    "    \"within\": \"time\",\n",
    "    \"subject\": \"subject\",\n",
    "    \"groupby\": [\"condition\", \"subscale\"],\n",
    "    \"multicomp\": {\"levels\": \"subscale\"}\n",
    "}\n",
    "\n",
    "stats = bp.stats.StatsPipeline(steps, params)\n",
    "stats.apply(data_analysis)\n",
    "stats.export_statistics(stats_path.joinpath(\"stats_questionnaire_mdbf_pre_post.xlsx\"))\n",
    "stats.display_results()\n",
    "\n",
    "display(Markdown(\"#### Latex Output\"))\n",
    "print(stats.stats_to_latex(\"pairwise_ttests\", (\"Control\")))"
   ]
  },
  {
   "cell_type": "markdown",
   "metadata": {},
   "source": [
    "#### Interaction *Condition x Time*"
   ]
  },
  {
   "cell_type": "markdown",
   "metadata": {},
   "source": [
    "**Population**: Both conditions\n",
    "\n",
    "**Analysis**: Check whether the Cold Face Test has an influence on mood worsening, indicated by MDBF\n",
    "* Procedure: Mixed-ANOVA to determine interaction effect between Condition and Time for each MDBF subscale\n",
    "* Expected Result: Significant interaction effect of CFT on MDBF scores\n",
    "\n",
    "**Findings**: \n",
    "* No significant interaction effect"
   ]
  },
  {
   "cell_type": "code",
   "execution_count": null,
   "metadata": {},
   "outputs": [],
   "source": [
    "steps = [\n",
    "    (\"prep\", \"normality\"),\n",
    "    (\"prep\", \"equal_var\"),\n",
    "    (\"test\", \"mixed_anova\"),\n",
    "    (\"posthoc\", \"pairwise_ttests\")\n",
    "]\n",
    "params = {\n",
    "    \"dv\": \"MDBF\", \n",
    "    \"between\": \"condition\",\n",
    "    \"within\": \"time\",\n",
    "    \"subject\": \"subject\",\n",
    "    \"groupby\": \"subscale\"\n",
    "}\n",
    "\n",
    "stats = bp.stats.StatsPipeline(steps, params)\n",
    "stats.apply(data_analysis)\n",
    "stats.export_statistics(stats_path.joinpath(\"stats_questionnaire_mdbf_interaction.xlsx\"))\n",
    "stats.display_results()"
   ]
  },
  {
   "cell_type": "code",
   "execution_count": null,
   "metadata": {},
   "outputs": [],
   "source": []
  }
 ],
 "metadata": {
  "kernelspec": {
   "display_name": "cft_analysis",
   "language": "python",
   "name": "cft_analysis"
  },
  "language_info": {
   "codemirror_mode": {
    "name": "ipython",
    "version": 3
   },
   "file_extension": ".py",
   "mimetype": "text/x-python",
   "name": "python",
   "nbconvert_exporter": "python",
   "pygments_lexer": "ipython3",
   "version": "3.8.3"
  }
 },
 "nbformat": 4,
 "nbformat_minor": 4
}
