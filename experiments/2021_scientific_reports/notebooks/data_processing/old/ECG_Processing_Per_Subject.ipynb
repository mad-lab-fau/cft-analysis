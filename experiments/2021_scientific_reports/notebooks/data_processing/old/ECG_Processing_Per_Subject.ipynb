{
 "cells": [
  {
   "cell_type": "markdown",
   "metadata": {},
   "source": [
    "# ECG Data Processing – Per Subject"
   ]
  },
  {
   "cell_type": "markdown",
   "metadata": {},
   "source": [
    "This notebook performs ECG data processing per subject. This includes R-peak detection and outlier removal. The processed heart rate and R-peak data are then exported as Excel files in a `processed` subfolder of each subject folder."
   ]
  },
  {
   "cell_type": "markdown",
   "metadata": {},
   "source": [
    "## Setup and Helper Functions"
   ]
  },
  {
   "cell_type": "code",
   "execution_count": null,
   "metadata": {},
   "outputs": [],
   "source": [
    "import re\n",
    "from pathlib import Path\n",
    "\n",
    "import pandas as pd\n",
    "import numpy as np\n",
    "import pingouin as pg\n",
    "\n",
    "import matplotlib.pyplot as plt\n",
    "import seaborn as sns\n",
    "\n",
    "from tqdm.auto import tqdm\n",
    "\n",
    "import biopsykit as bp\n",
    "\n",
    "from cft_analysis.io import load_ecg_raw_data_folder\n",
    "from cft_analysis.hrv import hrv_continuous\n",
    "\n",
    "\n",
    "%load_ext autoreload\n",
    "%autoreload 2\n",
    "%matplotlib widget"
   ]
  },
  {
   "cell_type": "code",
   "execution_count": null,
   "metadata": {},
   "outputs": [],
   "source": [
    "plt.close(\"all\")\n",
    "\n",
    "palette = bp.colors.fau_palette\n",
    "sns.set_theme(context=\"notebook\", style=\"ticks\", palette=palette)\n",
    "\n",
    "plt.rcParams['figure.figsize'] = (10, 5)\n",
    "plt.rcParams['pdf.fonttype'] = 42\n",
    "plt.rcParams['mathtext.default'] = \"regular\"\n",
    "\n",
    "palette"
   ]
  },
  {
   "cell_type": "markdown",
   "metadata": {},
   "source": [
    "## Data Import"
   ]
  },
  {
   "cell_type": "code",
   "execution_count": null,
   "metadata": {},
   "outputs": [],
   "source": [
    "data_path = Path(\"../../../../Data\")\n",
    "ecg_path = data_path.joinpath(\"ecg\")\n",
    "\n",
    "# flag indicating whether to ignore already existing processing results and re-process data or not\n",
    "overwrite_results = False"
   ]
  },
  {
   "cell_type": "code",
   "execution_count": null,
   "metadata": {},
   "outputs": [],
   "source": [
    "file_mapping = [\"Pre\", \"MIST1\", \"MIST2\", \"MIST3\", \"Post\"]"
   ]
  },
  {
   "cell_type": "markdown",
   "metadata": {},
   "source": [
    "## Data Processing"
   ]
  },
  {
   "cell_type": "code",
   "execution_count": null,
   "metadata": {},
   "outputs": [],
   "source": [
    "for subject_dir in tqdm(subject_dirs):\n",
    "    subject_id = subject_dir.name\n",
    "    \n",
    "    ecg_path_raw = subject_dir.joinpath(\"raw\")\n",
    "    ecg_path_proc = subject_dir.joinpath(\"processed\")\n",
    "    bp.utils.file_handling.mkdirs(ecg_path_proc)\n",
    "    \n",
    "    hr_result_filename = ecg_path_proc.joinpath(\"hr_result_{}.xlsx\".format(subject_id))\n",
    "    rpeaks_result_filename = ecg_path_proc.joinpath(\"rpeaks_result_{}.xlsx\".format(subject_id))\n",
    "    hrv_cont_filename = ecg_path_proc.joinpath(\"hrv_continuous_{}.xlsx\".format(subject_id))\n",
    "    \n",
    "    if overwrite_results or not hr_result_path.exists():\n",
    "        dataset_dict = load_ecg_raw_data_folder(ecg_path_raw, phase_names=file_mapping)\n",
    "        ep = bp.signals.ecg.EcgProcessor(data=dataset_dict[0], sampling_rate=dataset_dict[1])\n",
    "        ep.ecg_process(title=subject_id)\n",
    "        \n",
    "        dict_hrv_continuous = {key: hrv_continuous(rpeaks) for key, rpeaks in tqdm(list(ep.rpeaks.items()), desc=\"HRV\")}\n",
    "        \n",
    "        # save HR data and R-Peak data to file\n",
    "        bp.io.ecg.write_hr_phase_dict(ep.heart_rate, hr_result_filename)\n",
    "        bp.io.ecg.write_pandas_dict_excel(ep.rpeaks, rpeaks_result_filename)\n",
    "        bp.io.ecg.write_pandas_dict_excel(dict_hrv_continuous, hrv_cont_filename)"
   ]
  }
 ],
 "metadata": {
  "kernelspec": {
   "display_name": "cft_analysis",
   "language": "python",
   "name": "cft_analysis"
  },
  "language_info": {
   "codemirror_mode": {
    "name": "ipython",
    "version": 3
   },
   "file_extension": ".py",
   "mimetype": "text/x-python",
   "name": "python",
   "nbconvert_exporter": "python",
   "pygments_lexer": "ipython3",
   "version": "3.8.3"
  }
 },
 "nbformat": 4,
 "nbformat_minor": 4
}
