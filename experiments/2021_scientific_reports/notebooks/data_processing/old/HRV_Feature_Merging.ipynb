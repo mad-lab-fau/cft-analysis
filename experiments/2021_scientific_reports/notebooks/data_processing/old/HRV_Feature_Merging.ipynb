{
 "cells": [
  {
   "cell_type": "markdown",
   "metadata": {},
   "source": [
    "# Heart Rate (Variability) Feature Merging"
   ]
  },
  {
   "cell_type": "markdown",
   "metadata": {},
   "source": [
    "This notebook merges different heart rate (variability) data computed into one long-format dataframe. The different data to be merged are:\n",
    "* Mean heart rate per subject, MIST phase, and subphase (in bpm)\n",
    "* *Normalized* Mean heart rate per subject, MIST phase and subphase (in percent relative to the global baseline $BL_{Glo}$)\n",
    "* Heart rate variability measures per subject, MIST phase, and subphase\n",
    "* *Percentage* of HR(V) measures per subject, MIST phase and subphase that are above the mean value during the global baseline $BL_{Glo}$"
   ]
  },
  {
   "cell_type": "markdown",
   "metadata": {},
   "source": [
    "## Imports and Helper Functions"
   ]
  },
  {
   "cell_type": "code",
   "execution_count": null,
   "metadata": {},
   "outputs": [],
   "source": [
    "import re\n",
    "from pathlib import Path\n",
    "\n",
    "import pandas as pd\n",
    "import numpy as np\n",
    "import pingouin as pg\n",
    "\n",
    "import matplotlib.pyplot as plt\n",
    "import seaborn as sns\n",
    "\n",
    "import biopsykit as bp\n",
    "\n",
    "%load_ext autoreload\n",
    "%autoreload 2\n",
    "%matplotlib widget"
   ]
  },
  {
   "cell_type": "code",
   "execution_count": null,
   "metadata": {},
   "outputs": [],
   "source": [
    "plt.close(\"all\")\n",
    "\n",
    "palette = bp.colors.fau_palette\n",
    "sns.set_theme(context=\"notebook\", style=\"ticks\", palette=palette)\n",
    "\n",
    "plt.rcParams['figure.figsize'] = (10, 5)\n",
    "plt.rcParams['pdf.fonttype'] = 42\n",
    "plt.rcParams['mathtext.default'] = \"regular\"\n",
    "\n",
    "palette"
   ]
  },
  {
   "cell_type": "markdown",
   "metadata": {},
   "source": [
    "## Import Data"
   ]
  },
  {
   "cell_type": "code",
   "execution_count": null,
   "metadata": {},
   "outputs": [],
   "source": [
    "base_path = Path(\"../../../data/processed\")\n",
    "ecg_path = base_path.joinpath(\"ecg\")"
   ]
  },
  {
   "cell_type": "code",
   "execution_count": null,
   "metadata": {},
   "outputs": [],
   "source": [
    "hr_data = bp.io.load_wide_format_csv(\n",
    "    ecg_path.joinpath(\"cft_hr_mean.csv\")\n",
    ")\n",
    "\n",
    "hr_data_norm = bp.io.load_wide_format_csv(\n",
    "    ecg_path.joinpath(\"cft_hr_mean_normalized.csv\")\n",
    ")\n",
    "\n",
    "hrv_data = bp.io.load_wide_format_csv(\n",
    "    ecg_path.joinpath(\"cft_hrv_subphases.csv\"), \n",
    "    index_cols=[\"condition\", \"subject\", \"phase\", \"subphase\"]\n",
    ")\n",
    "\n",
    "hrv_above_baseline = bp.io.load_wide_format_csv(\n",
    "    ecg_path.joinpath(\"cft_hrv_above_baseline.csv\"), \n",
    "    index_cols=[\"condition\", \"subject\", \"phase\", \"subphase\"]\n",
    ")"
   ]
  },
  {
   "cell_type": "markdown",
   "metadata": {},
   "source": [
    "## Merge Data"
   ]
  },
  {
   "cell_type": "markdown",
   "metadata": {},
   "source": [
    "### Select Columns"
   ]
  },
  {
   "cell_type": "code",
   "execution_count": null,
   "metadata": {},
   "outputs": [],
   "source": [
    "hrv_data = hrv_data[[\"HRV_SDNN\", \"HRV_RMSSD\", \"HRV_SD1SD2\", \"HRV_pNN50\", \"HRV_pNN20\"]]"
   ]
  },
  {
   "cell_type": "markdown",
   "metadata": {},
   "source": [
    "### Rename Columns"
   ]
  },
  {
   "cell_type": "code",
   "execution_count": null,
   "metadata": {},
   "outputs": [],
   "source": [
    "hr_data.columns = [\"HR\"]\n",
    "hr_data_norm.columns = [\"HR_Norm\"]"
   ]
  },
  {
   "cell_type": "markdown",
   "metadata": {},
   "source": [
    "### Concat Dataframes, Reorder Index Levels"
   ]
  },
  {
   "cell_type": "code",
   "execution_count": null,
   "metadata": {},
   "outputs": [],
   "source": [
    "data_merged = pd.concat([hr_data, hr_data_norm, hrv_data, hrv_above_baseline], axis=1)\n",
    "#data_merged.index = data_merged.index.set_names(\"name\", level=-1)\n",
    "#data_merged = data_merged.reset_index().set_index([\"condition\", \"subject\", \"phase\", \"subphase\", \"type\", \"name\"])\n",
    "data_merged.columns.name = \"name\"\n",
    "data_merged = pd.concat({\"data\": data_merged.stack()}, axis=1)\n",
    "data_merged"
   ]
  },
  {
   "cell_type": "markdown",
   "metadata": {},
   "source": [
    "## Export Data"
   ]
  },
  {
   "cell_type": "code",
   "execution_count": null,
   "metadata": {},
   "outputs": [],
   "source": [
    "data_merged.to_csv(ecg_path.joinpath(\"cft_measures_merged.csv\"))"
   ]
  },
  {
   "cell_type": "code",
   "execution_count": null,
   "metadata": {},
   "outputs": [],
   "source": []
  }
 ],
 "metadata": {
  "kernelspec": {
   "display_name": "cft_analysis",
   "language": "python",
   "name": "cft_analysis"
  },
  "language_info": {
   "codemirror_mode": {
    "name": "ipython",
    "version": 3
   },
   "file_extension": ".py",
   "mimetype": "text/x-python",
   "name": "python",
   "nbconvert_exporter": "python",
   "pygments_lexer": "ipython3",
   "version": "3.8.3"
  }
 },
 "nbformat": 4,
 "nbformat_minor": 4
}
