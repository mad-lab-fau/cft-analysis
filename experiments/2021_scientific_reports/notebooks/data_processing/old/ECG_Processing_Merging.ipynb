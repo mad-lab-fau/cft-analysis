{
 "cells": [
  {
   "cell_type": "markdown",
   "metadata": {},
   "source": [
    "# ECG Data Processing – Merging of Individual Subject Data"
   ]
  },
  {
   "cell_type": "markdown",
   "metadata": {},
   "source": [
    "This notebook merges individual data from all subjects into pandas dataframes."
   ]
  },
  {
   "cell_type": "code",
   "execution_count": null,
   "metadata": {},
   "outputs": [],
   "source": [
    "import re\n",
    "from pathlib import Path\n",
    "\n",
    "import pandas as pd\n",
    "import numpy as np\n",
    "import pingouin as pg\n",
    "\n",
    "import matplotlib.pyplot as plt\n",
    "import seaborn as sns\n",
    "\n",
    "from tqdm.auto import tqdm\n",
    "\n",
    "import biopsykit as bp\n",
    "\n",
    "from cft_analysis.io import load_subject_data_dicts\n",
    "\n",
    "%load_ext autoreload\n",
    "%autoreload 2\n",
    "%matplotlib widget"
   ]
  },
  {
   "cell_type": "code",
   "execution_count": null,
   "metadata": {},
   "outputs": [],
   "source": [
    "plt.close(\"all\")\n",
    "\n",
    "palette = bp.colors.fau_palette\n",
    "sns.set_theme(context=\"notebook\", style=\"ticks\", palette=palette)\n",
    "\n",
    "plt.rcParams['figure.figsize'] = (10, 5)\n",
    "plt.rcParams['pdf.fonttype'] = 42\n",
    "plt.rcParams['mathtext.default'] = \"regular\"\n",
    "\n",
    "palette"
   ]
  },
  {
   "cell_type": "markdown",
   "metadata": {},
   "source": [
    "## Data Import"
   ]
  },
  {
   "cell_type": "code",
   "execution_count": null,
   "metadata": {},
   "outputs": [],
   "source": [
    "data_path = Path(\"../../../../Data\")\n",
    "ecg_path = data_path.joinpath(\"ecg\")\n",
    "\n",
    "data_path = Path(\"../../../data\")\n",
    "data_path_export = data_path.joinpath(\"processed\")\n",
    "ecg_path_export = data_path_export.joinpath(\"ecg\")\n",
    "\n",
    "bp.utils.file_handling.mkdirs([data_path_export, ecg_path_export])"
   ]
  },
  {
   "cell_type": "markdown",
   "metadata": {},
   "source": [
    "### Load Condition List"
   ]
  },
  {
   "cell_type": "code",
   "execution_count": null,
   "metadata": {},
   "outputs": [],
   "source": [
    "condition_list = bp.io.load_subject_condition_list(data_path.joinpath(\"condition_list.csv\"))"
   ]
  },
  {
   "cell_type": "markdown",
   "metadata": {},
   "source": [
    "### Load Individual ECG Result Files\n",
    "\n",
    "* Heart Rate Data\n",
    "* R Peak Data"
   ]
  },
  {
   "cell_type": "code",
   "execution_count": null,
   "metadata": {},
   "outputs": [],
   "source": [
    "subject_dirs = bp.utils.file_handling.get_subject_dirs(ecg_path, pattern=\"Vp\\w+\")"
   ]
  },
  {
   "cell_type": "code",
   "execution_count": null,
   "metadata": {},
   "outputs": [],
   "source": [
    "subject_data_dict_hr, subject_data_dict_rpeaks = load_subject_data_dicts(subject_dirs)"
   ]
  },
  {
   "cell_type": "markdown",
   "metadata": {},
   "source": [
    "## Data Merging"
   ]
  },
  {
   "cell_type": "markdown",
   "metadata": {},
   "source": [
    "### Create `MIST` Object"
   ]
  },
  {
   "cell_type": "code",
   "execution_count": null,
   "metadata": {},
   "outputs": [],
   "source": [
    "subphases = {\n",
    "    \"BL\": 60,\n",
    "    \"RP_CFI\": 120,\n",
    "    \"AT\": 240,\n",
    "    \"FB\": 0\n",
    "}\n",
    "\n",
    "structure = {\n",
    "    \"Pre\": None,\n",
    "    \"MIST\": {\n",
    "        \"MIST1\": subphases,\n",
    "        \"MIST2\": subphases,\n",
    "        \"MIST3\": subphases,\n",
    "    },\n",
    "    \"Post\": None\n",
    "}\n",
    "\n",
    "mist = bp.protocols.MIST(name=\"CFT\", structure=structure)\n",
    "mist"
   ]
  },
  {
   "cell_type": "markdown",
   "metadata": {},
   "source": [
    "#### Add Heart Rate Data"
   ]
  },
  {
   "cell_type": "code",
   "execution_count": null,
   "metadata": {},
   "outputs": [],
   "source": [
    "mist.add_hr_data(subject_data_dict_hr, subject_data_dict_rpeaks)"
   ]
  },
  {
   "cell_type": "markdown",
   "metadata": {},
   "source": [
    "#### Compute *Ensemble Time-Series*"
   ]
  },
  {
   "cell_type": "code",
   "execution_count": null,
   "metadata": {},
   "outputs": [],
   "source": [
    "mist.compute_hr_ensemble(\n",
    "    \"hr_ensemble\",\n",
    "    select_phases=True,\n",
    "    params={\n",
    "        \"normalize_to\": \"Pre\",\n",
    "        \"select_phases\": [\"MIST1\", \"MIST2\", \"MIST3\"]\n",
    "    }\n",
    ")"
   ]
  },
  {
   "cell_type": "markdown",
   "metadata": {},
   "source": [
    "#### Compute *Aggregated Results*"
   ]
  },
  {
   "cell_type": "code",
   "execution_count": null,
   "metadata": {},
   "outputs": [],
   "source": [
    "mist.compute_hr_results(\n",
    "    \"hr_mean\",\n",
    "    resample_sec=False,\n",
    "    normalize_to=False,\n",
    "    select_phases=True,\n",
    "    split_into_subphases=True,\n",
    "    add_conditions=True,\n",
    "    params={\n",
    "        \"select_phases\": [\"MIST1\", \"MIST2\", \"MIST3\"],\n",
    "        \"split_into_subphases\": subphases,\n",
    "        \"add_conditions\": condition_list\n",
    "    }\n",
    ")\n",
    "\n",
    "mist.compute_hr_results(\n",
    "    \"hr_mean_normalized\",\n",
    "    resample_sec=False,\n",
    "    normalize_to=True,\n",
    "    select_phases=True,\n",
    "    split_into_subphases=True,\n",
    "    add_conditions=True,\n",
    "    params={\n",
    "        \"normalize_to\": \"Pre\",\n",
    "        \"select_phases\": [\"MIST1\", \"MIST2\", \"MIST3\"],\n",
    "        \"split_into_subphases\": subphases,\n",
    "        \"add_conditions\": condition_list\n",
    "    }\n",
    ")"
   ]
  },
  {
   "cell_type": "markdown",
   "metadata": {},
   "source": [
    "#### Compute *HRV*"
   ]
  },
  {
   "cell_type": "code",
   "execution_count": null,
   "metadata": {},
   "outputs": [],
   "source": [
    "from neurokit2 import NeuroKitWarning\n",
    "import warnings\n",
    "warnings.filterwarnings(\"ignore\", category=NeuroKitWarning)\n",
    "\n",
    "mist.compute_hrv_results(\n",
    "    \"hrv_phases\",\n",
    "    add_conditions=True,\n",
    "    params={\n",
    "        \"add_conditions\": condition_list\n",
    "    }\n",
    ")\n",
    "\n",
    "mist.compute_hrv_results(\n",
    "    \"hrv_subphases\",\n",
    "    split_into_subphases=True,\n",
    "    select_phases=True,\n",
    "    add_conditions=True,\n",
    "    params={\n",
    "        \"split_into_subphases\": subphases,\n",
    "        \"select_phases\": [\"MIST1\", \"MIST2\", \"MIST3\"],\n",
    "        \"add_conditions\": condition_list\n",
    "    }\n",
    ")"
   ]
  },
  {
   "cell_type": "markdown",
   "metadata": {},
   "source": [
    "### Export Data"
   ]
  },
  {
   "cell_type": "code",
   "execution_count": null,
   "metadata": {},
   "outputs": [],
   "source": [
    "mist.to_file(data_path.joinpath(\"mist_cft.json\"))"
   ]
  },
  {
   "cell_type": "code",
   "execution_count": null,
   "metadata": {},
   "outputs": [],
   "source": [
    "mist.export_hr_results(ecg_path_export)\n",
    "mist.export_hr_ensemble(ecg_path_export)\n",
    "mist.export_hrv_results(ecg_path_export)"
   ]
  },
  {
   "cell_type": "code",
   "execution_count": null,
   "metadata": {},
   "outputs": [],
   "source": []
  }
 ],
 "metadata": {
  "kernelspec": {
   "display_name": "cft_analysis",
   "language": "python",
   "name": "cft_analysis"
  },
  "language_info": {
   "codemirror_mode": {
    "name": "ipython",
    "version": 3
   },
   "file_extension": ".py",
   "mimetype": "text/x-python",
   "name": "python",
   "nbconvert_exporter": "python",
   "pygments_lexer": "ipython3",
   "version": "3.8.3"
  }
 },
 "nbformat": 4,
 "nbformat_minor": 4
}
