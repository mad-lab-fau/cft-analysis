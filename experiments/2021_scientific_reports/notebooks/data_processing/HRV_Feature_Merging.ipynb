{
 "cells": [
  {
   "cell_type": "markdown",
   "metadata": {},
   "source": [
    "# Heart Rate (Variability) Feature Merging"
   ]
  },
  {
   "cell_type": "markdown",
   "metadata": {},
   "source": [
    "This notebook merges different heart rate (variability) data computed into one long-format dataframe. The different data to be merged are:\n",
    "* Mean heart rate per subject, MIST phase, and subphase (in bpm)\n",
    "* *Normalized* Mean heart rate per subject, MIST phase and subphase (in percent relative to the global baseline $BL_{Glo}$)\n",
    "* Heart rate variability measures per subject, MIST phase, and subphase\n",
    "* *Percentage* of HR(V) measures per subject, MIST phase and subphase that are above the mean value during the global baseline $BL_{Glo}$"
   ]
  },
  {
   "cell_type": "markdown",
   "metadata": {},
   "source": [
    "## Imports and Helper Functions"
   ]
  },
  {
   "cell_type": "code",
   "execution_count": 35,
   "metadata": {},
   "outputs": [
    {
     "name": "stdout",
     "output_type": "stream",
     "text": [
      "The autoreload extension is already loaded. To reload it, use:\n",
      "  %reload_ext autoreload\n"
     ]
    }
   ],
   "source": [
    "import re\n",
    "from pathlib import Path\n",
    "\n",
    "import pandas as pd\n",
    "import numpy as np\n",
    "import pingouin as pg\n",
    "\n",
    "import matplotlib.pyplot as plt\n",
    "import seaborn as sns\n",
    "\n",
    "import biopsykit as bp\n",
    "\n",
    "%load_ext autoreload\n",
    "%autoreload 2\n",
    "%matplotlib widget"
   ]
  },
  {
   "cell_type": "code",
   "execution_count": 36,
   "metadata": {},
   "outputs": [
    {
     "data": {
      "text/html": [
       "<svg  width=\"330\" height=\"55\"><rect x=\"0\" y=\"0\" width=\"55\" height=\"55\" style=\"fill:#003865;stroke-width:2;stroke:rgb(255,255,255)\"/><rect x=\"55\" y=\"0\" width=\"55\" height=\"55\" style=\"fill:#98a4ae;stroke-width:2;stroke:rgb(255,255,255)\"/><rect x=\"110\" y=\"0\" width=\"55\" height=\"55\" style=\"fill:#c99313;stroke-width:2;stroke:rgb(255,255,255)\"/><rect x=\"165\" y=\"0\" width=\"55\" height=\"55\" style=\"fill:#00b1eb;stroke-width:2;stroke:rgb(255,255,255)\"/><rect x=\"220\" y=\"0\" width=\"55\" height=\"55\" style=\"fill:#009b77;stroke-width:2;stroke:rgb(255,255,255)\"/><rect x=\"275\" y=\"0\" width=\"55\" height=\"55\" style=\"fill:#8d1429;stroke-width:2;stroke:rgb(255,255,255)\"/></svg>"
      ],
      "text/plain": [
       "[(0.0, 0.2196078431372549, 0.396078431372549),\n",
       " (0.596078431372549, 0.6431372549019608, 0.6823529411764706),\n",
       " (0.788235294117647, 0.5764705882352941, 0.07450980392156863),\n",
       " (0.0, 0.6941176470588235, 0.9215686274509803),\n",
       " (0.0, 0.6078431372549019, 0.4666666666666667),\n",
       " (0.5529411764705883, 0.0784313725490196, 0.1607843137254902)]"
      ]
     },
     "execution_count": 36,
     "metadata": {},
     "output_type": "execute_result"
    }
   ],
   "source": [
    "plt.close(\"all\")\n",
    "\n",
    "palette = bp.colors.fau_palette\n",
    "sns.set_theme(context=\"notebook\", style=\"ticks\", palette=palette)\n",
    "\n",
    "plt.rcParams['figure.figsize'] = (10, 5)\n",
    "plt.rcParams['pdf.fonttype'] = 42\n",
    "plt.rcParams['mathtext.default'] = \"regular\"\n",
    "\n",
    "palette"
   ]
  },
  {
   "cell_type": "markdown",
   "metadata": {},
   "source": [
    "## Import Data"
   ]
  },
  {
   "cell_type": "code",
   "execution_count": 37,
   "metadata": {},
   "outputs": [],
   "source": [
    "base_path = Path(\"../../../data/processed\")\n",
    "ecg_path = base_path.joinpath(\"ecg\")"
   ]
  },
  {
   "cell_type": "code",
   "execution_count": 38,
   "metadata": {},
   "outputs": [],
   "source": [
    "hr_data = bp.io.load_wide_format_csv(\n",
    "    ecg_path.joinpath(\"cft_hr_mean.csv\")\n",
    ")\n",
    "\n",
    "hr_data_norm = bp.io.load_wide_format_csv(\n",
    "    ecg_path.joinpath(\"cft_hr_mean_normalized.csv\")\n",
    ")\n",
    "\n",
    "hrv_data = bp.io.load_wide_format_csv(\n",
    "    ecg_path.joinpath(\"cft_hrv_subphases.csv\"), \n",
    "    index_cols=[\"condition\", \"subject\", \"phase\", \"subphase\"]\n",
    ")\n",
    "\n",
    "hrv_above_baseline = bp.io.load_wide_format_csv(\n",
    "    ecg_path.joinpath(\"cft_hrv_above_baseline.csv\"), \n",
    "    index_cols=[\"condition\", \"subject\", \"phase\", \"subphase\"]\n",
    ")"
   ]
  },
  {
   "cell_type": "markdown",
   "metadata": {},
   "source": [
    "## Merge Data"
   ]
  },
  {
   "cell_type": "markdown",
   "metadata": {},
   "source": [
    "### Select Columns"
   ]
  },
  {
   "cell_type": "code",
   "execution_count": 41,
   "metadata": {},
   "outputs": [],
   "source": [
    "hrv_data = hrv_data[[\"HRV_SDNN\", \"HRV_RMSSD\", \"HRV_SD1SD2\", \"HRV_pNN50\", \"HRV_pNN20\"]]"
   ]
  },
  {
   "cell_type": "markdown",
   "metadata": {},
   "source": [
    "### Rename Columns"
   ]
  },
  {
   "cell_type": "code",
   "execution_count": 42,
   "metadata": {},
   "outputs": [],
   "source": [
    "hr_data.columns = [\"HR\"]\n",
    "hr_data_norm.columns = [\"HR_Norm\"]"
   ]
  },
  {
   "cell_type": "markdown",
   "metadata": {},
   "source": [
    "### Concat Dataframes, Reorder Index Levels"
   ]
  },
  {
   "cell_type": "code",
   "execution_count": 43,
   "metadata": {},
   "outputs": [
    {
     "data": {
      "text/html": [
       "<div>\n",
       "<style scoped>\n",
       "    .dataframe tbody tr th:only-of-type {\n",
       "        vertical-align: middle;\n",
       "    }\n",
       "\n",
       "    .dataframe tbody tr th {\n",
       "        vertical-align: top;\n",
       "    }\n",
       "\n",
       "    .dataframe thead th {\n",
       "        text-align: right;\n",
       "    }\n",
       "</style>\n",
       "<table border=\"1\" class=\"dataframe\">\n",
       "  <thead>\n",
       "    <tr style=\"text-align: right;\">\n",
       "      <th></th>\n",
       "      <th></th>\n",
       "      <th></th>\n",
       "      <th></th>\n",
       "      <th></th>\n",
       "      <th>data</th>\n",
       "    </tr>\n",
       "    <tr>\n",
       "      <th>condition</th>\n",
       "      <th>subject</th>\n",
       "      <th>phase</th>\n",
       "      <th>subphase</th>\n",
       "      <th>name</th>\n",
       "      <th></th>\n",
       "    </tr>\n",
       "  </thead>\n",
       "  <tbody>\n",
       "    <tr>\n",
       "      <th rowspan=\"5\" valign=\"top\">CFT</th>\n",
       "      <th rowspan=\"5\" valign=\"top\">Vp01</th>\n",
       "      <th rowspan=\"5\" valign=\"top\">MIST1</th>\n",
       "      <th rowspan=\"5\" valign=\"top\">AT</th>\n",
       "      <th>HR</th>\n",
       "      <td>92.039986</td>\n",
       "    </tr>\n",
       "    <tr>\n",
       "      <th>HR_Norm</th>\n",
       "      <td>-4.866102</td>\n",
       "    </tr>\n",
       "    <tr>\n",
       "      <th>HRV_SDNN</th>\n",
       "      <td>53.390947</td>\n",
       "    </tr>\n",
       "    <tr>\n",
       "      <th>HRV_RMSSD</th>\n",
       "      <td>32.343869</td>\n",
       "    </tr>\n",
       "    <tr>\n",
       "      <th>HRV_SD1SD2</th>\n",
       "      <td>0.318272</td>\n",
       "    </tr>\n",
       "    <tr>\n",
       "      <th>...</th>\n",
       "      <th>...</th>\n",
       "      <th>...</th>\n",
       "      <th>...</th>\n",
       "      <th>...</th>\n",
       "      <td>...</td>\n",
       "    </tr>\n",
       "    <tr>\n",
       "      <th rowspan=\"5\" valign=\"top\">Control</th>\n",
       "      <th rowspan=\"5\" valign=\"top\">Vp33</th>\n",
       "      <th rowspan=\"5\" valign=\"top\">MIST3</th>\n",
       "      <th rowspan=\"5\" valign=\"top\">RP_CFI</th>\n",
       "      <th>Time_BL_Glo_HRV_SDNN</th>\n",
       "      <td>35.658915</td>\n",
       "    </tr>\n",
       "    <tr>\n",
       "      <th>Time_BL_Glo_HRV_RMSSD</th>\n",
       "      <td>31.782946</td>\n",
       "    </tr>\n",
       "    <tr>\n",
       "      <th>Time_BL_Glo_HRV_pNN50</th>\n",
       "      <td>71.317829</td>\n",
       "    </tr>\n",
       "    <tr>\n",
       "      <th>Time_BL_Glo_HRV_pNN20</th>\n",
       "      <td>67.441860</td>\n",
       "    </tr>\n",
       "    <tr>\n",
       "      <th>Time_BL_Glo_HR</th>\n",
       "      <td>47.286822</td>\n",
       "    </tr>\n",
       "  </tbody>\n",
       "</table>\n",
       "<p>4032 rows × 1 columns</p>\n",
       "</div>"
      ],
      "text/plain": [
       "                                                             data\n",
       "condition subject phase subphase name                            \n",
       "CFT       Vp01    MIST1 AT       HR                     92.039986\n",
       "                                 HR_Norm                -4.866102\n",
       "                                 HRV_SDNN               53.390947\n",
       "                                 HRV_RMSSD              32.343869\n",
       "                                 HRV_SD1SD2              0.318272\n",
       "...                                                           ...\n",
       "Control   Vp33    MIST3 RP_CFI   Time_BL_Glo_HRV_SDNN   35.658915\n",
       "                                 Time_BL_Glo_HRV_RMSSD  31.782946\n",
       "                                 Time_BL_Glo_HRV_pNN50  71.317829\n",
       "                                 Time_BL_Glo_HRV_pNN20  67.441860\n",
       "                                 Time_BL_Glo_HR         47.286822\n",
       "\n",
       "[4032 rows x 1 columns]"
      ]
     },
     "execution_count": 43,
     "metadata": {},
     "output_type": "execute_result"
    }
   ],
   "source": [
    "data_merged = pd.concat([hr_data, hr_data_norm, hrv_data, hrv_above_baseline], axis=1)\n",
    "#data_merged.index = data_merged.index.set_names(\"name\", level=-1)\n",
    "#data_merged = data_merged.reset_index().set_index([\"condition\", \"subject\", \"phase\", \"subphase\", \"type\", \"name\"])\n",
    "data_merged.columns.name = \"name\"\n",
    "data_merged = pd.concat({\"data\": data_merged.stack()}, axis=1)\n",
    "data_merged"
   ]
  },
  {
   "cell_type": "markdown",
   "metadata": {},
   "source": [
    "## Export Data"
   ]
  },
  {
   "cell_type": "code",
   "execution_count": 44,
   "metadata": {},
   "outputs": [],
   "source": [
    "data_merged.to_csv(ecg_path.joinpath(\"cft_measures_merged.csv\"))"
   ]
  },
  {
   "cell_type": "code",
   "execution_count": null,
   "metadata": {},
   "outputs": [],
   "source": []
  }
 ],
 "metadata": {
  "kernelspec": {
   "display_name": "cft_analysis",
   "language": "python",
   "name": "cft_analysis"
  },
  "language_info": {
   "codemirror_mode": {
    "name": "ipython",
    "version": 3
   },
   "file_extension": ".py",
   "mimetype": "text/x-python",
   "name": "python",
   "nbconvert_exporter": "python",
   "pygments_lexer": "ipython3",
   "version": "3.8.3"
  }
 },
 "nbformat": 4,
 "nbformat_minor": 4
}
