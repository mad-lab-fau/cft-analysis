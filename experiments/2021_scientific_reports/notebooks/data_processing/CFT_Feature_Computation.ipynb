{
 "cells": [
  {
   "cell_type": "markdown",
   "metadata": {},
   "source": [
    "# CFT Feature Computation"
   ]
  },
  {
   "cell_type": "markdown",
   "metadata": {},
   "source": [
    "## Setup and Helper Functions"
   ]
  },
  {
   "cell_type": "code",
   "execution_count": null,
   "metadata": {},
   "outputs": [],
   "source": [
    "import re\n",
    "from pathlib import Path\n",
    "\n",
    "import pandas as pd\n",
    "import numpy as np\n",
    "import pingouin as pg\n",
    "\n",
    "import matplotlib.pyplot as plt\n",
    "import seaborn as sns\n",
    "\n",
    "from tqdm.auto import tqdm\n",
    "\n",
    "import biopsykit as bp\n",
    "from biopsykit.protocols import CFT\n",
    "\n",
    "from cft_analysis.io import load_subject_data_dicts, load_subject_continuous_hrv_data\n",
    "from cft_analysis.cft import percent_above_baseline_hr, percent_above_baseline_hrv, cft_parameter_per_phase\n",
    "\n",
    "%load_ext autoreload\n",
    "%autoreload 2\n",
    "%matplotlib widget"
   ]
  },
  {
   "cell_type": "code",
   "execution_count": null,
   "metadata": {},
   "outputs": [],
   "source": [
    "plt.close(\"all\")\n",
    "\n",
    "palette = bp.colors.fau_palette\n",
    "sns.set_theme(context=\"notebook\", style=\"ticks\", palette=palette)\n",
    "\n",
    "plt.rcParams['figure.figsize'] = (10, 5)\n",
    "plt.rcParams['pdf.fonttype'] = 42\n",
    "plt.rcParams['mathtext.default'] = \"regular\"\n",
    "\n",
    "palette"
   ]
  },
  {
   "cell_type": "markdown",
   "metadata": {},
   "source": [
    "## Data Import"
   ]
  },
  {
   "cell_type": "code",
   "execution_count": null,
   "metadata": {},
   "outputs": [],
   "source": [
    "data_path = Path(\"../../../../Data\")\n",
    "ecg_path = data_path.joinpath(\"ecg\")\n",
    "\n",
    "data_path_export = Path(\"../../../data/processed\")\n",
    "ecg_path_export = data_path_export.joinpath(\"ecg\")\n",
    "\n",
    "bp.utils.file_handling.mkdirs([data_path_export, ecg_path_export])"
   ]
  },
  {
   "cell_type": "markdown",
   "metadata": {},
   "source": [
    "### Load Condition List"
   ]
  },
  {
   "cell_type": "code",
   "execution_count": null,
   "metadata": {},
   "outputs": [],
   "source": [
    "condition_list = bp.io.load_subject_condition_list(data_path.joinpath(\"condition_list.csv\"), return_dict=False)\n",
    "condition_dict = bp.io.load_subject_condition_list(data_path.joinpath(\"condition_list.csv\"), return_dict=True)\n",
    "condition_list = condition_list.set_index(\"condition\", append=True)\n",
    "condition_list.head()"
   ]
  },
  {
   "cell_type": "markdown",
   "metadata": {},
   "source": [
    "### Load HR(V) Data"
   ]
  },
  {
   "cell_type": "code",
   "execution_count": null,
   "metadata": {},
   "outputs": [],
   "source": [
    "subject_dirs = bp.utils.file_handling.get_subject_dirs(ecg_path, pattern=\"Vp\\w+\")"
   ]
  },
  {
   "cell_type": "code",
   "execution_count": null,
   "metadata": {},
   "outputs": [],
   "source": [
    "subject_data_dict_hr, subject_data_dict_rpeaks = load_subject_data_dicts(subject_dirs)\n",
    "\n",
    "subject_data_dict_hrv = load_subject_continuous_hrv_data(subject_dirs)"
   ]
  },
  {
   "cell_type": "code",
   "execution_count": null,
   "metadata": {},
   "outputs": [],
   "source": [
    "hrv_columns = [\"HRV_SDNN\", \"HRV_RMSSD\", \"HRV_pNN50\", \"HRV_pNN20\"]"
   ]
  },
  {
   "cell_type": "code",
   "execution_count": null,
   "metadata": {},
   "outputs": [],
   "source": [
    "dict_hr_above_bl = percent_above_baseline_hr(\n",
    "    subject_data_dict_hr\n",
    ")\n",
    "dict_hrv_above_bl = percent_above_baseline_hrv(\n",
    "    subject_data_dict_hrv,\n",
    "    hrv_columns\n",
    ")\n",
    "dict_cft_params = cft_parameter_per_phase(\n",
    "    subject_data_dict_hr, \n",
    "    condition_dict[\"CFT\"]\n",
    ")"
   ]
  },
  {
   "cell_type": "code",
   "execution_count": null,
   "metadata": {},
   "outputs": [],
   "source": [
    "level_names = [\"subject\", \"phase\", \"subphase\"]\n",
    "\n",
    "df_hr_above_bl = bp.utils.data_processing.concat_nested_dict(dict_hr_above_bl, level_names=level_names)\n",
    "df_hr_above_bl = pd.DataFrame(df_hr_above_bl, columns=[\"HR\"]).droplevel(-1)\n",
    "df_hr_above_bl = df_hr_above_bl.join(condition_list).reorder_levels([\"condition\"] + level_names)\n",
    "\n",
    "df_hrv_above_bl = bp.utils.data_processing.concat_nested_dict(dict_hrv_above_bl, level_names=level_names).unstack()\n",
    "df_hrv_above_bl = df_hrv_above_bl.join(condition_list).reorder_levels([\"condition\"] + level_names)\n",
    "\n",
    "df_hrv_above_bl = df_hrv_above_bl.join(df_hr_above_bl)\n",
    "df_hrv_above_bl.columns = [\"Time_BL_Glo_{}\".format(col) for col in df_hrv_above_bl.columns]\n",
    "df_hrv_above_bl.head()"
   ]
  },
  {
   "cell_type": "code",
   "execution_count": null,
   "metadata": {},
   "outputs": [],
   "source": [
    "level_names = [\"subject\", \"phase\"]\n",
    "\n",
    "df_cft = bp.utils.data_processing.concat_nested_dict(dict_cft_params, level_names=level_names)\n",
    "df_cft.index = df_cft.index.droplevel(-1)\n",
    "df_cft = df_cft.join(condition_list).reorder_levels([\"condition\"] + level_names)\n",
    "\n",
    "df_cft.head()"
   ]
  },
  {
   "cell_type": "code",
   "execution_count": null,
   "metadata": {},
   "outputs": [],
   "source": [
    "df_hrv_above_bl.to_csv(ecg_path_export.joinpath(\"cft_hrv_above_baseline.csv\"))\n",
    "df_cft.to_csv(ecg_path_export.joinpath(\"cft_parameter.csv\"))"
   ]
  },
  {
   "cell_type": "code",
   "execution_count": null,
   "metadata": {},
   "outputs": [],
   "source": []
  }
 ],
 "metadata": {
  "kernelspec": {
   "display_name": "cft_analysis",
   "language": "python",
   "name": "cft_analysis"
  },
  "language_info": {
   "codemirror_mode": {
    "name": "ipython",
    "version": 3
   },
   "file_extension": ".py",
   "mimetype": "text/x-python",
   "name": "python",
   "nbconvert_exporter": "python",
   "pygments_lexer": "ipython3",
   "version": "3.8.3"
  }
 },
 "nbformat": 4,
 "nbformat_minor": 4
}
