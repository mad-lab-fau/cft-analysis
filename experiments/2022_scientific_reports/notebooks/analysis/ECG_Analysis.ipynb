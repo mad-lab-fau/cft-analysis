{
 "cells": [
  {
   "cell_type": "markdown",
   "metadata": {},
   "source": [
    "# CFT – ECG Analysis"
   ]
  },
  {
   "cell_type": "markdown",
   "metadata": {},
   "source": [
    "## Setup and Helper Functions"
   ]
  },
  {
   "cell_type": "code",
   "execution_count": 1,
   "metadata": {},
   "outputs": [],
   "source": [
    "import json\n",
    "import re\n",
    "from pathlib import Path\n",
    "\n",
    "import pandas as pd\n",
    "import numpy as np\n",
    "import pingouin as pg\n",
    "\n",
    "import matplotlib.pyplot as plt\n",
    "import seaborn as sns\n",
    "\n",
    "from fau_colors import cmaps\n",
    "import biopsykit as bp\n",
    "from biopsykit.utils.dataframe_handling import multi_xs\n",
    "\n",
    "from cft_analysis.datasets import CftDatasetProcessed\n",
    "\n",
    "from IPython.display import Markdown\n",
    "\n",
    "%load_ext autoreload\n",
    "%autoreload 2\n",
    "%matplotlib widget"
   ]
  },
  {
   "cell_type": "code",
   "execution_count": 17,
   "metadata": {},
   "outputs": [
    {
     "data": {
      "text/html": [
       "<svg  width=\"275\" height=\"55\"><rect x=\"0\" y=\"0\" width=\"55\" height=\"55\" style=\"fill:#002f6c;stroke-width:2;stroke:rgb(255,255,255)\"/><rect x=\"55\" y=\"0\" width=\"55\" height=\"55\" style=\"fill:#5f7ca3;stroke-width:2;stroke:rgb(255,255,255)\"/><rect x=\"110\" y=\"0\" width=\"55\" height=\"55\" style=\"fill:#9fb1c8;stroke-width:2;stroke:rgb(255,255,255)\"/><rect x=\"165\" y=\"0\" width=\"55\" height=\"55\" style=\"fill:#bfcbda;stroke-width:2;stroke:rgb(255,255,255)\"/><rect x=\"220\" y=\"0\" width=\"55\" height=\"55\" style=\"fill:#dfe5ed;stroke-width:2;stroke:rgb(255,255,255)\"/></svg>"
      ],
      "text/plain": [
       "[(0.0, 0.1843137254901961, 0.4235294117647059),\n",
       " (0.37254901960784315, 0.48819684736639757, 0.6382929642445214),\n",
       " (0.6235294117647059, 0.6929181084198386, 0.7829757785467129),\n",
       " (0.7490196078431373, 0.795278738946559, 0.8553171856978086),\n",
       " (0.8745098039215686, 0.8976393694732795, 0.9276585928489043)]"
      ]
     },
     "execution_count": 17,
     "metadata": {},
     "output_type": "execute_result"
    }
   ],
   "source": [
    "sns.color_palette(cmaps.fau)"
   ]
  },
  {
   "cell_type": "code",
   "execution_count": 18,
   "metadata": {},
   "outputs": [
    {
     "data": {
      "text/plain": [
       "[[0, 47, 108],\n",
       " [95, 124, 162],\n",
       " [159, 176, 199],\n",
       " [191, 202, 218],\n",
       " [223, 228, 236]]"
      ]
     },
     "execution_count": 18,
     "metadata": {},
     "output_type": "execute_result"
    }
   ],
   "source": [
    "[list((int(c * 255) for c in x)) for x in cmaps.fau]"
   ]
  },
  {
   "cell_type": "code",
   "execution_count": null,
   "metadata": {},
   "outputs": [],
   "source": [
    "plt.close(\"all\")\n",
    "\n",
    "palette = sns.color_palette(cmaps.faculties)\n",
    "sns.set_theme(context=\"notebook\", style=\"ticks\", palette=palette)\n",
    "\n",
    "plt.rcParams[\"figure.figsize\"] = (8, 4)\n",
    "plt.rcParams[\"pdf.fonttype\"] = 42\n",
    "plt.rcParams[\"mathtext.default\"] = \"regular\"\n",
    "\n",
    "pg.options[\"round\"] = 4\n",
    "\n",
    "palette"
   ]
  },
  {
   "cell_type": "markdown",
   "metadata": {},
   "source": [
    "## Import Data"
   ]
  },
  {
   "cell_type": "code",
   "execution_count": null,
   "metadata": {},
   "outputs": [],
   "source": [
    "# get path to analysis results\n",
    "base_path = Path(\"../../data\")"
   ]
  },
  {
   "cell_type": "code",
   "execution_count": null,
   "metadata": {},
   "outputs": [],
   "source": [
    "results_path = base_path.joinpath(\"../results\")\n",
    "stats_path = results_path.joinpath(\"statistics\")\n",
    "tex_path = stats_path.joinpath(\"tex_tables\")\n",
    "bp.utils.file_handling.mkdirs([results_path, stats_path, tex_path])\n",
    "\n",
    "paper_path = Path(\"../paper_path.json\")\n",
    "paper_tex_path = None\n",
    "if paper_path.exists():\n",
    "    paper_path = Path(json.load(paper_path.open(encoding=\"utf-8\"))[\"paper_path\"])\n",
    "    paper_tex_path = paper_path.joinpath(\"tab\")\n",
    "    bp.utils.file_handling.mkdirs([paper_tex_path])"
   ]
  },
  {
   "cell_type": "code",
   "execution_count": null,
   "metadata": {},
   "outputs": [],
   "source": [
    "dataset = CftDatasetProcessed(base_path, exclude_subjects=True)\n",
    "dataset"
   ]
  },
  {
   "cell_type": "code",
   "execution_count": null,
   "metadata": {},
   "outputs": [],
   "source": [
    "hue_order = [\"Control\", \"CFT\"]"
   ]
  },
  {
   "cell_type": "markdown",
   "metadata": {},
   "source": [
    "## Response to the MIST"
   ]
  },
  {
   "cell_type": "markdown",
   "metadata": {},
   "source": [
    "### Descriptive Analysis"
   ]
  },
  {
   "cell_type": "markdown",
   "metadata": {},
   "source": [
    "To show the general efficacy of the MIST we compute the mean and maximum heart rate increase for each subject and MIST phase, respectively.  \n",
    "Afterwards, we compute mean and standard deviation over all subjects:"
   ]
  },
  {
   "cell_type": "code",
   "execution_count": null,
   "metadata": {},
   "outputs": [],
   "source": [
    "hr_ensemble = dataset.heart_rate_ensemble\n",
    "hr_ensemble.head()"
   ]
  },
  {
   "cell_type": "code",
   "execution_count": null,
   "metadata": {},
   "outputs": [],
   "source": [
    "hr_increase = hr_ensemble.groupby(\"phase\").agg([\"mean\", \"max\"])\n",
    "hr_increase = hr_increase.stack().agg([\"mean\", \"std\"], axis=1)\n",
    "hr_increase.round(2)"
   ]
  },
  {
   "cell_type": "markdown",
   "metadata": {},
   "source": [
    "### Statistical Analysis"
   ]
  },
  {
   "cell_type": "markdown",
   "metadata": {},
   "source": [
    "**Population**: Control condition\n",
    "\n",
    "**Analysis** (per measure):\n",
    "1. *Increase BL-AT*: Check whether Arithmetic Tasks of the MIST causes significant HR(V) responses.\n",
    "    * Procedure: Paired t-tests between subphases *BL* and *AT* for each MIST phase\n",
    "    * Expected Result: Significant HR(V) responses for each MIST phase\n",
    "2. *Increase over MIST*: Check whether the HR response increases over time (i.e., over MIST phases). \n",
    "    * Procedure: Repeated-measures ANOVA for each subphase\n",
    "    * *(only for HR)*: Post-hoc test to check which pairs of MIST phases show significant differences\n",
    "    * Expected Result: Significant main effect *MIST Phase* for each subphase\n",
    "\n",
    "\n",
    "**Findings**: \n",
    "* Each MIST Phase induces stress, indicated by significant differences between $BL_{Loc}$ and $AT$ in each individual MIST Phase\n",
    "* Stress levels increase over time, indicated by significant main effect *MIST Phase* and significant differences between MIST phases, especially between *MIST1* and *MIST3*"
   ]
  },
  {
   "cell_type": "markdown",
   "metadata": {},
   "source": [
    "#### Increase BL-AT"
   ]
  },
  {
   "cell_type": "code",
   "execution_count": null,
   "metadata": {},
   "outputs": [],
   "source": [
    "display(Markdown(\"##### Prepare Data\"))\n",
    "\n",
    "condition = \"Control\"\n",
    "subphases = [\"BL\", \"AT\"]\n",
    "measures = [\"HR_Norm\", \"HRV_RMSSD\", \"HRV_pNN50\"]\n",
    "\n",
    "hr_analysis = dataset.get_subset(condition=condition, subphase=subphases).hr_hrv\n",
    "hr_analysis = multi_xs(hr_analysis, measures, level=\"type\")\n",
    "\n",
    "display(hr_analysis.head())\n",
    "\n",
    "\n",
    "################################################\n",
    "display(Markdown(\"##### Statistics\"))\n",
    "\n",
    "steps = [(\"prep\", \"normality\"), (\"test\", \"pairwise_ttests\")]\n",
    "params = {\n",
    "    \"dv\": \"data\",\n",
    "    \"within\": \"subphase\",\n",
    "    \"subject\": \"subject\",\n",
    "    \"groupby\": [\"type\", \"phase\"],\n",
    "    \"multicomp\": {\"levels\": \"phase\"},\n",
    "}\n",
    "\n",
    "stats = bp.stats.StatsPipeline(steps, params)\n",
    "stats.apply(hr_analysis)\n",
    "\n",
    "stats.export_statistics(stats_path.joinpath(\"stats_hrv_response_bl_at.xlsx\"))\n",
    "stats.display_results(prep=False)\n",
    "\n",
    "\n",
    "################################################\n",
    "display(Markdown(\"##### Latex Output\"))\n",
    "\n",
    "index_rename_map = {\"HR_Norm\": \"HR\", \"HRV_RMSSD\": \"RMSSD\", \"HRV_pNN50\": \"pRR50\"}\n",
    "\n",
    "index_value_order = [\"HR_Norm\", \"HRV_RMSSD\", \"HRV_pNN50\"]\n",
    "\n",
    "caption = \"HR(V) responses of the Control condition to the MIST. \\\n",
    "Paired t-tests were performed between BL and AT subphases for each individual MIST phase.\\\n",
    "\"\n",
    "\n",
    "df_latex = stats.results_to_latex_table(\n",
    "    \"pairwise_ttests\",\n",
    "    unstack_levels=\"phase\",\n",
    "    index_kws={\n",
    "        \"index_value_order\": index_value_order,\n",
    "        \"index_rename_map\": index_rename_map,\n",
    "        \"index_level_names_tex\": [\"Measure\"],\n",
    "    },\n",
    "    caption=caption,\n",
    "    label=\"tab:hrv_response_mist\",\n",
    ")\n",
    "\n",
    "for path in [tex_path, paper_tex_path]:\n",
    "    if path is not None:\n",
    "        path.joinpath(\"tab_hrv_response_bl_at.tex\").open(mode=\"w+\").write(df_latex)\n",
    "print(df_latex)"
   ]
  },
  {
   "cell_type": "markdown",
   "metadata": {},
   "source": [
    "#### Increase over MIST"
   ]
  },
  {
   "cell_type": "code",
   "execution_count": null,
   "metadata": {
    "tags": []
   },
   "outputs": [],
   "source": [
    "display(Markdown(\"##### Prepare Data\"))\n",
    "\n",
    "measures = [\"HR_Norm\", \"HRV_RMSSD\", \"HRV_pNN50\"]\n",
    "subphases = [\"BL\", \"AT\", \"FB\"]\n",
    "conditions = [\"Control\"]\n",
    "\n",
    "hr_analysis = dataset.get_subset(condition=conditions, subphase=subphases).hr_hrv\n",
    "\n",
    "# Select data\n",
    "hr_analysis = multi_xs(hr_analysis, measures, level=\"type\")\n",
    "display(hr_analysis.head())\n",
    "\n",
    "#################################################################\n",
    "display(Markdown(\"##### Statistics\"))\n",
    "\n",
    "steps = [(\"prep\", \"normality\"), (\"prep\", \"equal_var\"), (\"test\", \"rm_anova\"), (\"posthoc\", \"pairwise_ttests\")]\n",
    "params = {\n",
    "    \"dv\": \"data\",\n",
    "    \"within\": \"phase\",\n",
    "    \"subject\": \"subject\",\n",
    "    \"groupby\": [\"subphase\", \"type\"],\n",
    "    \"multicomp\": {\"levels\": False},\n",
    "}\n",
    "\n",
    "stats = bp.stats.StatsPipeline(steps, params)\n",
    "stats.apply(hr_analysis)\n",
    "\n",
    "stats.export_statistics(stats_path.joinpath(\"stats_hrv_response_mist_phases.xlsx\"))\n",
    "stats.display_results(prep=True)  # , sig_only=\"posthoc\")\n",
    "\n",
    "#################################################################\n",
    "display(Markdown(\"##### Latex Output\"))\n",
    "index_rename_map = {\"HR_Norm\": \"HR\", \"HRV_RMSSD\": \"RMSSD\", \"HRV_pNN50\": \"pRR50\"}\n",
    "\n",
    "index_value_order = {\"type\": [\"HR_Norm\", \"HRV_RMSSD\", \"HRV_pNN50\"], \"subphase\": [\"BL\", \"AT\", \"FB\"]}\n",
    "\n",
    "caption = \"HR(V) measures during MIST for Control condition. \\\n",
    "Repeated-measurement ANOVAs were performed separately for BL, AT, and FB subphases. \\\n",
    "Within-variable: MIST phase.\"\n",
    "\n",
    "df_latex = stats.results_to_latex_table(\n",
    "    \"rm_anova\",\n",
    "    unstack_levels=[\"subphase\"],\n",
    "    index_kws={\n",
    "        \"index_value_order\": index_value_order,\n",
    "        \"index_rename_map\": index_rename_map,\n",
    "        \"index_level_names_tex\": [\"Measure\"],\n",
    "    },\n",
    "    caption=caption,\n",
    "    label=\"tab:hrv_increase_mist\",\n",
    "    multicolumn_format=\"c\",\n",
    "    escape=False,\n",
    "    multirow=True,\n",
    ")\n",
    "\n",
    "for path in [tex_path, paper_tex_path]:\n",
    "    if path is not None:\n",
    "        paper_tex_path.joinpath(\"tab_hrv_response_mist_phases.tex\").open(mode=\"w+\").write(df_latex)\n",
    "\n",
    "print(stats.stats_to_latex(\"pairwise_ttests\"))\n",
    "print(df_latex)"
   ]
  },
  {
   "cell_type": "markdown",
   "metadata": {},
   "source": [
    "## Response to the CFT"
   ]
  },
  {
   "cell_type": "code",
   "execution_count": null,
   "metadata": {},
   "outputs": [],
   "source": [
    "features = [\"onset_latency\", \"peak_brady_latency\", \"peak_brady_percent\", \"mean_brady_percent\"]"
   ]
  },
  {
   "cell_type": "markdown",
   "metadata": {},
   "source": [
    "### Descriptive Analysis"
   ]
  },
  {
   "cell_type": "code",
   "execution_count": null,
   "metadata": {},
   "outputs": [],
   "source": [
    "cft_analysis = dataset.cft_parameter\n",
    "cft_analysis.head()"
   ]
  },
  {
   "cell_type": "code",
   "execution_count": null,
   "metadata": {
    "tags": []
   },
   "outputs": [],
   "source": [
    "cft_analysis = multi_xs(cft_analysis, features, level=\"type\")\n",
    "cft_analysis_agg = cft_analysis.unstack()[\"data\"]\n",
    "\n",
    "cft_analysis_agg = (\n",
    "    cft_analysis_agg.groupby(\"phase\")\n",
    "    .agg(\n",
    "        {\n",
    "            \"onset_latency\": [\"mean\", \"std\"],\n",
    "            \"peak_brady_latency\": [\"mean\", \"std\"],\n",
    "            \"peak_brady_percent\": [\"min\", \"mean\", \"std\"],\n",
    "            \"mean_brady_percent\": [\"min\", \"mean\", \"std\"],\n",
    "        }\n",
    "    )\n",
    "    .T\n",
    ")\n",
    "cft_analysis_agg"
   ]
  },
  {
   "cell_type": "code",
   "execution_count": null,
   "metadata": {},
   "outputs": [],
   "source": [
    "cft_time_bl_glo = dataset.get_subset(condition=\"CFT\", subphase=\"RP_CFI\").time_above_baseline\n",
    "cft_time_bl_glo = cft_time_bl_glo.xs(\"HR\", level=\"type\")\n",
    "cft_time_bl_glo = cft_time_bl_glo.groupby(\"phase\").agg([\"mean\", \"std\"]).T\n",
    "cft_time_bl_glo.round(2)"
   ]
  },
  {
   "cell_type": "markdown",
   "metadata": {},
   "source": [
    "### Statistical Analysis"
   ]
  },
  {
   "cell_type": "markdown",
   "metadata": {},
   "source": [
    "**Population**: CFT condition  \n",
    "**Analysis** (per measure):\n",
    "1. *Decrease BL-RP_CFI*: Check whether Cold Face Intervention causes significant HR(V) responses.\n",
    "    * Procedure: Paired t-tests between subphases *BL* and *RP_CFI* for each MIST phase\n",
    "    * Expected Result: Significant HR(V) responses during each MIST phase\n",
    "\n",
    "\n",
    "**Findings**: \n",
    "* Each MIST Phase induces stress, indicated by significant differences between $BL_{Loc}$ and $AT$ in each individual MIST Phase\n",
    "* Stress levels increase over time, indicated by significant main effect *MIST Phase* and significant differences between MIST phases, especially between *MIST1* and *MIST3*"
   ]
  },
  {
   "cell_type": "markdown",
   "metadata": {},
   "source": [
    "#### Decrease *BL-RP_CFI*"
   ]
  },
  {
   "cell_type": "code",
   "execution_count": null,
   "metadata": {},
   "outputs": [],
   "source": [
    "display(Markdown(\"##### Prepare Data\"))\n",
    "\n",
    "subphases = [\"BL\", \"RP_CFI\"]\n",
    "conditions = [\"CFT\"]\n",
    "measures = [\"HR_Norm\", \"HRV_RMSSD\", \"HRV_pNN50\"]\n",
    "\n",
    "hr_analysis = dataset.get_subset(condition=conditions, subphase=subphases).hr_hrv\n",
    "hr_analysis = multi_xs(hr_analysis, measures, level=\"type\")\n",
    "display(hr_analysis.head())\n",
    "\n",
    "################################################################\n",
    "display(Markdown(\"##### Statistics\"))\n",
    "\n",
    "steps = [(\"prep\", \"normality\"), (\"test\", \"pairwise_ttests\")]\n",
    "params = {\n",
    "    \"dv\": \"data\",\n",
    "    \"within\": \"subphase\",\n",
    "    \"subject\": \"subject\",\n",
    "    \"groupby\": [\"type\", \"phase\"],\n",
    "    \"multicomp\": {\"levels\": \"phase\"},\n",
    "}\n",
    "\n",
    "stats = bp.stats.StatsPipeline(steps, params)\n",
    "stats.apply(hr_analysis)\n",
    "\n",
    "stats.export_statistics(stats_path.joinpath(\"stats_hr_response_bl_cfi.xlsx\"))\n",
    "stats.display_results(prep=False)\n",
    "\n",
    "################################################################\n",
    "display(Markdown(\"##### Latex Output\"))\n",
    "\n",
    "index_rename_map = {\"HR_Norm\": \"HR\", \"HRV_RMSSD\": \"RMSSD\", \"HRV_pNN50\": \"pRR50\"}\n",
    "\n",
    "index_value_order = [\"HR_Norm\", \"HRV_RMSSD\", \"HRV_pNN50\"]\n",
    "\n",
    "caption = \"HR(V) responses of the CFI condition to the Cold Face Test. \\\n",
    "Paired t-tests were performed between BL and RP/CFI subphases for each MIST phase separately.\"\n",
    "\n",
    "df_latex = stats.results_to_latex_table(\n",
    "    \"pairwise_ttests\",\n",
    "    unstack_levels=\"phase\",\n",
    "    index_kws={\n",
    "        \"index_value_order\": index_value_order,\n",
    "        \"index_rename_map\": index_rename_map,\n",
    "        \"index_level_names_tex\": [\"Measure\"],\n",
    "    },\n",
    "    caption=caption,\n",
    "    label=\"tab:hrv_response_cft\",\n",
    ")\n",
    "\n",
    "for path in [tex_path, paper_tex_path]:\n",
    "    if path is not None:\n",
    "        path.joinpath(\"tab_hrv_response_bl_cfi.tex\").open(mode=\"w+\").write(df_latex)\n",
    "print(df_latex)"
   ]
  },
  {
   "cell_type": "markdown",
   "metadata": {},
   "source": [
    "## Effect of CFT on Acute Stress Response"
   ]
  },
  {
   "cell_type": "markdown",
   "metadata": {},
   "source": [
    "### Statistical Analysis"
   ]
  },
  {
   "cell_type": "markdown",
   "metadata": {},
   "source": [
    "#### Interaction Condition x MIST"
   ]
  },
  {
   "cell_type": "markdown",
   "metadata": {},
   "source": [
    "**Population**: Control vs. CFT condition  \n",
    "\n",
    "**Analysis** (per measure):\n",
    "1. *Interaction Condition x MIST Phase*: Check whether Cold Face Intervention has an effect on the HR(V) responses to the MIST.\n",
    "    * Procedure:\n",
    "        * Mixed-ANOVA to determine interaction effect between *Condition* and *MIST Phase*\n",
    "        * In case of significant interaction effect: Post-hoc test to assess during which MIST Phase the conditions showed HR(V) response differences\n",
    "    * Expected Result: Significant interaction effect between *Condition* and *MIST Phase*\n",
    "\n",
    "\n",
    "**Findings**: \n",
    "* Each MIST Phase induces stress, indicated by significant differences between $BL_{Loc}$ and $AT$ in each individual MIST Phase\n",
    "* Stress levels increase over time, indicated by significant main effect *MIST Phase* and significant differences between MIST phases, especially between *MIST1* and *MIST3*"
   ]
  },
  {
   "cell_type": "code",
   "execution_count": null,
   "metadata": {},
   "outputs": [],
   "source": [
    "display(Markdown(\"##### Prepare Data\"))\n",
    "\n",
    "phases = [\"MIST1\", \"MIST2\", \"MIST3\"]\n",
    "subphases = [\"BL\", \"RP_CFI\"]\n",
    "hr_measures = [\"HR_Norm\", \"HRV_RMSSD\", \"HRV_pNN50\"]\n",
    "time_bl_measures = [\"HR\", \"HRV_RMSSD\", \"HRV_pNN50\"]\n",
    "\n",
    "hr_analysis = dataset.get_subset(phase=phases, subphase=subphases).hr_hrv\n",
    "hr_analysis = multi_xs(hr_analysis, hr_measures, level=\"type\")\n",
    "time_bl_analysis = dataset.get_subset(phase=phases, subphase=subphases).time_above_baseline\n",
    "time_bl_analysis = multi_xs(time_bl_analysis, time_bl_measures, level=\"type\")\n",
    "\n",
    "hr_analysis = hr_analysis.unstack([\"type\", \"category\"]).join(time_bl_analysis.unstack([\"type\", \"category\"]))\n",
    "hr_analysis = hr_analysis.stack([\"category\", \"type\"])\n",
    "display(hr_analysis.head())\n",
    "\n",
    "\n",
    "#################################################################\n",
    "display(Markdown(\"##### Statistics\"))\n",
    "\n",
    "steps = [(\"prep\", \"normality\"), (\"prep\", \"equal_var\"), (\"test\", \"mixed_anova\"), (\"posthoc\", \"pairwise_ttests\")]\n",
    "params = {\n",
    "    \"dv\": \"data\",\n",
    "    \"within\": \"phase\",\n",
    "    \"between\": \"condition\",\n",
    "    \"subject\": \"subject\",\n",
    "    \"groupby\": [\"category\", \"type\", \"subphase\"],\n",
    "    \"padjust\": \"bonf\",\n",
    "}\n",
    "\n",
    "stats = bp.stats.StatsPipeline(steps, params)\n",
    "stats.apply(hr_analysis)\n",
    "\n",
    "stats.export_statistics(stats_path.joinpath(\"stats_effect_cft_interaction.xlsx\"))\n",
    "stats.display_results(prep=False, posthoc=False, sig_only=[\"test\", \"posthoc\"])\n",
    "\n",
    "#################################################################\n",
    "display(Markdown(\"##### Latex Output\"))\n",
    "\n",
    "index_rename_map = {\n",
    "    \"HR_HR_Norm\": \"$\\Delta HR$\",\n",
    "    \"HRV_HRV_RMSSD\": \"RMSSD\",\n",
    "    \"HRV_HRV_pNN50\": \"pRR50\",\n",
    "    \"RP_CFI\": \"RP/CFI\",\n",
    "    \"Time_BL_Glo_HR\": \"$\\hat{t}_{Glo}(HR)$\",\n",
    "    \"Time_BL_Glo_HRV_RMSSD\": \"$\\hat{t}_{Glo}(RMSSD)$\",\n",
    "    \"Time_BL_Glo_HRV_pNN50\": \"$\\hat{t}_{Glo}(pRR50)$\",\n",
    "}\n",
    "\n",
    "index_value_order = {\n",
    "    \"type\": [\n",
    "        \"HR_HR_Norm\",\n",
    "        \"Time_BL_Glo_HR\",\n",
    "        \"HRV_HRV_RMSSD\",\n",
    "        \"Time_BL_Glo_HRV_RMSSD\",\n",
    "        \"HRV_HRV_pNN50\",\n",
    "        \"Time_BL_Glo_HRV_pNN50\",\n",
    "    ]\n",
    "}\n",
    "\n",
    "#################################################################\n",
    "display(Markdown(\"###### Interaction Effect\"))\n",
    "\n",
    "data = stats.results[\"mixed_anova\"]\n",
    "data = data.xs(\"BL\", level=\"subphase\")\n",
    "data = data.unstack(-1)\n",
    "data.index = [\"_\".join(val) for val in data.index]\n",
    "data.index.names = [\"type\"]\n",
    "data = data.stack(-1)\n",
    "\n",
    "caption = \"Mixed-ANOVA results (interaction effect MIST Phase x Condition) of HR(V) measures during BL subphase.\"\n",
    "\n",
    "df_latex = stats.results_to_latex_table(\n",
    "    \"mixed_anova\",\n",
    "    data=data,\n",
    "    stats_effect_type=\"Interaction\",\n",
    "    collapse_dof=True,\n",
    "    index_kws={\n",
    "        \"index_value_order\": index_value_order,\n",
    "        \"index_rename_map\": index_rename_map,\n",
    "        \"index_level_names_tex\": [\"Measure\"],\n",
    "    },\n",
    "    caption=caption,\n",
    "    label=\"tab:cft_mist_interaction\",\n",
    ")\n",
    "\n",
    "for path in [tex_path, paper_tex_path]:\n",
    "    if path is not None:\n",
    "        path.joinpath(\"tab_hrv_response_cft_interaction.tex\").open(mode=\"w+\").write(df_latex)\n",
    "print(df_latex)\n",
    "\n",
    "\n",
    "#################################################################\n",
    "display(Markdown(\"###### Main Effect Condition\"))\n",
    "\n",
    "data = stats.results[\"mixed_anova\"]\n",
    "data = data.xs(\"RP_CFI\", level=\"subphase\")\n",
    "data = data.unstack(-1)\n",
    "data.index = [\"_\".join(val) for val in data.index]\n",
    "data.index.names = [\"type\"]\n",
    "data = data.stack(-1)\n",
    "\n",
    "caption = \"Mixed-ANOVA results (main effect Condition) of HR(V) measures during RP/CFI subphase.\"\n",
    "\n",
    "df_latex = stats.results_to_latex_table(\n",
    "    \"mixed_anova\",\n",
    "    data=data,\n",
    "    stats_effect_type=\"condition\",\n",
    "    index_kws={\n",
    "        \"index_value_order\": index_value_order,\n",
    "        \"index_rename_map\": index_rename_map,\n",
    "        \"index_level_names_tex\": [\"Measure\"],\n",
    "    },\n",
    "    caption=caption,\n",
    "    label=\"tab:cft_mist_main_effect\",\n",
    ")\n",
    "for path in [tex_path, paper_tex_path]:\n",
    "    if path is not None:\n",
    "        path.joinpath(\"tab_hrv_response_cft_main_effect.tex\").open(mode=\"w+\").write(df_latex)\n",
    "print(df_latex)\n",
    "\n",
    "#################################################################\n",
    "display(Markdown(\"###### Post-Hoc\"))\n",
    "\n",
    "posthoc_results = stats._filter_effect(\"posthoc\", \"interaction\")\n",
    "posthoc_results = multi_xs(posthoc_results, [\"HR\", \"Time_BL_Glo\"], level=\"category\")\n",
    "posthoc_results = multi_xs(posthoc_results, [\"HR\", \"HR_Norm\"], level=\"type\")\n",
    "posthoc_results = posthoc_results.xs(\"BL\", level=\"subphase\")\n",
    "posthoc_results = posthoc_results.set_index(\"phase\", append=True)\n",
    "\n",
    "print(stats.stats_to_latex(data=posthoc_results))"
   ]
  },
  {
   "cell_type": "markdown",
   "metadata": {},
   "source": [
    "### Plots"
   ]
  },
  {
   "cell_type": "code",
   "execution_count": null,
   "metadata": {},
   "outputs": [],
   "source": [
    "category = [\"HR\"]\n",
    "feature = [\"HR_Norm\"]\n",
    "subphase = [\"BL\"]\n",
    "\n",
    "hr_plot = dataset.get_subset(subphase=subphase).heart_rate\n",
    "hr_plot = multi_xs(hr_plot, feature, level=\"type\")\n",
    "\n",
    "stats_data = stats.results_cat(\"posthoc\").loc[category, feature, subphase]\n",
    "box_pairs, pvalues = stats.sig_brackets(stats_data, stats_effect_type=\"interaction\", plot_type=\"multi\", x=\"phase\")\n",
    "\n",
    "fig, ax = plt.subplots()\n",
    "bp.plotting.feature_boxplot(\n",
    "    data=hr_plot.reset_index(),\n",
    "    x=\"phase\",\n",
    "    y=\"data\",\n",
    "    hue=\"condition\",\n",
    "    hue_order=hue_order,\n",
    "    stats_kwargs={\"box_pairs\": box_pairs, \"pvalues\": pvalues},\n",
    "    legend_loc=\"upper left\",\n",
    "    ax=ax,\n",
    ")\n",
    "\n",
    "ax.set_xlabel(\"Phase\")\n",
    "ax.set_ylabel(\"$\\Delta$ HR during $BL_{Loc}$ [%]\")\n",
    "\n",
    "fig.tight_layout()"
   ]
  },
  {
   "cell_type": "code",
   "execution_count": null,
   "metadata": {},
   "outputs": [],
   "source": [
    "category = [\"Time_BL_Glo\"]\n",
    "feature = [\"HR\"]\n",
    "subphase = [\"BL\"]\n",
    "\n",
    "hr_plot = dataset.get_subset(subphase=subphase).time_above_baseline\n",
    "hr_plot = multi_xs(hr_plot, feature, level=\"type\")\n",
    "\n",
    "\n",
    "stats_data = stats.results_cat(\"posthoc\").loc[category, feature, subphase, :]\n",
    "box_pairs, pvalues = stats.sig_brackets(stats_data, stats_effect_type=\"interaction\", plot_type=\"multi\", x=\"phase\")\n",
    "\n",
    "fig, ax = plt.subplots()\n",
    "bp.plotting.feature_boxplot(\n",
    "    data=hr_plot.reset_index(),\n",
    "    x=\"phase\",\n",
    "    y=\"data\",\n",
    "    hue=\"condition\",\n",
    "    hue_order=hue_order,\n",
    "    stats_kwargs={\"box_pairs\": box_pairs, \"pvalues\": pvalues},\n",
    "    legend_loc=\"upper left\",\n",
    "    ax=ax,\n",
    ")\n",
    "\n",
    "\n",
    "ax.set_xlabel(\"Phase\")\n",
    "ax.set_ylabel(\"$\\hat{t}_{Glo}(HR)$ during BL [%]\")\n",
    "\n",
    "fig.tight_layout()"
   ]
  },
  {
   "cell_type": "code",
   "execution_count": null,
   "metadata": {},
   "outputs": [],
   "source": []
  },
  {
   "cell_type": "code",
   "execution_count": null,
   "metadata": {},
   "outputs": [],
   "source": []
  }
 ],
 "metadata": {
  "kernelspec": {
   "display_name": "cft_analysis",
   "language": "python",
   "name": "cft_analysis"
  },
  "language_info": {
   "codemirror_mode": {
    "name": "ipython",
    "version": 3
   },
   "file_extension": ".py",
   "mimetype": "text/x-python",
   "name": "python",
   "nbconvert_exporter": "python",
   "pygments_lexer": "ipython3",
   "version": "3.8.3"
  }
 },
 "nbformat": 4,
 "nbformat_minor": 4
}