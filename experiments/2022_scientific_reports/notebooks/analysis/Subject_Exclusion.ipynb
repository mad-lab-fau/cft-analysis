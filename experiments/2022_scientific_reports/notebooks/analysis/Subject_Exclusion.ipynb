{
 "cells": [
  {
   "cell_type": "markdown",
   "metadata": {},
   "source": [
    "# Subject Exclusion"
   ]
  },
  {
   "cell_type": "markdown",
   "metadata": {},
   "source": [
    "This notebook assesses whether any subjects need to be excluded from furhter analysis."
   ]
  },
  {
   "cell_type": "markdown",
   "metadata": {},
   "source": [
    "## Imports and Helper Functions"
   ]
  },
  {
   "cell_type": "code",
   "execution_count": null,
   "metadata": {},
   "outputs": [],
   "source": [
    "import json\n",
    "import re\n",
    "from pathlib import Path\n",
    "\n",
    "import pandas as pd\n",
    "import numpy as np\n",
    "import pingouin as pg\n",
    "\n",
    "import matplotlib.pyplot as plt\n",
    "import seaborn as sns\n",
    "\n",
    "from scipy.stats import zscore\n",
    "\n",
    "import biopsykit as bp\n",
    "\n",
    "from cft_analysis.datasets import CftDatasetProcessed\n",
    "\n",
    "%load_ext autoreload\n",
    "%autoreload 2\n",
    "%matplotlib widget"
   ]
  },
  {
   "cell_type": "code",
   "execution_count": null,
   "metadata": {},
   "outputs": [],
   "source": [
    "plt.close(\"all\")\n",
    "\n",
    "palette = bp.colors.fau_palette\n",
    "sns.set_theme(context=\"notebook\", style=\"ticks\", palette=palette)\n",
    "\n",
    "plt.rcParams['figure.figsize'] = (10, 5)\n",
    "plt.rcParams['pdf.fonttype'] = 42\n",
    "plt.rcParams['mathtext.default'] = \"regular\"\n",
    "\n",
    "palette"
   ]
  },
  {
   "cell_type": "markdown",
   "metadata": {},
   "source": [
    "## Data Import"
   ]
  },
  {
   "cell_type": "code",
   "execution_count": null,
   "metadata": {
    "tags": []
   },
   "outputs": [],
   "source": [
    "# get path to analysis results\n",
    "base_path = Path(\"../../data\")"
   ]
  },
  {
   "cell_type": "code",
   "execution_count": null,
   "metadata": {},
   "outputs": [],
   "source": [
    "dataset = CftDatasetProcessed(base_path, exclude_subjects=False)\n",
    "dataset"
   ]
  },
  {
   "cell_type": "markdown",
   "metadata": {},
   "source": [
    "## Check for Subject Exclusion Criteria"
   ]
  },
  {
   "cell_type": "code",
   "execution_count": null,
   "metadata": {},
   "outputs": [],
   "source": [
    "subject_ids_to_exclude = []"
   ]
  },
  {
   "cell_type": "markdown",
   "metadata": {},
   "source": [
    "### High Initial Cortisol Levels\n",
    "\n",
    "Subjects are excluded if they have a high initial cortisol level (sample `S0`).\n",
    "\n",
    "Exclusion criteria: $\\geq 3\\sigma$"
   ]
  },
  {
   "cell_type": "code",
   "execution_count": null,
   "metadata": {},
   "outputs": [],
   "source": [
    "cort_samples = dataset.cortisol"
   ]
  },
  {
   "cell_type": "code",
   "execution_count": null,
   "metadata": {},
   "outputs": [],
   "source": [
    "cort_samples_s0 = cort_samples.xs(\"S0\", level=\"sample\")"
   ]
  },
  {
   "cell_type": "code",
   "execution_count": null,
   "metadata": {},
   "outputs": [],
   "source": [
    "cort_exclude = cort_samples.where((zscore(cort_samples_s0) > 3.0)).dropna()\n",
    "cort_exclude"
   ]
  },
  {
   "cell_type": "markdown",
   "metadata": {},
   "source": [
    "**Conclusion**:\n",
    "\n",
    "Remove `Vp22`"
   ]
  },
  {
   "cell_type": "code",
   "execution_count": null,
   "metadata": {},
   "outputs": [],
   "source": [
    "subject_ids = list(cort_exclude.index.get_level_values(\"subject\").unique())\n",
    "if all(s not in subject_ids_to_exclude for s in subject_ids):\n",
    "    subject_ids_to_exclude.extend(subject_ids)\n",
    "subject_ids_to_exclude"
   ]
  },
  {
   "cell_type": "markdown",
   "metadata": {},
   "source": [
    "### Heart Rate Outlier"
   ]
  },
  {
   "cell_type": "markdown",
   "metadata": {},
   "source": [
    "Subjects are excluded if their heart rate response is an outlier, i.e., does not represent the population.\n",
    "\n",
    "\n",
    "Exclusion criteria: $\\text{HR} \\geq 3\\sigma$"
   ]
  },
  {
   "cell_type": "code",
   "execution_count": null,
   "metadata": {},
   "outputs": [],
   "source": [
    "hr_data = dataset.get_subset(subphase=\"AT\").heart_rate\n",
    "hr_data = hr_data.xs(\"HR_Norm\", level=\"type\")"
   ]
  },
  {
   "cell_type": "code",
   "execution_count": null,
   "metadata": {},
   "outputs": [],
   "source": [
    "hr_mask = zscore(hr_data.unstack(\"phase\")) > 3\n",
    "hr_exclude = hr_mask.where(hr_mask.any(axis=1)).dropna()\n",
    "hr_exclude"
   ]
  },
  {
   "cell_type": "markdown",
   "metadata": {},
   "source": [
    "**Conclusion**:\n",
    "\n",
    "Remove `Vp10`"
   ]
  },
  {
   "cell_type": "code",
   "execution_count": null,
   "metadata": {},
   "outputs": [],
   "source": [
    "subject_ids = list(hr_exclude.index.get_level_values(\"subject\").unique())\n",
    "if all(s not in subject_ids_to_exclude for s in subject_ids):\n",
    "    subject_ids_to_exclude.extend(subject_ids)\n",
    "subject_ids_to_exclude"
   ]
  },
  {
   "cell_type": "markdown",
   "metadata": {},
   "source": [
    "### CFT Non-Responder"
   ]
  },
  {
   "cell_type": "markdown",
   "metadata": {},
   "source": [
    "Subjects are excluded if they do not respond to the CFT at all, i.e., do not show an decrease in heart rate relative to Baseline.\n",
    "\n",
    "Exclusion criteria: $\\text{HR}_{CFI} > 0$"
   ]
  },
  {
   "cell_type": "code",
   "execution_count": null,
   "metadata": {},
   "outputs": [],
   "source": [
    "hr_data_cft = dataset.get_subset(condition=\"CFT\", subphase=\"RP_CFI\").heart_rate\n",
    "hr_data_cft = hr_data_cft.xs(\"HR_Norm\", level=\"type\")\n",
    "\n",
    "hr_cft_exclude = hr_data_cft.unstack(\"phase\").where((hr_data_cft.unstack(\"phase\") > 0).all(axis=1)).dropna()\n",
    "hr_cft_exclude"
   ]
  },
  {
   "cell_type": "markdown",
   "metadata": {},
   "source": [
    "**Conclusion**:\n",
    "\n",
    "Remove `Vp07`"
   ]
  },
  {
   "cell_type": "code",
   "execution_count": null,
   "metadata": {},
   "outputs": [],
   "source": [
    "subject_ids = list(hr_cft_exclude.index.get_level_values(\"subject\").unique())\n",
    "if all(s not in subject_ids_to_exclude for s in subject_ids):\n",
    "    subject_ids_to_exclude.extend(subject_ids)\n",
    "subject_ids_to_exclude"
   ]
  },
  {
   "cell_type": "markdown",
   "metadata": {},
   "source": [
    "## Save Results from Subject Exclusion"
   ]
  },
  {
   "cell_type": "code",
   "execution_count": null,
   "metadata": {},
   "outputs": [],
   "source": [
    "subject_ids_to_exclude = pd.Series(subject_ids_to_exclude, name=\"subject\")\n",
    "\n",
    "subject_ids_to_exclude.to_csv(base_path.joinpath(\"excluded_subjects.csv\"), index=False)"
   ]
  },
  {
   "cell_type": "code",
   "execution_count": null,
   "metadata": {},
   "outputs": [],
   "source": []
  }
 ],
 "metadata": {
  "kernelspec": {
   "display_name": "cft_analysis",
   "language": "python",
   "name": "cft_analysis"
  },
  "language_info": {
   "codemirror_mode": {
    "name": "ipython",
    "version": 3
   },
   "file_extension": ".py",
   "mimetype": "text/x-python",
   "name": "python",
   "nbconvert_exporter": "python",
   "pygments_lexer": "ipython3",
   "version": "3.8.3"
  }
 },
 "nbformat": 4,
 "nbformat_minor": 4
}
