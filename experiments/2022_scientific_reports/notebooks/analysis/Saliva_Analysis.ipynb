{
 "cells": [
  {
   "cell_type": "markdown",
   "metadata": {},
   "source": [
    "# CFT – Saliva Analysis"
   ]
  },
  {
   "cell_type": "markdown",
   "metadata": {},
   "source": [
    "## Setup and Helper Functions"
   ]
  },
  {
   "cell_type": "code",
   "execution_count": null,
   "metadata": {},
   "outputs": [],
   "source": [
    "import json\n",
    "import re\n",
    "from pathlib import Path\n",
    "\n",
    "import pandas as pd\n",
    "import numpy as np\n",
    "import pingouin as pg\n",
    "\n",
    "import matplotlib.pyplot as plt\n",
    "import seaborn as sns\n",
    "\n",
    "from fau_colors import cmaps\n",
    "import biopsykit as bp\n",
    "from biopsykit.protocols import MIST\n",
    "\n",
    "from cft_analysis.datasets import CftDatasetProcessed\n",
    "\n",
    "from IPython.display import Markdown\n",
    "\n",
    "%load_ext autoreload\n",
    "%autoreload 2\n",
    "%matplotlib widget"
   ]
  },
  {
   "cell_type": "code",
   "execution_count": null,
   "metadata": {},
   "outputs": [],
   "source": [
    "plt.close(\"all\")\n",
    "\n",
    "palette = sns.color_palette(cmaps.faculties)\n",
    "sns.set_theme(context=\"notebook\", style=\"ticks\", palette=palette)\n",
    "\n",
    "plt.rcParams[\"figure.figsize\"] = (10, 4)\n",
    "plt.rcParams[\"pdf.fonttype\"] = 42\n",
    "plt.rcParams[\"mathtext.default\"] = \"regular\"\n",
    "\n",
    "palette"
   ]
  },
  {
   "cell_type": "markdown",
   "metadata": {},
   "source": [
    "## Import Data"
   ]
  },
  {
   "cell_type": "code",
   "execution_count": null,
   "metadata": {},
   "outputs": [],
   "source": [
    "# get path to analysis results\n",
    "base_path = Path(\"../../data\")"
   ]
  },
  {
   "cell_type": "code",
   "execution_count": null,
   "metadata": {},
   "outputs": [],
   "source": [
    "results_path = base_path.joinpath(\"../results\")\n",
    "stats_path = results_path.joinpath(\"statistics\")\n",
    "tex_path = stats_path.joinpath(\"tex_tables\")\n",
    "bp.utils.file_handling.mkdirs([results_path, stats_path, tex_path])\n",
    "\n",
    "paper_path = Path(\"../paper_path.json\")\n",
    "paper_tex_path = None\n",
    "if paper_path.exists():\n",
    "    paper_path = Path(json.load(paper_path.open(encoding=\"utf-8\"))[\"paper_path\"])\n",
    "    paper_tex_path = paper_path.joinpath(\"tab\")\n",
    "    bp.utils.file_handling.mkdirs([paper_tex_path])"
   ]
  },
  {
   "cell_type": "code",
   "execution_count": null,
   "metadata": {},
   "outputs": [],
   "source": [
    "dataset = CftDatasetProcessed(base_path, exclude_subjects=True)\n",
    "dataset"
   ]
  },
  {
   "cell_type": "code",
   "execution_count": null,
   "metadata": {},
   "outputs": [],
   "source": [
    "cort_samples = dataset.cortisol\n",
    "cort_features = dataset.cortisol_features"
   ]
  },
  {
   "cell_type": "code",
   "execution_count": null,
   "metadata": {},
   "outputs": [],
   "source": [
    "sample_times = dataset.sample_times\n",
    "\n",
    "hue_order = [\"Control\", \"CFT\"]"
   ]
  },
  {
   "cell_type": "code",
   "execution_count": null,
   "metadata": {},
   "outputs": [],
   "source": [
    "mist = MIST.from_file(base_path.joinpath(\"mist_cft.json\"))\n",
    "mist"
   ]
  },
  {
   "cell_type": "code",
   "execution_count": null,
   "metadata": {},
   "outputs": [],
   "source": [
    "mist.add_saliva_data(cort_samples, \"cortisol\", sample_times=sample_times)"
   ]
  },
  {
   "cell_type": "markdown",
   "metadata": {},
   "source": [
    "Drop cortisol sample `S0` for further analysis (only used to check for high cortisol baseline)"
   ]
  },
  {
   "cell_type": "code",
   "execution_count": null,
   "metadata": {},
   "outputs": [],
   "source": [
    "cort_samples = cort_samples.drop(\"S0\", level=\"sample\")"
   ]
  },
  {
   "cell_type": "markdown",
   "metadata": {},
   "source": [
    "## Descriptive Analysis"
   ]
  },
  {
   "cell_type": "markdown",
   "metadata": {},
   "source": [
    "### Cortisol Increase"
   ]
  },
  {
   "cell_type": "markdown",
   "metadata": {},
   "source": [
    "Mean cortisol increase after MIST:"
   ]
  },
  {
   "cell_type": "code",
   "execution_count": null,
   "metadata": {},
   "outputs": [],
   "source": [
    "cort_max_inc = cort_features.xs(\"max_inc_percent\", level=\"saliva_feature\")\n",
    "\n",
    "cort_max_inc.groupby(\"condition\").agg([\"mean\", \"std\"])"
   ]
  },
  {
   "cell_type": "markdown",
   "metadata": {},
   "source": [
    "## Statistical Analysis"
   ]
  },
  {
   "cell_type": "markdown",
   "metadata": {},
   "source": [
    "### MIST-induced Cortisol Increase"
   ]
  },
  {
   "cell_type": "markdown",
   "metadata": {},
   "source": [
    "**Population**: Control group\n",
    "\n",
    "**Analysis**: Check whether cortisol increased significantly after the MIST\n",
    "* Procedure: Paired t-tests between cortisol sample before MIST (`S1`) and the maximum of all samples after MIST (`S2`-`S6`)\n",
    "* Expected Result: Significant cortisol increase as response fo the MIST\n",
    "\n",
    "**Findings**: \n",
    "* The MIST causes an effective activation of the HPA axis, indicated by a significant increase in cortisol after the MIST for the Control group"
   ]
  },
  {
   "cell_type": "code",
   "execution_count": null,
   "metadata": {},
   "outputs": [],
   "source": [
    "display(Markdown(\"#### Prepare Data\"))\n",
    "\n",
    "# get S1\n",
    "cort_s1 = cort_samples.xs(\"S1\", level=\"sample\")\n",
    "# get maximum cortisol sample after MIST\n",
    "cort_max = cort_samples.drop([\"S0\", \"S1\"], level=\"sample\").groupby([\"condition\", \"subject\"]).max()\n",
    "cort_analysis = pd.concat({\"Pre\": cort_s1, \"Post\": cort_max}, names=[\"time\"])\n",
    "cort_analysis = cort_analysis.reorder_levels([\"condition\", \"subject\", \"time\"]).sort_index()\n",
    "\n",
    "display(cort_analysis.head())\n",
    "\n",
    "################################################\n",
    "display(Markdown(\"#### Statistics\"))\n",
    "\n",
    "steps = [(\"prep\", \"normality\"), (\"test\", \"pairwise_ttests\")]\n",
    "params = {\"dv\": \"cortisol\", \"within\": \"time\", \"subject\": \"subject\", \"groupby\": \"condition\"}\n",
    "\n",
    "stats = bp.stats.StatsPipeline(steps, params)\n",
    "stats.apply(cort_analysis)\n",
    "\n",
    "stats.export_statistics(stats_path.joinpath(\"stats_cortisol_response_mist.xlsx\"))\n",
    "stats.display_results()\n",
    "\n",
    "\n",
    "################################################\n",
    "display(Markdown(\"#### Latex Output\"))\n",
    "\n",
    "display(stats.stats_to_latex(\"pairwise_ttests\"))"
   ]
  },
  {
   "cell_type": "markdown",
   "metadata": {},
   "source": [
    "### Effect of CFT on Acute Stress Response"
   ]
  },
  {
   "cell_type": "markdown",
   "metadata": {},
   "source": [
    "**Population**: Control vs. CFT condition\n",
    "\n",
    "**Analysis**: \n",
    "1. *Interaction Condition x Time*: Check whether the CFT intervention interacts with HPA axis activity\n",
    "    * Procedure:\n",
    "        * Mixed-ANOVA to determine interaction effect between *Condition* and *Time*\n",
    "        * In case of significant interaction effect: Post-hoc test to assess during which at sampling times cortisol samples were significantly different\n",
    "    * Expected Result: Significant interaction effect between *Condition* and *Time*, cortisol levels start to significantly differ after the MIST\n",
    "\n",
    "2. *Cortisol Features*: Check whether the CFT intervention causes an inhibition of the HPA axis, leading to less cortisol secretion\n",
    "    * Procedure (for each cortisol feature): \n",
    "        * t-test between Control and CFT condition\n",
    "    * Expected Result: Significant differences between Control and CFT condition: lower AUC, lower slope, lower maximum cortisol increase\n",
    "\n",
    "\n",
    "**Findings**: \n",
    "* The MIST causes an effective activation of the HPA axis, indicated by lower AUC, lower slope and lower maximum cortisol response"
   ]
  },
  {
   "cell_type": "markdown",
   "metadata": {},
   "source": [
    "#### Interaction *Condition* x *Time*"
   ]
  },
  {
   "cell_type": "code",
   "execution_count": null,
   "metadata": {},
   "outputs": [],
   "source": [
    "display(Markdown(\"##### Prepare Data\"))\n",
    "\n",
    "cort_analysis = cort_samples.copy()\n",
    "display(cort_analysis.head())\n",
    "\n",
    "#############################################\n",
    "display(Markdown(\"##### Statistics\"))\n",
    "\n",
    "steps = [(\"prep\", \"normality\"), (\"prep\", \"equal_var\"), (\"test\", \"mixed_anova\"), (\"posthoc\", \"pairwise_ttests\")]\n",
    "params = {\"dv\": \"cortisol\", \"within\": \"sample\", \"between\": \"condition\", \"subject\": \"subject\"}\n",
    "\n",
    "stats = bp.stats.StatsPipeline(steps, params)\n",
    "stats.apply(cort_analysis)\n",
    "\n",
    "stats.export_statistics(stats_path.joinpath(\"stats_cortisol_interaction.xlsx\"))\n",
    "stats.display_results(prep=False)\n",
    "\n",
    "#############################################\n",
    "display(Markdown(\"##### Latex Output\"))\n",
    "display(stats.stats_to_latex(\"mixed_anova\"))"
   ]
  },
  {
   "cell_type": "markdown",
   "metadata": {},
   "source": [
    "#### Cortisol Features"
   ]
  },
  {
   "cell_type": "code",
   "execution_count": null,
   "metadata": {},
   "outputs": [],
   "source": [
    "display(Markdown(\"##### Prepare Data\"))\n",
    "\n",
    "features = [\"auc_g\", \"auc_i\", \"auc_i_post\", \"max_inc\", \"slopeS1S4\"]\n",
    "\n",
    "cort_analysis = cort_features.loc[pd.IndexSlice[:, :, features]].copy()\n",
    "display(cort_analysis.head())\n",
    "\n",
    "######################################################\n",
    "display(Markdown(\"##### Statistics\"))\n",
    "\n",
    "steps = [\n",
    "    (\"prep\", \"normality\"),\n",
    "    (\"test\", \"pairwise_ttests\"),\n",
    "]\n",
    "params = {\"dv\": \"cortisol\", \"between\": \"condition\", \"groupby\": \"saliva_feature\", \"test__parametric\": False}\n",
    "\n",
    "stats = bp.stats.StatsPipeline(steps, params)\n",
    "stats.apply(cort_analysis)\n",
    "\n",
    "stats.export_statistics(stats_path.joinpath(\"stats_cortisol_features.xlsx\"))\n",
    "stats.display_results()\n",
    "\n",
    "\n",
    "######################################################\n",
    "display(Markdown(\"##### Latex Output\"))\n",
    "\n",
    "caption = \"T-tests of cortisol measures between Control and CFT condition.\"\n",
    "index_rename_map = {\n",
    "    \"auc_g\": \"$AUC_{G}$\",\n",
    "    \"auc_i\": \"$AUC_{I}$\",\n",
    "    \"slopeS1S4\": \"$a_{S1S4}$\",\n",
    "    \"max_inc\": \"$\\Delta c_{max}$\"\n",
    "}\n",
    "\n",
    "index_value_order = {\n",
    "    \"saliva_feature\": [\n",
    "        \"auc_g\",\n",
    "        \"auc_i\",\n",
    "        \"max_inc\",\n",
    "        \"slopeS1S4\"\n",
    "    ]\n",
    "}\n",
    "\n",
    "df_latex = stats.results_to_latex_table(\n",
    "    \"pairwise_ttests\",\n",
    "    index_kws={\n",
    "        \"index_value_order\": index_value_order,\n",
    "        \"index_rename_map\": index_rename_map,\n",
    "        \"index_level_names_tex\": [\"Measure\"],\n",
    "    },\n",
    "    caption=caption,\n",
    "    label=\"tab:tab_ttest_cortisol_measures\",\n",
    "    position=\"h\",\n",
    "    column_format=\"l||lSS\"\n",
    ")\n",
    "\n",
    "print(stats.stats_to_latex(\"pairwise_ttests\"))\n",
    "print(df_latex)\n",
    "\n",
    "for path in [tex_path, paper_tex_path]:\n",
    "    if path is not None:\n",
    "        path.joinpath(\"tab_ttest_saliva_features.tex\").open(mode=\"w+\").write(df_latex)\n"
   ]
  },
  {
   "cell_type": "markdown",
   "metadata": {},
   "source": [
    "##### Plots"
   ]
  },
  {
   "cell_type": "code",
   "execution_count": null,
   "metadata": {},
   "outputs": [],
   "source": [
    "features = {\"auc_g\": [\"auc_g\"], \"auc_i\": [\"auc_i\"], \"max_inc\": [\"max_inc\"], \"slope\": [\"slopeS1S4\"]}\n",
    "\n",
    "box_pairs, pvalues = stats.sig_brackets(\n",
    "    \"test\", stats_effect_type=\"between\", plot_type=\"multi\", x=\"saliva_feature\", features=features, subplots=True\n",
    ")\n",
    "\n",
    "fig, axs = plt.subplots(ncols=len(features.keys()))\n",
    "\n",
    "bp.protocols.plotting.saliva_multi_feature_boxplot(\n",
    "    cort_features,\n",
    "    \"cortisol\",\n",
    "    features=features,\n",
    "    hue=\"condition\",\n",
    "    hue_order=hue_order,\n",
    "    legend_loc=\"upper center\",\n",
    "    legend_orientation=\"horizontal\",\n",
    "    stats_kwargs={\"box_pairs\": box_pairs, \"pvalues\": pvalues},\n",
    "    palette=cmaps.faculties,\n",
    "    axs=axs,\n",
    ")\n",
    "\n",
    "for path in [plot_path, paper_img_path]:\n",
    "    fig.savefig(path.joinpath(\"img_cortisol_features.pdf\"), transparent=True)"
   ]
  },
  {
   "cell_type": "code",
   "execution_count": null,
   "metadata": {},
   "outputs": [],
   "source": []
  }
 ],
 "metadata": {
  "kernelspec": {
   "display_name": "cft_analysis",
   "language": "python",
   "name": "cft_analysis"
  },
  "language_info": {
   "codemirror_mode": {
    "name": "ipython",
    "version": 3
   },
   "file_extension": ".py",
   "mimetype": "text/x-python",
   "name": "python",
   "nbconvert_exporter": "python",
   "pygments_lexer": "ipython3",
   "version": "3.8.3"
  }
 },
 "nbformat": 4,
 "nbformat_minor": 4
}
