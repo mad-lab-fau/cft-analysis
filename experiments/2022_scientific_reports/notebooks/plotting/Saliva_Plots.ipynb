{
 "cells": [
  {
   "cell_type": "markdown",
   "metadata": {},
   "source": [
    "# Cold Face Test – Saliva Plots"
   ]
  },
  {
   "cell_type": "code",
   "execution_count": null,
   "metadata": {},
   "outputs": [],
   "source": [
    "import json\n",
    "import re\n",
    "from pathlib import Path\n",
    "\n",
    "import pandas as pd\n",
    "import numpy as np\n",
    "import pingouin as pg\n",
    "\n",
    "import matplotlib.pyplot as plt\n",
    "import seaborn as sns\n",
    "\n",
    "from fau_colors import cmaps\n",
    "import biopsykit as bp\n",
    "from biopsykit.utils.dataframe_handling import multi_xs\n",
    "from biopsykit.protocols import MIST\n",
    "\n",
    "from cft_analysis.datasets import CftDatasetProcessed\n",
    "\n",
    "%load_ext autoreload\n",
    "%autoreload 2\n",
    "%matplotlib widget"
   ]
  },
  {
   "cell_type": "code",
   "execution_count": null,
   "metadata": {},
   "outputs": [],
   "source": [
    "plt.close(\"all\")\n",
    "\n",
    "palette = sns.color_palette(cmaps.faculties)\n",
    "sns.set_theme(context=\"notebook\", style=\"ticks\", palette=palette)\n",
    "\n",
    "plt.rcParams[\"figure.figsize\"] = (10, 4)\n",
    "plt.rcParams[\"pdf.fonttype\"] = 42\n",
    "plt.rcParams[\"mathtext.default\"] = \"regular\"\n",
    "\n",
    "palette"
   ]
  },
  {
   "cell_type": "markdown",
   "metadata": {},
   "source": [
    "## Data Import"
   ]
  },
  {
   "cell_type": "code",
   "execution_count": null,
   "metadata": {},
   "outputs": [],
   "source": [
    "# get path to analysis results\n",
    "base_path = Path(\"../../data\")"
   ]
  },
  {
   "cell_type": "code",
   "execution_count": null,
   "metadata": {},
   "outputs": [],
   "source": [
    "results_path = base_path.joinpath(\"../results\")\n",
    "stats_path = results_path.joinpath(\"statistics\")\n",
    "tex_path = stats_path.joinpath(\"tex_tables\")\n",
    "plot_path = results_path.joinpath(\"plots\")\n",
    "bp.utils.file_handling.mkdirs([results_path, stats_path, plot_path, tex_path])\n",
    "\n",
    "paper_path = Path(\"../paper_path.json\")\n",
    "paper_tex_path = None\n",
    "paper_img_path = None\n",
    "if paper_path.exists():\n",
    "    paper_path = Path(json.load(paper_path.open(encoding=\"utf-8\"))[\"paper_path\"])\n",
    "    paper_tex_path = paper_path.joinpath(\"tab\")\n",
    "    paper_img_path = paper_path.joinpath(\"img\")\n",
    "    bp.utils.file_handling.mkdirs([paper_tex_path, paper_img_path])"
   ]
  },
  {
   "cell_type": "code",
   "execution_count": null,
   "metadata": {},
   "outputs": [],
   "source": [
    "dataset = CftDatasetProcessed(base_path, exclude_subjects=True)\n",
    "dataset"
   ]
  },
  {
   "cell_type": "code",
   "execution_count": null,
   "metadata": {},
   "outputs": [],
   "source": [
    "hue_order = [\"Control\", \"CFT\"]"
   ]
  },
  {
   "cell_type": "code",
   "execution_count": null,
   "metadata": {},
   "outputs": [],
   "source": [
    "mist = MIST.from_file(base_path.joinpath(\"mist_cft.json\"))\n",
    "mist"
   ]
  },
  {
   "cell_type": "code",
   "execution_count": null,
   "metadata": {},
   "outputs": [],
   "source": [
    "mist.add_saliva_data(dataset.cortisol, \"cortisol\", sample_times=dataset.sample_times)"
   ]
  },
  {
   "cell_type": "markdown",
   "metadata": {},
   "source": [
    "## Plots"
   ]
  },
  {
   "cell_type": "markdown",
   "metadata": {},
   "source": [
    "### Cortisol Response"
   ]
  },
  {
   "cell_type": "code",
   "execution_count": null,
   "metadata": {},
   "outputs": [],
   "source": [
    "fig, ax = plt.subplots(figsize=(8,4))\n",
    "\n",
    "mist.saliva_plot(\n",
    "    \"cortisol\",\n",
    "    legend_loc=\"upper right\",\n",
    "    legend_fontsize=\"medium\",\n",
    "    hue_order=hue_order,\n",
    "    linestyle=[\"-\", \"--\"],\n",
    "    marker=[\"o\", \"P\"],\n",
    "    ax=ax,\n",
    ")\n",
    "\n",
    "for path in [plot_path, paper_img_path]:\n",
    "    if path is not None:\n",
    "        fig.savefig(path.joinpath(\"img_cortisol_response.pdf\"), transparent=True)"
   ]
  },
  {
   "cell_type": "markdown",
   "metadata": {},
   "source": [
    "### Cortisol Features"
   ]
  },
  {
   "cell_type": "markdown",
   "metadata": {},
   "source": [
    "#### Prepare Data"
   ]
  },
  {
   "cell_type": "code",
   "execution_count": null,
   "metadata": {},
   "outputs": [],
   "source": [
    "features = [\"auc_g\", \"auc_i\", \"auc_i_post\", \"max_inc\", \"slopeS1S4\"]\n",
    "\n",
    "cort_analysis = multi_xs(dataset.cortisol_features, features, level=\"saliva_feature\")\n",
    "cort_analysis.head()"
   ]
  },
  {
   "cell_type": "markdown",
   "metadata": {},
   "source": [
    "#### Statistics"
   ]
  },
  {
   "cell_type": "code",
   "execution_count": null,
   "metadata": {},
   "outputs": [],
   "source": [
    "steps = [\n",
    "    (\"prep\", \"normality\"),\n",
    "    (\"test\", \"pairwise_ttests\"),\n",
    "]\n",
    "params = {\"dv\": \"cortisol\", \"between\": \"condition\", \"groupby\": \"saliva_feature\", \"test__parametric\": False}\n",
    "\n",
    "stats = bp.stats.StatsPipeline(steps, params)\n",
    "stats.apply(cort_analysis)\n",
    "stats.display_results(prep=False)"
   ]
  },
  {
   "cell_type": "markdown",
   "metadata": {},
   "source": [
    "#### Boxplots"
   ]
  },
  {
   "cell_type": "code",
   "execution_count": null,
   "metadata": {},
   "outputs": [],
   "source": [
    "features = {\"auc_g\": [\"auc_g\"], \"auc_i\": [\"auc_i\"], \"max_inc\": [\"max_inc\"], \"slope\": [\"slopeS1S4\"]}\n",
    "\n",
    "box_pairs, pvalues = stats.sig_brackets(\n",
    "    \"test\", stats_effect_type=\"between\", plot_type=\"multi\", x=\"saliva_feature\", features=features, subplots=True\n",
    ")\n",
    "\n",
    "fig, axs = plt.subplots(ncols=len(features.keys()))\n",
    "\n",
    "bp.protocols.plotting.saliva_multi_feature_boxplot(\n",
    "    dataset.cortisol_features,\n",
    "    \"cortisol\",\n",
    "    features=features,\n",
    "    hue=\"condition\",\n",
    "    hue_order=hue_order,\n",
    "    legend_loc=\"upper center\",\n",
    "    legend_orientation=\"horizontal\",\n",
    "    stats_kwargs={\"box_pairs\": box_pairs, \"pvalues\": pvalues},\n",
    "    palette=cmaps.faculties,\n",
    "    axs=axs,\n",
    ")\n",
    "\n",
    "for path in [plot_path, paper_img_path]:\n",
    "    if path is not None:\n",
    "        fig.savefig(path.joinpath(\"img_cortisol_features.pdf\"), transparent=True)"
   ]
  },
  {
   "cell_type": "code",
   "execution_count": null,
   "metadata": {},
   "outputs": [],
   "source": []
  }
 ],
 "metadata": {
  "kernelspec": {
   "display_name": "cft_analysis",
   "language": "python",
   "name": "cft_analysis"
  },
  "language_info": {
   "codemirror_mode": {
    "name": "ipython",
    "version": 3
   },
   "file_extension": ".py",
   "mimetype": "text/x-python",
   "name": "python",
   "nbconvert_exporter": "python",
   "pygments_lexer": "ipython3",
   "version": "3.8.3"
  }
 },
 "nbformat": 4,
 "nbformat_minor": 4
}
