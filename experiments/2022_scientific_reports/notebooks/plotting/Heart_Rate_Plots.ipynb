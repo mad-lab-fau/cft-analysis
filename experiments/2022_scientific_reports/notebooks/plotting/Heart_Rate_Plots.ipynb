{
 "cells": [
  {
   "cell_type": "markdown",
   "metadata": {},
   "source": [
    "# Cold Face Test – Heart Rate Plots"
   ]
  },
  {
   "cell_type": "code",
   "execution_count": null,
   "metadata": {},
   "outputs": [],
   "source": [
    "import json\n",
    "import re\n",
    "from pathlib import Path\n",
    "\n",
    "import pandas as pd\n",
    "import numpy as np\n",
    "import pingouin as pg\n",
    "\n",
    "import matplotlib.pyplot as plt\n",
    "import seaborn as sns\n",
    "\n",
    "from fau_colors import cmaps, colors_all\n",
    "import biopsykit as bp\n",
    "from biopsykit.protocols import MIST\n",
    "from biopsykit.utils.dataframe_handling import multi_xs\n",
    "\n",
    "from cft_analysis.datasets import CftDatasetProcessed\n",
    "\n",
    "from IPython.display import Markdown\n",
    "\n",
    "%load_ext autoreload\n",
    "%autoreload 2\n",
    "%matplotlib widget"
   ]
  },
  {
   "cell_type": "code",
   "execution_count": null,
   "metadata": {},
   "outputs": [],
   "source": [
    "plt.close(\"all\")\n",
    "\n",
    "palette = sns.color_palette(cmaps.faculties)\n",
    "sns.set_theme(context=\"notebook\", style=\"ticks\", palette=palette)\n",
    "\n",
    "plt.rcParams[\"figure.figsize\"] = (10, 4)\n",
    "plt.rcParams[\"pdf.fonttype\"] = 42\n",
    "plt.rcParams[\"mathtext.default\"] = \"regular\"\n",
    "\n",
    "palette"
   ]
  },
  {
   "cell_type": "markdown",
   "metadata": {},
   "source": [
    "## Data Import"
   ]
  },
  {
   "cell_type": "code",
   "execution_count": null,
   "metadata": {},
   "outputs": [],
   "source": [
    "# get path to analysis results\n",
    "base_path = Path(\"../../data\")"
   ]
  },
  {
   "cell_type": "code",
   "execution_count": null,
   "metadata": {},
   "outputs": [],
   "source": [
    "results_path = base_path.joinpath(\"../results\")\n",
    "stats_path = results_path.joinpath(\"statistics\")\n",
    "plot_path = results_path.joinpath(\"plots\")\n",
    "bp.utils.file_handling.mkdirs([results_path, stats_path, plot_path])\n",
    "\n",
    "paper_path = Path(\"../paper_path.json\")\n",
    "paper_img_path = None\n",
    "if paper_path.exists():\n",
    "    paper_path = Path(json.load(paper_path.open(encoding=\"utf-8\"))[\"paper_path\"])\n",
    "    paper_img_path = paper_path.joinpath(\"img\")\n",
    "    bp.utils.file_handling.mkdirs([paper_img_path])"
   ]
  },
  {
   "cell_type": "code",
   "execution_count": null,
   "metadata": {},
   "outputs": [],
   "source": [
    "hue_order = [\"Control\", \"CFT\"]\n",
    "\n",
    "subphase_order = [\"BL\", \"RP/CFI\", \"AT\", \"FB\"]"
   ]
  },
  {
   "cell_type": "code",
   "execution_count": null,
   "metadata": {},
   "outputs": [],
   "source": [
    "dataset = CftDatasetProcessed(base_path, exclude_subjects=True)\n",
    "dataset"
   ]
  },
  {
   "cell_type": "code",
   "execution_count": null,
   "metadata": {},
   "outputs": [],
   "source": [
    "hr_ensemble = dataset.heart_rate_ensemble\n",
    "hr_mean = dataset.heart_rate\n",
    "hr_mean = hr_mean.xs(\"HR_Norm\", level=\"type\")\n",
    "hr_mean.head()"
   ]
  },
  {
   "cell_type": "code",
   "execution_count": null,
   "metadata": {},
   "outputs": [],
   "source": [
    "mist = MIST.from_file(base_path.joinpath(\"mist_cft.json\"))\n",
    "mist"
   ]
  },
  {
   "cell_type": "code",
   "execution_count": null,
   "metadata": {},
   "outputs": [],
   "source": [
    "mist.add_hr_ensemble(\"hr_ensemble\", {key: val.xs(key) for key, val in hr_ensemble.groupby(\"phase\")})\n",
    "\n",
    "hr_mean = hr_mean.rename({\"RP_CFI\": \"RP/CFI\"}, level=\"subphase\").reindex(subphase_order, level=\"subphase\")\n",
    "mist.add_hr_results(\"hr_mean\", hr_mean)"
   ]
  },
  {
   "cell_type": "markdown",
   "metadata": {
    "tags": []
   },
   "source": [
    "## HR Ensemble Mean Plot – Combined"
   ]
  },
  {
   "cell_type": "code",
   "execution_count": null,
   "metadata": {},
   "outputs": [],
   "source": [
    "fig, axs = plt.subplots(ncols=2, figsize=(15, 5))\n",
    "\n",
    "# HR Ensemble Plot\n",
    "mist.hr_ensemble_plot(\"hr_ensemble\", ax=axs[0], palette=sns.color_palette(cmaps.fau))\n",
    "\n",
    "# HR Mean Plot\n",
    "mist.hr_mean_plot(\"hr_mean\", is_relative=True, ax=axs[1], order=hue_order, palette=sns.color_palette(cmaps.fau))\n",
    "\n",
    "for path in [plot_path, paper_img_path]:\n",
    "    if path is not None:\n",
    "        fig.savefig(path.joinpath(\"img_hr_mean_ensemble.pdf\"), transparent=True)"
   ]
  },
  {
   "cell_type": "markdown",
   "metadata": {
    "tags": []
   },
   "source": [
    "## HR Ensemble Plot"
   ]
  },
  {
   "cell_type": "code",
   "execution_count": null,
   "metadata": {},
   "outputs": [],
   "source": [
    "fig, ax = plt.subplots()\n",
    "\n",
    "# HR Ensemble Plot\n",
    "mist.hr_ensemble_plot(\"hr_ensemble\", ax=ax)\n",
    "\n",
    "for path in [plot_path, paper_img_path]:\n",
    "    if path is not None:\n",
    "        fig.savefig(path.joinpath(\"img_hr_ensemble.pdf\"), transparent=True)"
   ]
  },
  {
   "cell_type": "markdown",
   "metadata": {
    "tags": []
   },
   "source": [
    "## HR Mean Plot"
   ]
  },
  {
   "cell_type": "code",
   "execution_count": null,
   "metadata": {},
   "outputs": [],
   "source": [
    "fig, ax = plt.subplots()\n",
    "\n",
    "# HR Mean Plot\n",
    "mist.hr_mean_plot(\"hr_mean\", is_relative=True, ax=ax, order=hue_order)\n",
    "\n",
    "for path in [plot_path, paper_img_path]:\n",
    "    if path is not None:\n",
    "        fig.savefig(path.joinpath(\"img_hr_mean_course.pdf\"), transparent=True)"
   ]
  },
  {
   "cell_type": "markdown",
   "metadata": {},
   "source": [
    "## HR Feature Plot"
   ]
  },
  {
   "cell_type": "code",
   "execution_count": null,
   "metadata": {},
   "outputs": [],
   "source": [
    "display(Markdown(\"### Prepare Data\"))\n",
    "\n",
    "phases = [\"MIST1\", \"MIST2\", \"MIST3\"]\n",
    "subphases = [\"BL\", \"RP_CFI\"]\n",
    "hr_measures = [\"HR_Norm\", \"HRV_RMSSD\", \"HRV_pNN50\"]\n",
    "time_bl_measures = [\"HR\", \"HRV_RMSSD\", \"HRV_pNN50\"]\n",
    "\n",
    "hr_analysis = dataset.get_subset(phase=phases, subphase=subphases).hr_hrv\n",
    "hr_analysis = multi_xs(hr_analysis, hr_measures, level=\"type\")\n",
    "time_bl_analysis = dataset.get_subset(phase=phases, subphase=subphases).time_above_baseline\n",
    "time_bl_analysis = multi_xs(time_bl_analysis, time_bl_measures, level=\"type\")\n",
    "\n",
    "hr_analysis = hr_analysis.unstack([\"type\", \"category\"]).join(time_bl_analysis.unstack([\"type\", \"category\"]))\n",
    "hr_analysis = hr_analysis.stack([\"category\", \"type\"])\n",
    "display(hr_analysis.head())\n",
    "\n",
    "\n",
    "#################################################################\n",
    "display(Markdown(\"### Statistics\"))\n",
    "\n",
    "steps = [(\"prep\", \"normality\"), (\"prep\", \"equal_var\"), (\"test\", \"mixed_anova\"), (\"posthoc\", \"pairwise_ttests\")]\n",
    "params = {\n",
    "    \"dv\": \"data\",\n",
    "    \"within\": \"phase\",\n",
    "    \"between\": \"condition\",\n",
    "    \"subject\": \"subject\",\n",
    "    \"groupby\": [\"category\", \"type\", \"subphase\"],\n",
    "    \"padjust\": \"bonf\",\n",
    "}\n",
    "\n",
    "stats = bp.stats.StatsPipeline(steps, params)\n",
    "stats.apply(hr_analysis)\n",
    "\n",
    "stats.display_results(prep=False, posthoc=False, sig_only=[\"test\", \"posthoc\"])"
   ]
  },
  {
   "cell_type": "markdown",
   "metadata": {},
   "source": [
    "### Boxplots"
   ]
  },
  {
   "cell_type": "code",
   "execution_count": null,
   "metadata": {
    "tags": []
   },
   "outputs": [],
   "source": [
    "fig, axs = plt.subplots(ncols=2)\n",
    "\n",
    "category = [\"HR\"]\n",
    "feature = [\"HR_Norm\"]\n",
    "subphase = [\"BL\"]\n",
    "\n",
    "hr_plot = dataset.get_subset(subphase=subphase).heart_rate\n",
    "hr_plot = multi_xs(hr_plot, feature, level=\"type\")\n",
    "\n",
    "stats_data = stats.results_cat(\"posthoc\").loc[category, feature, subphase]\n",
    "box_pairs, pvalues = stats.sig_brackets(stats_data, stats_effect_type=\"interaction\", plot_type=\"multi\", x=\"phase\")\n",
    "\n",
    "\n",
    "bp.plotting.feature_boxplot(\n",
    "    data=hr_plot.reset_index(),\n",
    "    x=\"phase\",\n",
    "    y=\"data\",\n",
    "    hue=\"condition\",\n",
    "    hue_order=hue_order,\n",
    "    stats_kwargs={\"box_pairs\": box_pairs, \"pvalues\": pvalues},\n",
    "    show_legend=False,\n",
    "    ax=axs[0],\n",
    ")\n",
    "axs[0].set_xlabel(\"Phase\")\n",
    "axs[0].set_ylabel(\"$\\Delta HR$ during $BL$ [%]\")\n",
    "\n",
    "category = [\"Time_BL_Glo\"]\n",
    "feature = [\"HR\"]\n",
    "subphase = [\"BL\"]\n",
    "\n",
    "hr_plot = dataset.get_subset(subphase=subphase).time_above_baseline\n",
    "hr_plot = multi_xs(hr_plot, feature, level=\"type\")\n",
    "\n",
    "\n",
    "stats_data = stats.results_cat(\"posthoc\").loc[category, feature, subphase, :]\n",
    "box_pairs, pvalues = stats.sig_brackets(stats_data, stats_effect_type=\"interaction\", plot_type=\"multi\", x=\"phase\")\n",
    "\n",
    "bp.plotting.feature_boxplot(\n",
    "    data=hr_plot.reset_index(),\n",
    "    x=\"phase\",\n",
    "    y=\"data\",\n",
    "    hue=\"condition\",\n",
    "    hue_order=hue_order,\n",
    "    stats_kwargs={\"box_pairs\": box_pairs, \"pvalues\": pvalues},\n",
    "    legend_loc=\"upper center\",\n",
    "    legend_orientation=\"horizontal\",\n",
    "    ax=axs[1],\n",
    ")\n",
    "\n",
    "\n",
    "axs[1].set_xlabel(\"Phase\")\n",
    "axs[1].set_ylabel(\"$\\hat{t}_{Glo}(HR)$ during $BL$ [%]\")\n",
    "\n",
    "axs[0].legend().remove()\n",
    "axs[1].legend().remove()\n",
    "\n",
    "fig.tight_layout(rect=(0, 0, 1, 0.9))\n",
    "\n",
    "for path in [plot_path, paper_img_path]:\n",
    "    if path is not None:\n",
    "        fig.savefig(path.joinpath(\"img_boxplot_hr_features.pdf\"), transparent=True)"
   ]
  },
  {
   "cell_type": "code",
   "execution_count": null,
   "metadata": {},
   "outputs": [],
   "source": []
  }
 ],
 "metadata": {
  "kernelspec": {
   "display_name": "cft_analysis",
   "language": "python",
   "name": "cft_analysis"
  },
  "language_info": {
   "codemirror_mode": {
    "name": "ipython",
    "version": 3
   },
   "file_extension": ".py",
   "mimetype": "text/x-python",
   "name": "python",
   "nbconvert_exporter": "python",
   "pygments_lexer": "ipython3",
   "version": "3.8.3"
  }
 },
 "nbformat": 4,
 "nbformat_minor": 4
}
