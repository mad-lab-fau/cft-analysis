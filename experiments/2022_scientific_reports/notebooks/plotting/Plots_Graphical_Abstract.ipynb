{
 "cells": [
  {
   "cell_type": "markdown",
   "metadata": {
    "pycharm": {
     "name": "#%% md\n"
    }
   },
   "source": [
    "# Cold Face Test – Plots for Graphical Abstract"
   ]
  },
  {
   "cell_type": "code",
   "execution_count": null,
   "metadata": {
    "pycharm": {
     "name": "#%%\n"
    }
   },
   "outputs": [],
   "source": [
    "import json\n",
    "import re\n",
    "from pathlib import Path\n",
    "\n",
    "import pandas as pd\n",
    "import numpy as np\n",
    "import pingouin as pg\n",
    "\n",
    "import matplotlib.pyplot as plt\n",
    "import seaborn as sns\n",
    "\n",
    "from fau_colors import cmaps, colors_all\n",
    "import biopsykit as bp\n",
    "from biopsykit.protocols import MIST\n",
    "from biopsykit.utils.dataframe_handling import multi_xs\n",
    "\n",
    "from cft_analysis.datasets import CftDatasetProcessed\n",
    "\n",
    "from IPython.display import Markdown\n",
    "\n",
    "%load_ext autoreload\n",
    "%autoreload 2\n",
    "%matplotlib widget"
   ]
  },
  {
   "cell_type": "code",
   "execution_count": null,
   "metadata": {
    "pycharm": {
     "name": "#%%\n"
    }
   },
   "outputs": [],
   "source": [
    "plt.close(\"all\")\n",
    "\n",
    "palette = sns.color_palette(cmaps.faculties)\n",
    "sns.set_theme(context=\"talk\", style=\"ticks\", palette=palette)\n",
    "\n",
    "plt.rcParams[\"figure.figsize\"] = (10, 5)\n",
    "plt.rcParams[\"pdf.fonttype\"] = 42\n",
    "plt.rcParams[\"mathtext.default\"] = \"regular\"\n",
    "\n",
    "palette"
   ]
  },
  {
   "cell_type": "markdown",
   "metadata": {
    "pycharm": {
     "name": "#%% md\n"
    }
   },
   "source": [
    "## Data Import"
   ]
  },
  {
   "cell_type": "code",
   "execution_count": null,
   "metadata": {
    "pycharm": {
     "name": "#%%\n"
    }
   },
   "outputs": [],
   "source": [
    "# get path to analysis results\n",
    "base_path = Path(\"../../data\")"
   ]
  },
  {
   "cell_type": "code",
   "execution_count": null,
   "metadata": {
    "pycharm": {
     "name": "#%%\n"
    }
   },
   "outputs": [],
   "source": [
    "results_path = base_path.joinpath(\"../results\")\n",
    "plot_path = results_path.joinpath(\"plots_graphical_abstract\")\n",
    "bp.utils.file_handling.mkdirs([results_path, plot_path])"
   ]
  },
  {
   "cell_type": "code",
   "execution_count": null,
   "metadata": {
    "pycharm": {
     "name": "#%%\n"
    }
   },
   "outputs": [],
   "source": [
    "hue_order = [\"Control\", \"CFT\"]\n",
    "\n",
    "subphase_order = [\"BL\", \"RP/CFI\", \"AT\", \"FB\"]"
   ]
  },
  {
   "cell_type": "code",
   "execution_count": null,
   "metadata": {
    "pycharm": {
     "name": "#%%\n"
    }
   },
   "outputs": [],
   "source": [
    "dataset = CftDatasetProcessed(base_path, exclude_subjects=True)\n",
    "dataset"
   ]
  },
  {
   "cell_type": "code",
   "execution_count": null,
   "metadata": {
    "pycharm": {
     "name": "#%%\n"
    }
   },
   "outputs": [],
   "source": [
    "mist = MIST.from_file(base_path.joinpath(\"mist_cft.json\"))\n",
    "mist"
   ]
  },
  {
   "cell_type": "code",
   "execution_count": null,
   "metadata": {
    "pycharm": {
     "name": "#%%\n"
    }
   },
   "outputs": [],
   "source": [
    "mist.add_saliva_data(dataset.cortisol, \"cortisol\", sample_times=dataset.sample_times)"
   ]
  },
  {
   "cell_type": "code",
   "execution_count": null,
   "metadata": {
    "pycharm": {
     "name": "#%%\n"
    }
   },
   "outputs": [],
   "source": [
    "hr_ensemble = dataset.heart_rate_ensemble\n",
    "hr_mean = dataset.heart_rate\n",
    "hr_mean = hr_mean.xs(\"HR_Norm\", level=\"type\")\n",
    "hr_mean.head()"
   ]
  },
  {
   "cell_type": "code",
   "execution_count": null,
   "metadata": {
    "pycharm": {
     "name": "#%%\n"
    }
   },
   "outputs": [],
   "source": [
    "mist.add_hr_ensemble(\"hr_ensemble\", {key: val.xs(key) for key, val in hr_ensemble.groupby(\"phase\")})\n",
    "\n",
    "hr_mean = hr_mean.rename({\"RP_CFI\": \"RP/CFI\"}, level=\"subphase\").reindex(subphase_order, level=\"subphase\")\n",
    "mist.add_hr_results(\"hr_mean\", hr_mean)"
   ]
  },
  {
   "cell_type": "markdown",
   "metadata": {
    "pycharm": {
     "name": "#%% md\n"
    },
    "tags": []
   },
   "source": [
    "## HR Ensemble Plot"
   ]
  },
  {
   "cell_type": "code",
   "execution_count": null,
   "metadata": {
    "pycharm": {
     "name": "#%%\n"
    }
   },
   "outputs": [],
   "source": [
    "fig, ax = plt.subplots()\n",
    "\n",
    "# HR Ensemble Plot\n",
    "mist.hr_ensemble_plot(\"hr_ensemble\", ax=ax)\n",
    "\n",
    "#for path in [plot_path, paper_img_path]:\n",
    "#    if path is not None:\n",
    "#        fig.savefig(path.joinpath(\"img_hr_ensemble.pdf\"), transparent=True)"
   ]
  },
  {
   "cell_type": "markdown",
   "metadata": {
    "pycharm": {
     "name": "#%% md\n"
    },
    "tags": []
   },
   "source": [
    "## HR Mean Plot"
   ]
  },
  {
   "cell_type": "code",
   "execution_count": null,
   "metadata": {
    "pycharm": {
     "name": "#%%\n"
    }
   },
   "outputs": [],
   "source": [
    "fig, ax = plt.subplots(figsize=(8,5))\n",
    "\n",
    "# HR Mean Plot\n",
    "mist.hr_mean_plot(\"hr_mean\", is_relative=True, ax=ax, order=hue_order)\n",
    "\n",
    "fig.savefig(plot_path.joinpath(\"img_hr_mean_course.pdf\"), transparent=True)"
   ]
  },
  {
   "cell_type": "code",
   "execution_count": null,
   "metadata": {
    "pycharm": {
     "name": "#%%\n"
    }
   },
   "outputs": [],
   "source": [
    "fig, ax = plt.subplots(figsize=(8,5))\n",
    "\n",
    "mist.saliva_plot(\n",
    "    \"cortisol\",\n",
    "    legend_loc=\"upper right\",\n",
    "    legend_fontsize=\"medium\",\n",
    "    hue_order=hue_order,\n",
    "    linestyle=[\"-\", \"--\"],\n",
    "    marker=[\"o\", \"P\"],\n",
    "    ax=ax,\n",
    ")\n",
    "\n",
    "fig.savefig(plot_path.joinpath(\"img_cortisol_response.pdf\"), transparent=True)"
   ]
  },
  {
   "cell_type": "code",
   "execution_count": null,
   "metadata": {
    "pycharm": {
     "name": "#%%\n"
    }
   },
   "outputs": [],
   "source": []
  }
 ],
 "metadata": {
  "kernelspec": {
   "display_name": "cft_analysis",
   "language": "python",
   "name": "cft_analysis"
  },
  "language_info": {
   "codemirror_mode": {
    "name": "ipython",
    "version": 3
   },
   "file_extension": ".py",
   "mimetype": "text/x-python",
   "name": "python",
   "nbconvert_exporter": "python",
   "pygments_lexer": "ipython3",
   "version": "3.9.13"
  }
 },
 "nbformat": 4,
 "nbformat_minor": 4
}
