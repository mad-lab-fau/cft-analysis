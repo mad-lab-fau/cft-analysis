{
 "cells": [
  {
   "cell_type": "markdown",
   "metadata": {},
   "source": [
    "# ECG Processing & Feature Computation"
   ]
  },
  {
   "cell_type": "code",
   "execution_count": null,
   "metadata": {},
   "outputs": [],
   "source": [
    "import json\n",
    "import re\n",
    "from pathlib import Path\n",
    "\n",
    "import pandas as pd\n",
    "import numpy as np\n",
    "import pingouin as pg\n",
    "\n",
    "import matplotlib.pyplot as plt\n",
    "import seaborn as sns\n",
    "\n",
    "from tqdm.auto import tqdm\n",
    "\n",
    "import biopsykit as bp\n",
    "\n",
    "from cft_analysis.datasets import CftDatasetRaw\n",
    "from cft_analysis.feature_extraction.hrv import hrv_continuous_dict\n",
    "from cft_analysis.datasets.helper import load_subject_data_dicts, load_subject_continuous_hrv_data\n",
    "\n",
    "\n",
    "%load_ext autoreload\n",
    "%autoreload 2\n",
    "%matplotlib widget"
   ]
  },
  {
   "cell_type": "code",
   "execution_count": null,
   "metadata": {},
   "outputs": [],
   "source": [
    "plt.close(\"all\")\n",
    "\n",
    "palette = bp.colors.fau_palette\n",
    "sns.set_theme(context=\"notebook\", style=\"ticks\", palette=palette)\n",
    "\n",
    "plt.rcParams['figure.figsize'] = (10, 5)\n",
    "plt.rcParams['pdf.fonttype'] = 42\n",
    "plt.rcParams['mathtext.default'] = \"regular\"\n",
    "\n",
    "palette"
   ]
  },
  {
   "cell_type": "markdown",
   "metadata": {
    "tags": []
   },
   "source": [
    "## Data Import"
   ]
  },
  {
   "cell_type": "code",
   "execution_count": null,
   "metadata": {
    "tags": []
   },
   "outputs": [],
   "source": [
    "# build path to data folder\n",
    "config_dict = json.load(Path(\"../../config.json\").open(encoding=\"utf-8\"))\n",
    "base_path = Path(\"..\").joinpath(config_dict[\"base_path\"])"
   ]
  },
  {
   "cell_type": "code",
   "execution_count": null,
   "metadata": {},
   "outputs": [],
   "source": [
    "export_path = Path(\"../../data\")\n",
    "export_path_ecg = export_path.joinpath(\"ecg\")\n",
    "\n",
    "bp.utils.file_handling.mkdirs([export_path, export_path_ecg])"
   ]
  },
  {
   "cell_type": "code",
   "execution_count": null,
   "metadata": {},
   "outputs": [],
   "source": [
    "# flag indicating whether to ignore already existing processing results and re-process data or not\n",
    "overwrite_results = False"
   ]
  },
  {
   "cell_type": "code",
   "execution_count": null,
   "metadata": {},
   "outputs": [],
   "source": [
    "dataset = CftDatasetRaw(base_path)\n",
    "dataset"
   ]
  },
  {
   "cell_type": "markdown",
   "metadata": {},
   "source": [
    "## Process ECG Signal"
   ]
  },
  {
   "cell_type": "code",
   "execution_count": null,
   "metadata": {},
   "outputs": [],
   "source": [
    "for subset in tqdm(dataset.groupby(\"subject\")):\n",
    "    subject_id = subset.index[\"subject\"][0]\n",
    "    \n",
    "    export_paths = subset.setup_export_paths()\n",
    "    if not overwrite_results or export_paths[\"hr_result\"].exists():\n",
    "        continue\n",
    "\n",
    "    ecg_data = subset.ecg\n",
    "    ep = bp.signals.ecg.EcgProcessor(data=ecg_data, sampling_rate=subset.sampling_rate)\n",
    "    ep.ecg_process(title=subject_id)\n",
    "    \n",
    "    dict_hrv_continuous = hrv_continuous_dict(ep)\n",
    "    \n",
    "    paths = subset.setup_export_paths()\n",
    "\n",
    "    # save HR data and R-Peak data to file\n",
    "    bp.io.ecg.write_hr_phase_dict(ep.heart_rate, paths[\"hr_result\"])\n",
    "    bp.io.ecg.write_pandas_dict_excel(ep.rpeaks, paths[\"rpeaks_result\"])\n",
    "    bp.io.ecg.write_pandas_dict_excel(dict_hrv_continuous, paths[\"hrv_cont\"])"
   ]
  },
  {
   "cell_type": "code",
   "execution_count": null,
   "metadata": {},
   "outputs": [],
   "source": [
    "hr_subject_data_dict, rpeaks_subject_data_dict = load_subject_data_dicts(dataset)\n",
    "hrv_subject_data_dict = load_subject_continuous_hrv_data(dataset)"
   ]
  },
  {
   "cell_type": "markdown",
   "metadata": {},
   "source": [
    "## Compute HR(V) Parameters over MIST"
   ]
  },
  {
   "cell_type": "code",
   "execution_count": null,
   "metadata": {},
   "outputs": [],
   "source": [
    "# get condition list from dataset\n",
    "condition_list = dataset.condition_list\n",
    "\n",
    "# HRV parameters of interest\n",
    "hrv_columns = [\"HRV_SDNN\", \"HRV_RMSSD\", \"HRV_pNN50\", \"HRV_pNN20\"]"
   ]
  },
  {
   "cell_type": "markdown",
   "metadata": {},
   "source": [
    "### Create `MIST` Object"
   ]
  },
  {
   "cell_type": "code",
   "execution_count": null,
   "metadata": {},
   "outputs": [],
   "source": [
    "subphases = {\n",
    "    \"BL\": 60, \"RP_CFI\": 120, \"AT\": 240, \"FB\": 0\n",
    "}\n",
    "\n",
    "structure = {\n",
    "    \"Pre\": None,\n",
    "    \"MIST\": {\n",
    "        \"MIST1\": subphases,\n",
    "        \"MIST2\": subphases,\n",
    "        \"MIST3\": subphases,\n",
    "    },\n",
    "    \"Post\": None\n",
    "}\n",
    "\n",
    "mist = bp.protocols.MIST(name=\"CFT\", structure=structure)\n",
    "mist"
   ]
  },
  {
   "cell_type": "markdown",
   "metadata": {},
   "source": [
    "### Add Heart Rate Data"
   ]
  },
  {
   "cell_type": "code",
   "execution_count": null,
   "metadata": {},
   "outputs": [],
   "source": [
    "mist.add_hr_data(hr_data=hr_subject_data_dict, rpeak_data=rpeaks_subject_data_dict)"
   ]
  },
  {
   "cell_type": "markdown",
   "metadata": {},
   "source": [
    "### Compute *Ensemble Time-Series*"
   ]
  },
  {
   "cell_type": "code",
   "execution_count": null,
   "metadata": {},
   "outputs": [],
   "source": [
    "mist.compute_hr_ensemble(\n",
    "    \"hr_ensemble\",\n",
    "    select_phases=True,\n",
    "    params={\n",
    "        \"normalize_to\": \"Pre\",\n",
    "        \"select_phases\": [\"MIST1\", \"MIST2\", \"MIST3\"]\n",
    "    }\n",
    ")"
   ]
  },
  {
   "cell_type": "markdown",
   "metadata": {},
   "source": [
    "### Compute *Aggregated Heart Rate Results*"
   ]
  },
  {
   "cell_type": "markdown",
   "metadata": {},
   "source": [
    "The following parameters are computed:\n",
    "\n",
    "* *Aggregated Heart Rate Results* are computed for both absolute and relative heart rate (relative heart rate: normalized to `Pre` phase on a subject-level basis)\n",
    "* Relative amount of heart rate above baseline (baseline: `Pre` phase)"
   ]
  },
  {
   "cell_type": "code",
   "execution_count": null,
   "metadata": {},
   "outputs": [],
   "source": [
    "mist.compute_hr_results(\n",
    "    \"hr_mean\",\n",
    "    resample_sec=False,\n",
    "    normalize_to=False,\n",
    "    select_phases=True,\n",
    "    split_into_subphases=True,\n",
    "    add_conditions=True,\n",
    "    params={\n",
    "        \"select_phases\": [\"MIST1\", \"MIST2\", \"MIST3\"],\n",
    "        \"split_into_subphases\": subphases,\n",
    "        \"add_conditions\": condition_list\n",
    "    }\n",
    ")\n",
    "\n",
    "mist.compute_hr_results(\n",
    "    \"hr_mean_normalized\",\n",
    "    resample_sec=False,\n",
    "    normalize_to=True,\n",
    "    select_phases=True,\n",
    "    split_into_subphases=True,\n",
    "    add_conditions=True,\n",
    "    params={\n",
    "        \"normalize_to\": \"Pre\",\n",
    "        \"select_phases\": [\"MIST1\", \"MIST2\", \"MIST3\"],\n",
    "        \"split_into_subphases\": subphases,\n",
    "        \"add_conditions\": condition_list\n",
    "    }\n",
    ")\n",
    "\n",
    "mist.compute_hr_above_baseline(\n",
    "    \"hr_above_bl_glo\",\n",
    "    \"Pre\",\n",
    "    select_phases=True,\n",
    "    split_into_subphases=True,\n",
    "    add_conditions=True,\n",
    "    params={\n",
    "        \"select_phases\": [\"MIST1\", \"MIST2\", \"MIST3\"],\n",
    "        \"split_into_subphases\": subphases,\n",
    "        \"add_conditions\": condition_list\n",
    "    }\n",
    ")"
   ]
  },
  {
   "cell_type": "markdown",
   "metadata": {},
   "source": [
    "### Compute *HRV* Parameter"
   ]
  },
  {
   "cell_type": "markdown",
   "metadata": {},
   "source": [
    "The following HRV parameters are computed:\n",
    "\n",
    "* Time-domain and non-linear HRV parameters are computed over phases and MIST subphases, respectively\n",
    "* Relative amount of HRV parameters above baseline are computed per subphase from continuous HRV data (baseline: `Pre` phase)"
   ]
  },
  {
   "cell_type": "code",
   "execution_count": null,
   "metadata": {
    "tags": []
   },
   "outputs": [],
   "source": [
    "# ignore neurokit warnings\n",
    "from neurokit2 import NeuroKitWarning\n",
    "import warnings\n",
    "warnings.filterwarnings(\"ignore\", category=NeuroKitWarning)\n",
    "\n",
    "mist.compute_hrv_results(\n",
    "    \"hrv_phases\",\n",
    "    add_conditions=True,\n",
    "    params={\n",
    "        \"add_conditions\": condition_list\n",
    "    },\n",
    "    hrv_params={\n",
    "        \"hrv_types\": [\"hrv_time\", \"hrv_nonlinear\"]\n",
    "    }\n",
    ")\n",
    "\n",
    "mist.compute_hrv_results(\n",
    "    \"hrv_subphases\",\n",
    "    split_into_subphases=True,\n",
    "    select_phases=True,\n",
    "    add_conditions=True,\n",
    "    params={\n",
    "        \"split_into_subphases\": subphases,\n",
    "        \"select_phases\": [\"MIST1\", \"MIST2\", \"MIST3\"],\n",
    "        \"add_conditions\": condition_list\n",
    "    },\n",
    "    hrv_params={\n",
    "        \"hrv_types\": [\"hrv_time\", \"hrv_nonlinear\"]\n",
    "    }\n",
    ")\n",
    "\n",
    "mist.compute_hrv_above_baseline(\n",
    "    \"hrv_above_bl_glo\",\n",
    "    \"Pre\",\n",
    "    hrv_subject_data_dict,\n",
    "    select_phases=True,\n",
    "    split_into_subphases=True,\n",
    "    add_conditions=True,\n",
    "    hrv_columns=hrv_columns,\n",
    "    params={\n",
    "        \"select_phases\": [\"MIST1\", \"MIST2\", \"MIST3\"],\n",
    "        \"split_into_subphases\": subphases,\n",
    "        \"add_conditions\": condition_list\n",
    "    }\n",
    ")"
   ]
  },
  {
   "cell_type": "markdown",
   "metadata": {},
   "source": [
    "## Compute CFT Parameter"
   ]
  },
  {
   "cell_type": "code",
   "execution_count": null,
   "metadata": {},
   "outputs": [],
   "source": [
    "from cft_analysis.feature_extraction.cft import cft_parameter_per_phase"
   ]
  },
  {
   "cell_type": "code",
   "execution_count": null,
   "metadata": {},
   "outputs": [],
   "source": [
    "cft_params = cft_parameter_per_phase(\n",
    "    hr_subject_data_dict, \n",
    "    dataset.get_subset(condition=\"CFT\").condition_list\n",
    ")\n",
    "cft_params.head()"
   ]
  },
  {
   "cell_type": "code",
   "execution_count": null,
   "metadata": {},
   "outputs": [],
   "source": [
    "from cft_analysis.utils.data_reshaping import reshape_hr_data, reshape_hrv_data, reshape_time_above_bl_glo, reshape_cft_params"
   ]
  },
  {
   "cell_type": "code",
   "execution_count": null,
   "metadata": {},
   "outputs": [],
   "source": [
    "hr_data = reshape_hr_data(mist)\n",
    "hrv_data = reshape_hrv_data(mist, hrv_columns)\n",
    "above_bl_data = reshape_time_above_bl_glo(mist)\n",
    "cft_params_data = reshape_cft_params(cft_params, condition_list)"
   ]
  },
  {
   "cell_type": "code",
   "execution_count": null,
   "metadata": {},
   "outputs": [],
   "source": [
    "concat_dict = {\"HR\": hr_data, \"Time_BL_Glo\": above_bl_data, \"HRV\": hrv_data, \"CFT\": cft_params_data}"
   ]
  },
  {
   "cell_type": "code",
   "execution_count": null,
   "metadata": {},
   "outputs": [],
   "source": [
    "data_concat = pd.concat(\n",
    "    concat_dict, \n",
    "    names=[\"category\"]\n",
    ")\n",
    "data_concat = data_concat.reorder_levels([\"condition\", \"subject\", \"phase\", \"subphase\", \"category\", \"type\"]).sort_index()"
   ]
  },
  {
   "cell_type": "code",
   "execution_count": null,
   "metadata": {},
   "outputs": [],
   "source": [
    "data_concat"
   ]
  },
  {
   "cell_type": "markdown",
   "metadata": {},
   "source": [
    "### Export Data"
   ]
  },
  {
   "cell_type": "code",
   "execution_count": null,
   "metadata": {},
   "outputs": [],
   "source": [
    "mist.to_file(export_path.joinpath(\"mist_cft.json\"))"
   ]
  },
  {
   "cell_type": "code",
   "execution_count": null,
   "metadata": {},
   "outputs": [],
   "source": [
    "mist.export_hr_ensemble(export_path_ecg)"
   ]
  },
  {
   "cell_type": "code",
   "execution_count": null,
   "metadata": {},
   "outputs": [],
   "source": [
    "cft_params.to_csv(export_path_ecg.joinpath(\"cft_parameter.csv\"))\n",
    "data_concat.to_csv(export_path_ecg.joinpath(\"cft_hr_features_merged.csv\"))"
   ]
  },
  {
   "cell_type": "code",
   "execution_count": null,
   "metadata": {},
   "outputs": [],
   "source": []
  }
 ],
 "metadata": {
  "kernelspec": {
   "display_name": "cft_analysis",
   "language": "python",
   "name": "cft_analysis"
  },
  "language_info": {
   "codemirror_mode": {
    "name": "ipython",
    "version": 3
   },
   "file_extension": ".py",
   "mimetype": "text/x-python",
   "name": "python",
   "nbconvert_exporter": "python",
   "pygments_lexer": "ipython3",
   "version": "3.8.3"
  }
 },
 "nbformat": 4,
 "nbformat_minor": 4
}
