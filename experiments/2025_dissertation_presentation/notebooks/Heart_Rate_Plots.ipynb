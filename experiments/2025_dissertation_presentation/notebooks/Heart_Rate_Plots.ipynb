{
 "cells": [
  {
   "cell_type": "markdown",
   "metadata": {
    "pycharm": {
     "name": "#%% md\n"
    }
   },
   "source": [
    "# Cold Face Test – Heart Rate Plots"
   ]
  },
  {
   "cell_type": "code",
   "execution_count": null,
   "metadata": {
    "pycharm": {
     "name": "#%%\n"
    }
   },
   "outputs": [],
   "source": [
    "import json\n",
    "import re\n",
    "from pathlib import Path\n",
    "\n",
    "import pandas as pd\n",
    "import numpy as np\n",
    "import pingouin as pg\n",
    "\n",
    "import matplotlib.pyplot as plt\n",
    "import seaborn as sns\n",
    "\n",
    "from fau_colors import cmaps, colors_all, register_fausans_font\n",
    "import biopsykit as bp\n",
    "from biopsykit.protocols import MIST\n",
    "from biopsykit.utils.dataframe_handling import multi_xs\n",
    "\n",
    "from cft_analysis.datasets import CftDatasetProcessed\n",
    "\n",
    "from IPython.display import Markdown\n",
    "\n",
    "%load_ext autoreload\n",
    "%autoreload 2\n",
    "%matplotlib widget"
   ]
  },
  {
   "cell_type": "code",
   "execution_count": null,
   "metadata": {
    "pycharm": {
     "name": "#%%\n"
    }
   },
   "outputs": [],
   "source": [
    "plt.close(\"all\")\n",
    "\n",
    "register_fausans_font()\n",
    "palette = sns.color_palette(cmaps.faculties)\n",
    "sns.set_theme(context=\"notebook\", style=\"ticks\", palette=palette)\n",
    "\n",
    "plt.rcParams[\"figure.figsize\"] = (8, 4)\n",
    "plt.rcParams[\"pdf.fonttype\"] = 42\n",
    "plt.rcParams[\"mathtext.default\"] = \"regular\"\n",
    "\n",
    "plt.rcParams[\"font.family\"] = \"sans-serif\"\n",
    "plt.rcParams[\"font.sans-serif\"] = \"FAUSans Office\"\n",
    "\n",
    "palette"
   ]
  },
  {
   "cell_type": "markdown",
   "metadata": {
    "pycharm": {
     "name": "#%% md\n"
    }
   },
   "source": [
    "## Data Import"
   ]
  },
  {
   "cell_type": "code",
   "execution_count": null,
   "metadata": {
    "pycharm": {
     "name": "#%%\n"
    }
   },
   "outputs": [],
   "source": [
    "# get path to analysis results\n",
    "data_path = Path(\"../../2022_scientific_reports/data\")\n",
    "base_path = Path(\"..\")"
   ]
  },
  {
   "cell_type": "code",
   "execution_count": null,
   "metadata": {
    "pycharm": {
     "name": "#%%\n"
    }
   },
   "outputs": [],
   "source": [
    "results_path = base_path.joinpath(\"results\")\n",
    "plot_path = results_path.joinpath(\"plots\")\n",
    "bp.utils.file_handling.mkdirs([results_path, plot_path])"
   ]
  },
  {
   "cell_type": "code",
   "execution_count": null,
   "metadata": {
    "pycharm": {
     "name": "#%%\n"
    }
   },
   "outputs": [],
   "source": [
    "hue_order = [\"Control\", \"CFT\"]\n",
    "\n",
    "subphase_order = [\"BL\", \"RP/CFI\", \"AT\", \"FB\"]"
   ]
  },
  {
   "cell_type": "code",
   "execution_count": null,
   "metadata": {
    "pycharm": {
     "name": "#%%\n"
    }
   },
   "outputs": [],
   "source": [
    "dataset = CftDatasetProcessed(data_path, exclude_subjects=True)\n",
    "dataset"
   ]
  },
  {
   "cell_type": "code",
   "execution_count": null,
   "metadata": {
    "pycharm": {
     "name": "#%%\n"
    }
   },
   "outputs": [],
   "source": [
    "hr_ensemble = dataset.heart_rate_ensemble\n",
    "hr_mean = dataset.heart_rate\n",
    "hr_mean = hr_mean.xs(\"HR_Norm\", level=\"type\")\n",
    "hr_mean.head()"
   ]
  },
  {
   "cell_type": "code",
   "execution_count": null,
   "metadata": {
    "pycharm": {
     "name": "#%%\n"
    }
   },
   "outputs": [],
   "source": [
    "mist = MIST.from_file(data_path.joinpath(\"mist_cft.json\"))\n",
    "mist"
   ]
  },
  {
   "cell_type": "code",
   "execution_count": null,
   "metadata": {
    "pycharm": {
     "name": "#%%\n"
    }
   },
   "outputs": [],
   "source": [
    "mist.add_hr_ensemble(\"hr_ensemble\", {key: val.xs(key) for key, val in hr_ensemble.groupby(\"phase\")})\n",
    "\n",
    "hr_mean = hr_mean.rename({\"RP_CFI\": \"RP/CFI\"}, level=\"subphase\").reindex(subphase_order, level=\"subphase\")\n",
    "mist.add_hr_results(\"hr_mean\", hr_mean)\n",
    "mist.add_hr_results(\"hr_mean_control\", hr_mean.xs(\"Control\", drop_level=False))"
   ]
  },
  {
   "cell_type": "code",
   "execution_count": null,
   "metadata": {},
   "outputs": [],
   "source": [
    "mist"
   ]
  },
  {
   "cell_type": "markdown",
   "metadata": {
    "pycharm": {
     "name": "#%% md\n"
    },
    "tags": []
   },
   "source": [
    "## HR Mean Plot"
   ]
  },
  {
   "cell_type": "code",
   "execution_count": null,
   "metadata": {
    "pycharm": {
     "name": "#%%\n"
    }
   },
   "outputs": [],
   "source": [
    "fig, ax = plt.subplots()\n",
    "\n",
    "# HR Mean Plot\n",
    "mist.hr_mean_plot(\"hr_mean_control\", is_relative=True, ax=ax, order=[\"Control\"])\n",
    "ax.set_ylim([-15, 32.5])\n",
    "fig.tight_layout(pad=0.1)\n",
    "\n",
    "fig.savefig(plot_path.joinpath(\"img_hr_mean_course_control.pdf\"), transparent=True)"
   ]
  },
  {
   "cell_type": "code",
   "execution_count": null,
   "metadata": {
    "pycharm": {
     "name": "#%%\n"
    }
   },
   "outputs": [],
   "source": [
    "fig, ax = plt.subplots()\n",
    "\n",
    "# HR Mean Plot\n",
    "mist.hr_mean_plot(\"hr_mean\", is_relative=True, ax=ax, order=hue_order)\n",
    "ax.set_ylim([-15, 32.5])\n",
    "fig.tight_layout(pad=0.1)\n",
    "\n",
    "fig.savefig(plot_path.joinpath(\"img_hr_mean_course.pdf\"), transparent=True)"
   ]
  },
  {
   "cell_type": "code",
   "execution_count": null,
   "metadata": {
    "pycharm": {
     "name": "#%%\n"
    }
   },
   "outputs": [],
   "source": []
  }
 ],
 "metadata": {
  "kernelspec": {
   "display_name": "cft-analysis",
   "language": "python",
   "name": "cft-analysis"
  },
  "language_info": {
   "codemirror_mode": {
    "name": "ipython",
    "version": 3
   },
   "file_extension": ".py",
   "mimetype": "text/x-python",
   "name": "python",
   "nbconvert_exporter": "python",
   "pygments_lexer": "ipython3",
   "version": "3.10.14"
  }
 },
 "nbformat": 4,
 "nbformat_minor": 4
}
