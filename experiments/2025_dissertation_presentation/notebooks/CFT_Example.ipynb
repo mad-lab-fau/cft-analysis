{
 "cells": [
  {
   "cell_type": "markdown",
   "metadata": {
    "cell_marker": "\"\"\"",
    "pycharm": {
     "name": "#%% md\n"
    }
   },
   "source": [
    "# CFT Example"
   ]
  },
  {
   "cell_type": "markdown",
   "metadata": {
    "pycharm": {
     "name": "#%% md\n"
    }
   },
   "source": [
    "<div class=\"alert alert-block alert-info\">\n",
    "This example illustrates how to process data collected when conducting the <i>Cold Face Test (CFT)</i> procedure, i.e., how to compute parameters quantifying the reaction to the CFT and how to create specialized CFT plots.\n",
    "</div>"
   ]
  },
  {
   "cell_type": "markdown",
   "metadata": {
    "pycharm": {
     "name": "#%% md\n"
    }
   },
   "source": [
    "## Setup and Helper Functions"
   ]
  },
  {
   "cell_type": "code",
   "execution_count": null,
   "metadata": {
    "pycharm": {
     "name": "#%%\n"
    },
    "tags": []
   },
   "outputs": [],
   "source": [
    "from pathlib import Path\n",
    "import matplotlib.pyplot as plt\n",
    "import seaborn as sns\n",
    "from fau_colors import cmaps, colors_all, register_fausans_font\n",
    "\n",
    "import pandas as pd\n",
    "import biopsykit as bp\n",
    "from biopsykit.protocols import CFT\n",
    "\n",
    "%matplotlib widget\n",
    "%load_ext autoreload\n",
    "%autoreload 2"
   ]
  },
  {
   "cell_type": "code",
   "execution_count": null,
   "metadata": {
    "pycharm": {
     "name": "#%%\n"
    },
    "tags": []
   },
   "outputs": [],
   "source": [
    "plt.close(\"all\")\n",
    "\n",
    "register_fausans_font()\n",
    "palette = sns.color_palette(cmaps.faculties)\n",
    "sns.set_theme(context=\"talk\", style=\"ticks\", palette=palette)\n",
    "\n",
    "plt.rcParams[\"figure.figsize\"] = (10, 5)\n",
    "plt.rcParams[\"pdf.fonttype\"] = 42\n",
    "plt.rcParams[\"mathtext.default\"] = \"regular\"\n",
    "\n",
    "plt.rcParams[\"font.family\"] = \"sans-serif\"\n",
    "plt.rcParams[\"font.sans-serif\"] = \"FAUSans Office\"\n",
    "\n",
    "palette"
   ]
  },
  {
   "cell_type": "code",
   "execution_count": null,
   "metadata": {},
   "outputs": [],
   "source": [
    "output_path = Path(\"../results/plots\")\n",
    "output_path.mkdir(exist_ok=True, parents=True)"
   ]
  },
  {
   "cell_type": "markdown",
   "metadata": {
    "pycharm": {
     "name": "#%% md\n"
    }
   },
   "source": [
    "## Create CFT Object"
   ]
  },
  {
   "cell_type": "markdown",
   "metadata": {
    "pycharm": {
     "name": "#%% md\n"
    }
   },
   "source": [
    "The [CFT](https://biopsykit.readthedocs.io/en/latest/api/biopsykit.protocols.cft.html#biopsykit.protocols.cft.CFT) is a protocol and thus part of the Protocol API of `BioPsyKit`."
   ]
  },
  {
   "cell_type": "code",
   "execution_count": null,
   "metadata": {
    "pycharm": {
     "name": "#%%\n"
    },
    "tags": []
   },
   "outputs": [],
   "source": [
    "cft = CFT()\n",
    "cft"
   ]
  },
  {
   "cell_type": "markdown",
   "metadata": {
    "pycharm": {
     "name": "#%% md\n"
    }
   },
   "source": [
    "## Load Data"
   ]
  },
  {
   "cell_type": "code",
   "execution_count": null,
   "metadata": {
    "pycharm": {
     "name": "#%%\n"
    },
    "tags": []
   },
   "outputs": [],
   "source": [
    "hr_dict = bp.example_data.get_mist_hr_example()\n",
    "\n",
    "# Alternatively: Use your own data\n",
    "# hr_dict = bp.io.ecg.load_hr_phase_dict(\"<path-to-heart-rate-data-dictionary>\")\n",
    "df_hr = hr_dict[\"MIST2\"]\n",
    "\n",
    "df_hr.head()"
   ]
  },
  {
   "cell_type": "markdown",
   "metadata": {
    "pycharm": {
     "name": "#%% md\n"
    }
   },
   "source": [
    "Note: See [plotting.hr_plot()](https://biopsykit.readthedocs.io/en/latest/api/biopsykit.signals.ecg.plotting.html#biopsykit.signals.ecg.plotting.hr_plot) for further information!"
   ]
  },
  {
   "cell_type": "markdown",
   "metadata": {
    "pycharm": {
     "name": "#%% md\n"
    }
   },
   "source": [
    "## Plot CFT Data"
   ]
  },
  {
   "cell_type": "code",
   "execution_count": null,
   "metadata": {},
   "outputs": [],
   "source": [
    "cft_params"
   ]
  },
  {
   "cell_type": "code",
   "execution_count": null,
   "metadata": {
    "pycharm": {
     "name": "#%%\n"
    },
    "tags": [
     "nbsphinx-thumbnail"
    ]
   },
   "outputs": [],
   "source": [
    "fig, ax = cft.cft_plot(\n",
    "    data=df_hr, plot_onset=False, plot_mean=False, plot_peak_brady=False, plot_poly_fit=False, plot_baseline=False,\n",
    "    background_alpha=1,\n",
    "    background_base_color=[\"#E7F0F4\", \"#CEE0EA\", \"#9CC1D5\"],\n",
    "    phase_names=[\"Baseline\", \"Cold Face Intervention\", \"Recovery\"],\n",
    ")\n",
    "\n",
    "cft_params = cft.compute_cft_parameter(df_hr, return_dict=True)\n",
    "cft_times = cft._cft_plot_get_cft_times(df_hr, 60, 60)\n",
    "\n",
    "cft_times = {key: (val - df_hr.index[0]).total_seconds() for key, val in cft_times.items()}\n",
    "\n",
    "df_plot = df_hr.copy()\n",
    "df_plot.index -= df_plot.index[0]\n",
    "\n",
    "mean_hr = cft_params[\"mean_hr_bpm\"]\n",
    "cft_start = cft_times[\"cft_start\"]\n",
    "cft_end = cft_times[\"cft_end\"]\n",
    "\n",
    "# Baseline HR\n",
    "ax.hlines(\n",
    "    y=cft_params[\"baseline_hr\"],\n",
    "    xmin=cft_times[\"plot_start\"],\n",
    "    xmax=cft_times[\"cft_start\"],\n",
    "    ls=\"-\",\n",
    "    lw=3,\n",
    "    color=\"#2F586E\",\n",
    ")\n",
    "\n",
    "# Mean HR during CFT\n",
    "ax.hlines(\n",
    "    y=mean_hr,\n",
    "    xmin=cft_start,\n",
    "    xmax=cft_end,\n",
    "    ls=\"-\",\n",
    "    lw=3,\n",
    "    color=\"#2F586E\",\n",
    ")\n",
    "\n",
    "ax.scatter(\n",
    "    x=(cft_params[\"peak_brady\"] - df_hr.index[0]).total_seconds(),\n",
    "    y=df_hr.loc[cft_params[\"peak_brady\"]],\n",
    "    zorder=5,\n",
    "    marker=\"X\",\n",
    "    color=\"#2F586E\",\n",
    ")\n",
    "\n",
    "ax.set_ylim([65, 125])\n",
    "\n",
    "fig.tight_layout(pad=0.1)\n",
    "\n",
    "fig.savefig(output_path.joinpath(\"img_cft_plot.pdf\"), transparent=True)"
   ]
  },
  {
   "cell_type": "markdown",
   "metadata": {
    "pycharm": {
     "name": "#%% md\n"
    }
   },
   "source": [
    "Note: See [CFT.cft_plot()](https://biopsykit.readthedocs.io/en/latest/api/biopsykit.protocols.html#biopsykit.protocols.CFT.cft_plot) for further information!"
   ]
  },
  {
   "cell_type": "code",
   "execution_count": null,
   "metadata": {
    "pycharm": {
     "name": "#%%\n"
    }
   },
   "outputs": [],
   "source": []
  }
 ],
 "metadata": {
  "jupytext": {
   "encoding": "# -*- coding: utf-8 -*-",
   "text_representation": {
    "extension": ".py",
    "format_name": "sphinx",
    "format_version": "1.1",
    "jupytext_version": "1.13.0"
   }
  },
  "kernelspec": {
   "display_name": "cft-analysis",
   "language": "python",
   "name": "cft-analysis"
  },
  "language_info": {
   "codemirror_mode": {
    "name": "ipython",
    "version": 3
   },
   "file_extension": ".py",
   "mimetype": "text/x-python",
   "name": "python",
   "nbconvert_exporter": "python",
   "pygments_lexer": "ipython3",
   "version": "3.10.14"
  }
 },
 "nbformat": 4,
 "nbformat_minor": 4
}
