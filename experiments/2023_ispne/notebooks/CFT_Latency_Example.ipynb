{
 "cells": [
  {
   "cell_type": "markdown",
   "metadata": {
    "cell_marker": "\"\"\"",
    "pycharm": {
     "name": "#%% md\n"
    }
   },
   "source": [
    "# CFT Latency Example"
   ]
  },
  {
   "cell_type": "markdown",
   "metadata": {
    "pycharm": {
     "name": "#%% md\n"
    }
   },
   "source": [
    "## Setup and Helper Functions"
   ]
  },
  {
   "cell_type": "code",
   "execution_count": null,
   "metadata": {
    "pycharm": {
     "name": "#%%\n"
    },
    "tags": []
   },
   "outputs": [],
   "source": [
    "from pathlib import Path\n",
    "\n",
    "import re\n",
    "\n",
    "import pandas as pd\n",
    "import numpy as np\n",
    "\n",
    "from fau_colors import cmaps, register_fausans_font\n",
    "\n",
    "import biopsykit as bp\n",
    "from biopsykit.protocols import CFT\n",
    "\n",
    "import matplotlib.pyplot as plt\n",
    "import seaborn as sns\n",
    "\n",
    "%matplotlib widget\n",
    "%load_ext autoreload\n",
    "%autoreload 2"
   ]
  },
  {
   "cell_type": "code",
   "execution_count": null,
   "metadata": {
    "pycharm": {
     "name": "#%%\n"
    },
    "tags": []
   },
   "outputs": [],
   "source": [
    "plt.close(\"all\")\n",
    "\n",
    "register_fausans_font()\n",
    "palette = sns.color_palette(cmaps.faculties)\n",
    "sns.set_theme(context=\"talk\", style=\"ticks\", palette=palette)\n",
    "\n",
    "plt.rcParams[\"figure.figsize\"] = (10, 5)\n",
    "plt.rcParams[\"pdf.fonttype\"] = 42\n",
    "plt.rcParams[\"mathtext.default\"] = \"regular\"\n",
    "\n",
    "plt.rcParams[\"font.family\"] = \"sans-serif\"\n",
    "plt.rcParams[\"font.sans-serif\"] = \"FAUSans Office\"\n",
    "\n",
    "palette"
   ]
  },
  {
   "cell_type": "code",
   "execution_count": null,
   "metadata": {
    "pycharm": {
     "name": "#%%\n"
    },
    "tags": []
   },
   "outputs": [],
   "source": [
    "# get path to analysis results\n",
    "data_path = Path(\"../../2022_scientific_reports/data\")\n",
    "base_path = Path(\"..\")"
   ]
  },
  {
   "cell_type": "code",
   "execution_count": null,
   "metadata": {
    "pycharm": {
     "name": "#%%\n"
    },
    "tags": []
   },
   "outputs": [],
   "source": [
    "results_path = base_path.joinpath(\"results\")\n",
    "plot_path = results_path.joinpath(\"plots\")\n",
    "bp.utils.file_handling.mkdirs([results_path, plot_path])"
   ]
  },
  {
   "cell_type": "markdown",
   "metadata": {
    "pycharm": {
     "name": "#%% md\n"
    }
   },
   "source": [
    "## Create CFT Object"
   ]
  },
  {
   "cell_type": "markdown",
   "metadata": {
    "pycharm": {
     "name": "#%% md\n"
    }
   },
   "source": [
    "The [CFT](https://biopsykit.readthedocs.io/en/latest/api/biopsykit.protocols.cft.html#biopsykit.protocols.cft.CFT) is a protocol and thus part of the Protocol API of `BioPsyKit`."
   ]
  },
  {
   "cell_type": "code",
   "execution_count": null,
   "metadata": {
    "pycharm": {
     "name": "#%%\n"
    },
    "tags": []
   },
   "outputs": [],
   "source": [
    "cft = CFT()\n",
    "cft"
   ]
  },
  {
   "cell_type": "markdown",
   "metadata": {
    "pycharm": {
     "name": "#%% md\n"
    }
   },
   "source": [
    "## Load Data"
   ]
  },
  {
   "cell_type": "code",
   "execution_count": null,
   "metadata": {
    "pycharm": {
     "name": "#%%\n"
    },
    "tags": []
   },
   "outputs": [],
   "source": [
    "hr_dict = bp.example_data.get_mist_hr_example()\n",
    "\n",
    "# Alternatively: Use your own data\n",
    "# hr_dict = bp.io.ecg.load_hr_phase_dict(\"<path-to-heart-rate-data-dictionary>\")\n",
    "df_hr = hr_dict[\"MIST3\"]\n",
    "\n",
    "df_hr.head()"
   ]
  },
  {
   "cell_type": "markdown",
   "metadata": {
    "pycharm": {
     "name": "#%% md\n"
    }
   },
   "source": [
    "## Compute CFT Parameter"
   ]
  },
  {
   "cell_type": "markdown",
   "metadata": {
    "pycharm": {
     "name": "#%% md\n"
    }
   },
   "source": [
    "Extract CFT Interval, i.e., the interval of the data where the Cold Face stimulus was actually applied (corresponds to the duration of the \"CFT\" phase specified in the [CFT](https://biopsykit.readthedocs.io/en/latest/api/biopsykit.protocols.cft.html#biopsykit.protocols.cft.CFT) object) and compute baseline heart rate (the mean heart rate during the \"Baseline\" phase specified in the [CFT](https://biopsykit.readthedocs.io/en/latest/api/biopsykit.protocols.cft.html#biopsykit.protocols.cft.CFT) object).\n",
    "\n",
    "Note: See [CFT.extract_cft_interval()](https://biopsykit.readthedocs.io/en/latest/api/biopsykit.protocols.cft.html#biopsykit.protocols.cft.CFT.extract_cft_interval) and [CFT.compute_cft_parameter()](https://biopsykit.readthedocs.io/en/latest/api/biopsykit.protocols.cft.html#biopsykit.protocols.cft.CFT.compute_cft_parameter) for further information!"
   ]
  },
  {
   "cell_type": "code",
   "execution_count": null,
   "metadata": {
    "pycharm": {
     "name": "#%%\n"
    },
    "tags": []
   },
   "outputs": [],
   "source": [
    "df_cft = cft.extract_cft_interval(df_hr)\n",
    "bl = cft.baseline_hr(df_hr)\n",
    "\n",
    "print(\"Baseline Heart Rate: {:.2f}\".format(bl))\n",
    "df_cft.head()"
   ]
  },
  {
   "cell_type": "code",
   "execution_count": null,
   "metadata": {
    "pycharm": {
     "name": "#%%\n"
    },
    "tags": []
   },
   "outputs": [],
   "source": [
    "cft.compute_cft_parameter(df_hr)"
   ]
  },
  {
   "cell_type": "markdown",
   "metadata": {
    "pycharm": {
     "name": "#%% md\n"
    }
   },
   "source": [
    "## Plot CFT Data"
   ]
  },
  {
   "cell_type": "code",
   "execution_count": null,
   "metadata": {
    "tags": []
   },
   "outputs": [],
   "source": [
    "from fau_colors import colors_all\n",
    "\n",
    "def _cft_plot_add_param_annotations(cft, data, cft_params, times_dict, ax, bbox, **kwargs):\n",
    "    if kwargs.get(\"plot_baseline\", True):\n",
    "        _cft_plot_add_baseline(cft, cft_params, times_dict, ax)\n",
    "    if kwargs.get(\"plot_mean\", True):\n",
    "        _cft_plot_add_mean_bradycardia(cft, data, cft_params, times_dict, ax, bbox)\n",
    "    if kwargs.get(\"plot_onset\", True):\n",
    "        _cft_plot_add_onset(cft, data, cft_params, times_dict, ax, bbox)\n",
    "    if kwargs.get(\"plot_peak_brady\", True):\n",
    "        _cft_plot_add_peak_bradycardia(cft, data, cft_params, times_dict, ax, bbox)\n",
    "\n",
    "def _cft_plot_add_peak_bradycardia(\n",
    "    cft,\n",
    "    data: pd.DataFrame,\n",
    "    cft_params,\n",
    "    cft_times,\n",
    "    ax: plt.Axes,\n",
    "    bbox,\n",
    ") -> None:\n",
    "\n",
    "    color_key = \"fau\"\n",
    "    if isinstance(data.index, pd.DatetimeIndex):\n",
    "        brady_loc = cft_params[\"peak_brady\"]\n",
    "        brady_x = brady_loc\n",
    "        brady_y = float(data.loc[brady_loc])\n",
    "    else:\n",
    "        brady_loc = cft_params[\"cft_start_idx\"] + cft_params[\"peak_brady_idx\"]\n",
    "        brady_x = data.index[brady_loc]\n",
    "        brady_y = float(data.iloc[brady_loc])\n",
    "\n",
    "    hr_baseline = cft_params[\"baseline_hr\"]\n",
    "    max_hr_cft = float(cft.extract_cft_interval(data).max())\n",
    "    cft_start = cft_times[\"cft_start\"]\n",
    "\n",
    "    color = getattr(colors_all, color_key)\n",
    "    color_adjust = getattr(colors_all, f\"{color_key}_dark\")\n",
    "\n",
    "    # Peak Bradycardia vline\n",
    "    ax.axvline(x=brady_x, ls=\"--\", lw=2, alpha=0.6, color=color)\n",
    "\n",
    "    # Peak Bradycardia marker\n",
    "    ax.plot(\n",
    "        brady_x,\n",
    "        brady_y,\n",
    "        color=color,\n",
    "        marker=\"o\",\n",
    "        markersize=7,\n",
    "    )\n",
    "\n",
    "    # Peak Bradycardia hline\n",
    "    xmax = brady_x + 20\n",
    "\n",
    "    ax.hlines(\n",
    "        y=brady_y,\n",
    "        xmin=brady_x,\n",
    "        xmax=xmax,\n",
    "        ls=\"--\",\n",
    "        lw=2,\n",
    "        color=color_adjust,\n",
    "        alpha=0.6,\n",
    "    )\n",
    "\n",
    "\n",
    "    brady_x_offset = brady_x + 5\n",
    "\n",
    "    ax.annotate(\n",
    "        \"\",\n",
    "        xy=(brady_x_offset, brady_y),\n",
    "        xytext=(brady_x_offset, hr_baseline),\n",
    "        arrowprops={\n",
    "            \"arrowstyle\": \"<->\",\n",
    "            \"lw\": 2,\n",
    "            \"color\": color_adjust,\n",
    "            \"shrinkA\": 0.0,\n",
    "            \"shrinkB\": 0.0,\n",
    "        },\n",
    "    )\n",
    "\n",
    "    # Peak Bradycardia Text\n",
    "    ax.annotate(\n",
    "        \"Peak Brady.\",\n",
    "        xy=(brady_x_offset, brady_y - 2),\n",
    "        xytext=(10, -5),\n",
    "        textcoords=\"offset points\",\n",
    "        bbox=bbox,\n",
    "        ha=\"left\",\n",
    "        va=\"top\",\n",
    "    )\n",
    "\n",
    "    # Peak Bradycardia Latency arrow\n",
    "    ax.annotate(\n",
    "        \"\",\n",
    "        xy=(cft_start, max_hr_cft),\n",
    "        xytext=(brady_x, max_hr_cft),\n",
    "        arrowprops={\n",
    "            \"arrowstyle\": \"<->\",\n",
    "            \"lw\": 2,\n",
    "            \"color\": color,\n",
    "            \"shrinkA\": 0.0,\n",
    "            \"shrinkB\": 0.0,\n",
    "        },\n",
    "    )\n",
    "\n",
    "    # Peak Bradycardia Latency Text\n",
    "    ax.annotate(\n",
    "        \"CFT Latency\",\n",
    "        xy=(brady_x, max_hr_cft),\n",
    "        xytext=(-7.5, 10),\n",
    "        textcoords=\"offset points\",\n",
    "        bbox=bbox,\n",
    "        ha=\"right\",\n",
    "        va=\"bottom\",\n",
    "    )\n",
    "\n",
    "def _cft_plot_add_baseline(\n",
    "    cft,\n",
    "    cft_params,\n",
    "    cft_times,\n",
    "    ax: plt.Axes,\n",
    ") -> None:\n",
    "    color_key = \"tech\"\n",
    "\n",
    "    # Baseline HR\n",
    "    ax.hlines(\n",
    "        y=cft_params[\"baseline_hr\"],\n",
    "        xmin=cft_times[\"plot_start\"],\n",
    "        xmax=cft_times[\"cft_end\"],\n",
    "        ls=\"--\",\n",
    "        lw=2,\n",
    "        color=getattr(colors_all, color_key),\n",
    "        alpha=0.6,\n",
    "    )\n",
    "\n",
    "def _cft_plot_add_mean_bradycardia(\n",
    "    cft,\n",
    "    data: pd.DataFrame,\n",
    "    cft_params,\n",
    "    cft_times,\n",
    "    ax: plt.Axes,\n",
    "    bbox,\n",
    ") -> None:\n",
    "\n",
    "    color_key = \"nat\"\n",
    "    mean_hr = cft_params[\"mean_hr_bpm\"]\n",
    "    cft_start = cft_times[\"cft_start\"]\n",
    "    cft_end = cft_times[\"cft_end\"]\n",
    "\n",
    "    # Mean HR during CFT\n",
    "    ax.hlines(\n",
    "        y=mean_hr,\n",
    "        xmin=cft_start,\n",
    "        xmax=cft_end,\n",
    "        ls=\"--\",\n",
    "        lw=2,\n",
    "        color=getattr(colors_all, color_key),\n",
    "        alpha=0.6,\n",
    "    )\n",
    "\n",
    "    x_offset = cft_end - 10\n",
    "\n",
    "    # Mean Bradycardia arrow\n",
    "    ax.annotate(\n",
    "        \"\",\n",
    "        xy=(x_offset, mean_hr),\n",
    "        xytext=(x_offset, cft_params[\"baseline_hr\"]),\n",
    "        arrowprops={\n",
    "            \"arrowstyle\": \"<->\",\n",
    "            \"lw\": 2,\n",
    "            \"color\": getattr(colors_all, color_key),\n",
    "            \"shrinkA\": 0.0,\n",
    "            \"shrinkB\": 0.0,\n",
    "        },\n",
    "    )\n",
    "\n",
    "    # Mean Bradycardia Text\n",
    "    ax.annotate(\n",
    "        \"Mean Brady.\",\n",
    "        xy=(x_offset, mean_hr - 2),\n",
    "        xytext=(0, -5),\n",
    "        textcoords=\"offset points\",\n",
    "        bbox=bbox,\n",
    "        ha=\"left\",\n",
    "        va=\"top\",\n",
    "    )\n",
    "\n",
    "def _cft_plot_add_onset(\n",
    "    cft,\n",
    "    data: pd.DataFrame,\n",
    "    cft_params,\n",
    "    cft_times,\n",
    "    ax: plt.Axes,\n",
    "    bbox,\n",
    ") -> None:\n",
    "\n",
    "    color_key = \"med\"\n",
    "    color = getattr(colors_all, color_key)\n",
    "\n",
    "    if isinstance(data.index, pd.DatetimeIndex):\n",
    "        onset_idx = cft_params[\"onset\"]\n",
    "        onset_x = onset_idx\n",
    "        onset_y = float(data.loc[onset_idx])\n",
    "    else:\n",
    "        onset_idx = cft_params[\"cft_start_idx\"] + cft_params[\"onset_idx\"]\n",
    "        onset_y = float(data.iloc[onset_idx])\n",
    "        onset_x = data.index[onset_idx]\n",
    "\n",
    "    # CFT Onset vline\n",
    "    ax.axvline(onset_x, ls=\"--\", lw=2, alpha=0.6, color=color)\n",
    "\n",
    "    # CFT Onset marker\n",
    "    ax.plot(\n",
    "        onset_x,\n",
    "        onset_y,\n",
    "        color=color,\n",
    "        marker=\"o\",\n",
    "        markersize=7,\n",
    "    )\n",
    "\n",
    "    # CFT Onset arrow\n",
    "    ax.annotate(\n",
    "        \"\",\n",
    "        xy=(onset_x, onset_y),\n",
    "        xytext=(cft_times[\"cft_start\"], onset_y),\n",
    "        arrowprops={\n",
    "            \"arrowstyle\": \"<->\",\n",
    "            \"lw\": 2,\n",
    "            \"color\": color,\n",
    "            \"shrinkA\": 0.0,\n",
    "            \"shrinkB\": 0.0,\n",
    "        },\n",
    "    )\n",
    "\n",
    "    # CFT Onset Text\n",
    "    ax.annotate(\n",
    "        \"CFT Onset\",\n",
    "        xy=(onset_x, onset_y),\n",
    "        xytext=(-10, -10),\n",
    "        textcoords=\"offset points\",\n",
    "        bbox=bbox,\n",
    "        ha=\"right\",\n",
    "        va=\"top\",\n",
    "    )"
   ]
  },
  {
   "cell_type": "code",
   "execution_count": null,
   "metadata": {
    "pycharm": {
     "name": "#%%\n"
    },
    "tags": [
     "nbsphinx-thumbnail"
    ]
   },
   "outputs": [],
   "source": [
    "fig, ax = plt.subplots(figsize=(10,5))\n",
    "time_baseline = 60\n",
    "time_recovery = 60\n",
    "\n",
    "\n",
    "data = df_hr.copy()\n",
    "\n",
    "cft_params = cft.compute_cft_parameter(data, return_dict=True)\n",
    "data.index = (data.index - data.index[0]).view(np.int64) / 1e9\n",
    "\n",
    "times_dict = cft._cft_plot_get_cft_times(data, time_baseline, time_recovery)\n",
    "df_plot = cft._cft_plot_extract_plot_interval(data, times_dict)\n",
    "\n",
    "bbox = {\n",
    "    \"fc\": (1, 1, 1, plt.rcParams[\"legend.framealpha\"]),\n",
    "    \"ec\": plt.rcParams[\"legend.edgecolor\"],\n",
    "    \"boxstyle\": \"round\",\n",
    "}\n",
    "\n",
    "bp.signals.ecg.plotting.hr_plot(heart_rate=df_plot, ax=ax, plot_mean=False)\n",
    "cft._cft_plot_add_phase_annotations(ax, times_dict)\n",
    "_cft_plot_add_param_annotations(cft, data, cft_params, times_dict, ax, bbox)\n",
    "cft._cft_plot_style_axis(data, ax)\n",
    "\n",
    "fig.tight_layout()\n",
    "fig.savefig(plot_path.joinpath(\"img_cft_example.pdf\"), transparent=True)"
   ]
  },
  {
   "cell_type": "code",
   "execution_count": null,
   "metadata": {
    "pycharm": {
     "name": "#%%\n"
    }
   },
   "outputs": [],
   "source": []
  }
 ],
 "metadata": {
  "jupytext": {
   "encoding": "# -*- coding: utf-8 -*-",
   "text_representation": {
    "extension": ".py",
    "format_name": "sphinx",
    "format_version": "1.1",
    "jupytext_version": "1.13.0"
   }
  },
  "kernelspec": {
   "display_name": "biopsykit",
   "language": "python",
   "name": "biopsykit"
  },
  "language_info": {
   "codemirror_mode": {
    "name": "ipython",
    "version": 3
   },
   "file_extension": ".py",
   "mimetype": "text/x-python",
   "name": "python",
   "nbconvert_exporter": "python",
   "pygments_lexer": "ipython3",
   "version": "3.9.13"
  }
 },
 "nbformat": 4,
 "nbformat_minor": 4
}
