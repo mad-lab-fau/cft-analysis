{
 "cells": [
  {
   "cell_type": "markdown",
   "metadata": {
    "pycharm": {
     "name": "#%% md\n"
    }
   },
   "source": [
    "# CFT Latency Analysis"
   ]
  },
  {
   "cell_type": "markdown",
   "metadata": {
    "pycharm": {
     "name": "#%% md\n"
    }
   },
   "source": [
    "## Setup and Helper Functions"
   ]
  },
  {
   "cell_type": "code",
   "execution_count": null,
   "metadata": {
    "pycharm": {
     "name": "#%%\n"
    },
    "tags": []
   },
   "outputs": [],
   "source": [
    "import json\n",
    "import re\n",
    "from pathlib import Path\n",
    "\n",
    "import pandas as pd\n",
    "import numpy as np\n",
    "import pingouin as pg\n",
    "\n",
    "import matplotlib.pyplot as plt\n",
    "import seaborn as sns\n",
    "\n",
    "from fau_colors import cmaps\n",
    "import biopsykit as bp\n",
    "import statsmodels.api as sm\n",
    "\n",
    "from cft_analysis.datasets import CftDatasetProcessed, CftDatasetRaw\n",
    "\n",
    "%load_ext autoreload\n",
    "%autoreload 2\n",
    "%matplotlib widget"
   ]
  },
  {
   "cell_type": "code",
   "execution_count": null,
   "metadata": {
    "pycharm": {
     "name": "#%%\n"
    },
    "tags": []
   },
   "outputs": [],
   "source": [
    "plt.close(\"all\")\n",
    "\n",
    "palette = sns.color_palette(cmaps.faculties)\n",
    "sns.set_theme(context=\"notebook\", style=\"ticks\", palette=palette)\n",
    "\n",
    "plt.rcParams[\"figure.figsize\"] = (8, 4)\n",
    "plt.rcParams[\"pdf.fonttype\"] = 42\n",
    "plt.rcParams[\"mathtext.default\"] = \"regular\"\n",
    "\n",
    "pg.options[\"round\"] = 4\n",
    "\n",
    "palette"
   ]
  },
  {
   "cell_type": "markdown",
   "metadata": {
    "pycharm": {
     "name": "#%% md\n"
    }
   },
   "source": [
    "## Import Data"
   ]
  },
  {
   "cell_type": "code",
   "execution_count": null,
   "metadata": {
    "pycharm": {
     "name": "#%%\n"
    },
    "tags": []
   },
   "outputs": [],
   "source": [
    "# get path to analysis results\n",
    "base_path = Path(\"..\")\n",
    "data_path = Path(\"../../2022_scientific_reports/data\")"
   ]
  },
  {
   "cell_type": "code",
   "execution_count": null,
   "metadata": {
    "pycharm": {
     "name": "#%%\n"
    },
    "tags": []
   },
   "outputs": [],
   "source": [
    "results_path = base_path.joinpath(\"results\")\n",
    "stats_path = results_path.joinpath(\"statistics\")\n",
    "plot_path = results_path.joinpath(\"plots\")\n",
    "bp.utils.file_handling.mkdirs([results_path, stats_path, plot_path])"
   ]
  },
  {
   "cell_type": "code",
   "execution_count": null,
   "metadata": {
    "pycharm": {
     "name": "#%%\n"
    },
    "tags": []
   },
   "outputs": [],
   "source": [
    "dataset = CftDatasetProcessed(data_path, exclude_subjects=True)\n",
    "dataset_raw = CftDatasetRaw(data_path)\n",
    "dataset"
   ]
  },
  {
   "cell_type": "code",
   "execution_count": null,
   "metadata": {
    "tags": []
   },
   "outputs": [],
   "source": [
    "mdbf_data = dataset.questionnaire.filter(regex=\"MDBF_\\w+_(pre|post)\")\n",
    "mdbf_data = mdbf_data.xs(\"CFT\", level=\"condition\")\n",
    "mdbf_data = bp.questionnaires.utils.wide_to_long(mdbf_data, quest_name=\"MDBF\", levels=[\"subscale\", \"time\"])\n",
    "mdbf_data = mdbf_data.unstack(\"time\").diff(axis=1).dropna(axis=1).droplevel(\"time\", axis=1)\n",
    "mdbf_data = mdbf_data.unstack()\n",
    "mdbf_data.columns = [\"_\".join(col) for col in mdbf_data.columns]\n",
    "mdbf_data.head()"
   ]
  },
  {
   "cell_type": "code",
   "execution_count": null,
   "metadata": {
    "pycharm": {
     "name": "#%%\n"
    },
    "tags": []
   },
   "outputs": [],
   "source": [
    "cft_latency = dataset.cft_parameter.reindex([\"onset_latency\", \"peak_brady_latency\"], level=\"type\").unstack()\n",
    "data_merge = cft_latency.diff(axis=1).dropna(axis=1)[\"data\"]\n",
    "data_merge.columns = [\"cft_latency\"]\n",
    "\n",
    "data_merge = data_merge.join(dataset.cortisol_features.unstack()[\"cortisol\"]).join(mdbf_data)\n",
    "data_merge = data_merge.droplevel([\"condition\", \"subphase\", \"category\"])\n",
    "\n",
    "data_merge"
   ]
  },
  {
   "cell_type": "markdown",
   "metadata": {},
   "source": [
    "## Bradycardia Information"
   ]
  },
  {
   "cell_type": "code",
   "execution_count": null,
   "metadata": {},
   "outputs": [],
   "source": [
    "brady_data = dataset.cft_parameter.reindex([\"baseline_hr\", \"peak_brady_bpm\"], level=\"type\")[\"data\"]\n",
    "brady_data = brady_data.droplevel([\"subphase\", \"category\"]).unstack()\n",
    "brady_data"
   ]
  },
  {
   "cell_type": "markdown",
   "metadata": {},
   "source": [
    "### CFT Latency over Time"
   ]
  },
  {
   "cell_type": "code",
   "execution_count": null,
   "metadata": {
    "tags": []
   },
   "outputs": [],
   "source": [
    "fig, ax = plt.subplots()\n",
    "pg.plot_paired(data=data_merge.reset_index(), dv=\"cft_latency\", within=\"phase\", subject=\"subject\", ax=ax)\n",
    "fig.tight_layout()"
   ]
  },
  {
   "cell_type": "markdown",
   "metadata": {},
   "source": [
    "## $CFT_{Latency}$ and Cortisol Response"
   ]
  },
  {
   "cell_type": "code",
   "execution_count": null,
   "metadata": {
    "tags": []
   },
   "outputs": [],
   "source": [
    "dv = \"auc_i\""
   ]
  },
  {
   "cell_type": "markdown",
   "metadata": {
    "tags": []
   },
   "source": [
    "### Linear Regression with $CFT_{Latency}$ of MIST"
   ]
  },
  {
   "cell_type": "code",
   "execution_count": null,
   "metadata": {
    "tags": []
   },
   "outputs": [],
   "source": [
    "phase = \"MIST3\""
   ]
  },
  {
   "cell_type": "code",
   "execution_count": null,
   "metadata": {
    "tags": []
   },
   "outputs": [],
   "source": [
    "data_analysis = data_merge.xs(phase, level=\"phase\")\n",
    "data_analysis.head()"
   ]
  },
  {
   "cell_type": "code",
   "execution_count": null,
   "metadata": {
    "tags": []
   },
   "outputs": [],
   "source": [
    "fig, ax = plt.subplots()\n",
    "\n",
    "sns.regplot(data=data_analysis.reset_index(), x=\"cft_latency\", y=dv, ax=ax, label=phase)\n",
    "ax.legend()\n",
    "\n",
    "fig.tight_layout()"
   ]
  },
  {
   "cell_type": "code",
   "execution_count": null,
   "metadata": {
    "tags": []
   },
   "outputs": [],
   "source": [
    "x = sm.add_constant(data_analysis[\"cft_latency\"])\n",
    "y = data_analysis[dv]"
   ]
  },
  {
   "cell_type": "code",
   "execution_count": null,
   "metadata": {
    "tags": []
   },
   "outputs": [],
   "source": [
    "res = sm.OLS(y, x).fit()\n",
    "res.summary()"
   ]
  },
  {
   "cell_type": "markdown",
   "metadata": {},
   "source": [
    "### Multiple Linear Regression with $CFT_{Latency}$ of all MIST Phases"
   ]
  },
  {
   "cell_type": "code",
   "execution_count": null,
   "metadata": {
    "tags": []
   },
   "outputs": [],
   "source": [
    "fig, ax = plt.subplots()\n",
    "\n",
    "for key, data in data_merge.groupby(\"phase\"):\n",
    "    sns.regplot(data=data.reset_index(), x=\"cft_latency\", y=dv, ax=ax, label=key)\n",
    "ax.legend()\n",
    "    \n",
    "fig.tight_layout()"
   ]
  },
  {
   "cell_type": "code",
   "execution_count": null,
   "metadata": {
    "tags": []
   },
   "outputs": [],
   "source": [
    "x = sm.add_constant(data_merge[\"cft_latency\"].unstack(\"phase\"))\n",
    "y = data_merge.xs(\"MIST1\", level=\"phase\")[dv]"
   ]
  },
  {
   "cell_type": "code",
   "execution_count": null,
   "metadata": {
    "tags": []
   },
   "outputs": [],
   "source": [
    "res = sm.OLS(y, x).fit()\n",
    "res.summary()"
   ]
  },
  {
   "cell_type": "markdown",
   "metadata": {},
   "source": [
    "## $CFT_{Latency}$ and Mood Response"
   ]
  },
  {
   "cell_type": "markdown",
   "metadata": {},
   "source": [
    "### Linear Regression"
   ]
  },
  {
   "cell_type": "code",
   "execution_count": null,
   "metadata": {
    "tags": []
   },
   "outputs": [],
   "source": [
    "phase = \"MIST1\"\n",
    "dv = \"MDBF_AwakeTired\""
   ]
  },
  {
   "cell_type": "code",
   "execution_count": null,
   "metadata": {
    "tags": []
   },
   "outputs": [],
   "source": [
    "data_analysis = data_merge.xs(phase, level=\"phase\")"
   ]
  },
  {
   "cell_type": "code",
   "execution_count": null,
   "metadata": {
    "tags": []
   },
   "outputs": [],
   "source": [
    "fig, ax = plt.subplots()\n",
    "\n",
    "sns.regplot(data=data_analysis.reset_index(), x=\"cft_latency\", y=dv, ax=ax, label=phase)\n",
    "ax.legend()\n",
    "\n",
    "fig.tight_layout()"
   ]
  },
  {
   "cell_type": "code",
   "execution_count": null,
   "metadata": {
    "tags": []
   },
   "outputs": [],
   "source": [
    "x = sm.add_constant(data_analysis[\"cft_latency\"])\n",
    "y = data_analysis[dv]"
   ]
  },
  {
   "cell_type": "code",
   "execution_count": null,
   "metadata": {
    "tags": []
   },
   "outputs": [],
   "source": [
    "res = sm.OLS(y, x).fit()\n",
    "res.summary()"
   ]
  },
  {
   "cell_type": "markdown",
   "metadata": {
    "tags": []
   },
   "source": [
    "### Multiple Linear Regression with $CFT_{Latency}$ of MIST"
   ]
  },
  {
   "cell_type": "code",
   "execution_count": null,
   "metadata": {
    "tags": []
   },
   "outputs": [],
   "source": [
    "data_analysis = data_merge.copy()\n",
    "data_analysis.head()"
   ]
  },
  {
   "cell_type": "code",
   "execution_count": null,
   "metadata": {
    "tags": []
   },
   "outputs": [],
   "source": [
    "fig, axs = plt.subplots(ncols=3, figsize=(10,5))\n",
    "\n",
    "\n",
    "for mood_var, ax in zip(data.filter(like=\"MDBF\"), axs):\n",
    "    legend_list = []\n",
    "    for key, data in data_analysis.groupby(\"phase\"):\n",
    "        sns.regplot(data=data.reset_index(), x=\"cft_latency\", y=mood_var, ax=ax, label=key)\n",
    "    ax.legend()\n",
    "    \n",
    "\n",
    "fig.tight_layout()"
   ]
  },
  {
   "cell_type": "code",
   "execution_count": null,
   "metadata": {
    "tags": []
   },
   "outputs": [],
   "source": [
    "for mood_dv in data_merge.filter(like=\"MDBF\"):\n",
    "    x = sm.add_constant(data_merge[\"cft_latency\"].unstack(\"phase\"))\n",
    "    y = data_merge.xs(\"MIST1\", level=\"phase\")[mood_dv]\n",
    "    res = sm.OLS(y, x).fit()\n",
    "    display(res.summary())"
   ]
  },
  {
   "cell_type": "code",
   "execution_count": null,
   "metadata": {},
   "outputs": [],
   "source": []
  }
 ],
 "metadata": {
  "kernelspec": {
   "display_name": "cft_analysis",
   "language": "python",
   "name": "cft_analysis"
  },
  "language_info": {
   "codemirror_mode": {
    "name": "ipython",
    "version": 3
   },
   "file_extension": ".py",
   "mimetype": "text/x-python",
   "name": "python",
   "nbconvert_exporter": "python",
   "pygments_lexer": "ipython3",
   "version": "3.9.13"
  }
 },
 "nbformat": 4,
 "nbformat_minor": 4
}
